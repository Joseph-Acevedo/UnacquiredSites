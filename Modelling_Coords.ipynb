{
 "cells": [
  {
   "cell_type": "code",
   "execution_count": 1,
   "metadata": {
    "jupyter": {
     "source_hidden": true
    }
   },
   "outputs": [],
   "source": [
    "%%capture\n",
    "\n",
    "%run ML_Record_Mining_JN.ipynb"
   ]
  },
  {
   "cell_type": "code",
   "execution_count": 2,
   "metadata": {
    "jupyter": {
     "source_hidden": true
    }
   },
   "outputs": [],
   "source": [
    "# Loading libraries for modeling\n",
    "import matplotlib.pyplot as plt\n",
    "\n",
    "from sklearn.linear_model import LinearRegression, LogisticRegression\n",
    "from sklearn.svm import SVC\n",
    "from sklearn.tree import DecisionTreeClassifier\n",
    "from sklearn.model_selection import train_test_split\n",
    "from sklearn.feature_extraction.text import CountVectorizer\n",
    "from sklearn.neighbors import KNeighborsClassifier\n",
    "from sklearn.ensemble import RandomForestClassifier\n",
    "from sklearn.neural_network import MLPClassifier\n",
    "from sklearn.metrics import confusion_matrix\n",
    "\n",
    "import nltk\n",
    "from nltk.tokenize import sent_tokenize, word_tokenize\n",
    "from nltk.corpus import stopwords\n",
    "\n",
    "import time\n",
    "\n",
    "import os\n",
    "path = r'/Users/seiryu8808/Desktop/UWinsc/Github/UnacquiredSites/src/output'\n",
    "\n",
    "# Options\n",
    "pd.options.mode.chained_assignment = None"
   ]
  },
  {
   "cell_type": "markdown",
   "metadata": {},
   "source": [
    "## Simple Modeling for Latitude and Longitude Coordinates"
   ]
  },
  {
   "cell_type": "markdown",
   "metadata": {},
   "source": [
    "First, we need to encode the text data into vectors in order to apply a Classification algorithm."
   ]
  },
  {
   "cell_type": "code",
   "execution_count": 3,
   "metadata": {},
   "outputs": [],
   "source": [
    "data = nlp_bib_neotoma[['_gddid', 'sentid', 'words', 'words_as_string', 'dms_regex', 'dd_regex', 'latnorth', 'longeast', 'intersection_words_lat', 'intersection_words_long']]"
   ]
  },
  {
   "cell_type": "code",
   "execution_count": 4,
   "metadata": {},
   "outputs": [],
   "source": [
    "data['has_both_lat_long_int'] = ((data['intersection_words_lat'].apply(len) != 0) & (data['intersection_words_long'].apply(len) != 0 ))\n",
    "\n",
    "# Map True to One and False to Zero\n",
    "data['has_both_lat_long_int'] = data['has_both_lat_long_int'].astype(int)\n",
    "\n",
    "# Reduce data to columns of interest for this task.\n",
    "data = data[['words_as_string', 'has_both_lat_long_int']]\n",
    "\n",
    "# Define corpus for CountVectorizer\n",
    "corpus = data['words_as_string'].tolist()\n",
    "\n",
    "# Split data into training and testing sets\n",
    "data_train, data_test = train_test_split(data, test_size = 0.20, random_state = 12)\n",
    "\n",
    "# Translate words to vectors\n",
    "# This model can add stopwords, punctuation, etc.\n",
    "# For now, use all words.\n",
    "vec = CountVectorizer(min_df=2, \n",
    "                      tokenizer=nltk.word_tokenize)\n",
    "\n",
    "# Fit and transform training\n",
    "X_train = vec.fit_transform(data_train['words_as_string']) \n",
    "y_train = data_train['has_both_lat_long_int']\n",
    "\n",
    "# Transform test data without fitting\n",
    "X_test = vec.transform(data_test['words_as_string']) \n",
    "y_test = data_test['has_both_lat_long_int']"
   ]
  },
  {
   "cell_type": "markdown",
   "metadata": {},
   "source": [
    "Let's try to fit into different models to see which one renders the best performance. Take into consideration that this model will eventually be escalated to a bigger amount of data."
   ]
  },
  {
   "cell_type": "code",
   "execution_count": 6,
   "metadata": {},
   "outputs": [],
   "source": [
    "classifiers = {\n",
    "#    'knn'           : KNeighborsClassifier(),\n",
    "    'decision tree' : DecisionTreeClassifier(random_state = 0, max_depth = 15),\n",
    "    'random forest' : RandomForestClassifier(n_estimators = 10)\n",
    "#    'SVM'           : SVC(C = 100, gamma = \"scale\"),\n",
    "#    'logistic reg'  : LogisticRegression(solver=\"lbfgs\", max_iter = 10000)\n",
    "}"
   ]
  },
  {
   "cell_type": "code",
   "execution_count": 7,
   "metadata": {},
   "outputs": [],
   "source": [
    "def create_scores(classifiers = classifiers, X_train = X_train, y_train = y_train, X_test = X_test, y_test = y_test):\n",
    "    train_scores = dict()\n",
    "    test_scores = dict()\n",
    "    training_times = dict()\n",
    "\n",
    "    for classifier_name, classifier_obj in classifiers.items():\n",
    "     #   print(\"Fitting\", classifier_name)\n",
    "        t = time.time()\n",
    "        classifier_obj.fit(X_train, y_train)\n",
    "\n",
    "        training_times[classifier_name] = time.time() - t\n",
    "        train_scores[classifier_name] = classifier_obj.score(X_train, y_train)\n",
    "        test_scores[classifier_name] = classifier_obj.score(X_test, y_test)\n",
    "\n",
    "    data = {\"train acc\": train_scores, \"valid acc\" : test_scores, \"training time (s)\" : training_times}\n",
    "    df = pd.DataFrame(data, columns = data.keys())\n",
    "    df.index = list(classifiers.keys())\n",
    "    return df"
   ]
  },
  {
   "cell_type": "code",
   "execution_count": 8,
   "metadata": {},
   "outputs": [
    {
     "data": {
      "text/html": [
       "<div>\n",
       "<style scoped>\n",
       "    .dataframe tbody tr th:only-of-type {\n",
       "        vertical-align: middle;\n",
       "    }\n",
       "\n",
       "    .dataframe tbody tr th {\n",
       "        vertical-align: top;\n",
       "    }\n",
       "\n",
       "    .dataframe thead th {\n",
       "        text-align: right;\n",
       "    }\n",
       "</style>\n",
       "<table border=\"1\" class=\"dataframe\">\n",
       "  <thead>\n",
       "    <tr style=\"text-align: right;\">\n",
       "      <th></th>\n",
       "      <th>train acc</th>\n",
       "      <th>valid acc</th>\n",
       "      <th>training time (s)</th>\n",
       "    </tr>\n",
       "  </thead>\n",
       "  <tbody>\n",
       "    <tr>\n",
       "      <td>decision tree</td>\n",
       "      <td>0.999179</td>\n",
       "      <td>0.998078</td>\n",
       "      <td>0.900773</td>\n",
       "    </tr>\n",
       "    <tr>\n",
       "      <td>random forest</td>\n",
       "      <td>0.999543</td>\n",
       "      <td>0.997656</td>\n",
       "      <td>0.942989</td>\n",
       "    </tr>\n",
       "  </tbody>\n",
       "</table>\n",
       "</div>"
      ],
      "text/plain": [
       "               train acc  valid acc  training time (s)\n",
       "decision tree   0.999179   0.998078           0.900773\n",
       "random forest   0.999543   0.997656           0.942989"
      ]
     },
     "execution_count": 8,
     "metadata": {},
     "output_type": "execute_result"
    }
   ],
   "source": [
    "scores_df = create_scores()\n",
    "scores_df"
   ]
  },
  {
   "cell_type": "markdown",
   "metadata": {},
   "source": [
    "We can see there is overfitting happening, since all testing scores are too good to be true.   \n",
    "We also have to take into consideration that just 230 sentences have both coordinates out of over 100,000.   \n",
    "With this data unbalance, guessing 0 over all sentences would still be a very high accuracy."
   ]
  },
  {
   "cell_type": "markdown",
   "metadata": {},
   "source": [
    "## Checking different scores such as confusion matrices\n",
    "\n",
    "From the above matrix, we can see that SVM and Logistic Regression are computationally expensive. Taking into consideration that this experiment will eventually be scaled to a larger data set, let's discard these two methods. \n",
    "\n",
    "One way to know if a method is not missclassifying items, would be to check the confusion matrix and see how many false possitives or false negatives it has."
   ]
  },
  {
   "cell_type": "code",
   "execution_count": 9,
   "metadata": {},
   "outputs": [
    {
     "name": "stdout",
     "output_type": "stream",
     "text": [
      "Confusion Matrix decision tree\n",
      "[21272     4    37    15]\n",
      "Confusion Matrix random forest\n",
      "[21276     0    51     1]\n"
     ]
    }
   ],
   "source": [
    "for classifier_name, classifier_obj in classifiers.items():\n",
    "    print(\"Confusion Matrix\", classifier_name)\n",
    "    classifier_obj.fit(X_train, y_train)\n",
    "    y_pred = classifier_obj.predict(X_test)\n",
    "    conf_mat = confusion_matrix(y_test, y_pred).ravel()\n",
    "    print(conf_mat)"
   ]
  },
  {
   "cell_type": "markdown",
   "metadata": {},
   "source": [
    "Although the random forest seems to have no false positives, it has 11 more false negatives. True positives are being completely missed. \n",
    "So, although it is faster to train, it is not a good model.\n",
    "\n",
    "Let's then work with Decission Tree classifier and tune it to find the best parameters."
   ]
  },
  {
   "cell_type": "code",
   "execution_count": 10,
   "metadata": {},
   "outputs": [],
   "source": [
    "pd.options.display.float_format = '{:,.5f}'.format"
   ]
  },
  {
   "cell_type": "code",
   "execution_count": 11,
   "metadata": {},
   "outputs": [
    {
     "data": {
      "text/html": [
       "<div>\n",
       "<style scoped>\n",
       "    .dataframe tbody tr th:only-of-type {\n",
       "        vertical-align: middle;\n",
       "    }\n",
       "\n",
       "    .dataframe tbody tr th {\n",
       "        vertical-align: top;\n",
       "    }\n",
       "\n",
       "    .dataframe thead th {\n",
       "        text-align: right;\n",
       "    }\n",
       "</style>\n",
       "<table border=\"1\" class=\"dataframe\">\n",
       "  <thead>\n",
       "    <tr style=\"text-align: right;\">\n",
       "      <th></th>\n",
       "      <th>sample_size</th>\n",
       "      <th>train_accuracy</th>\n",
       "      <th>test_accuracy</th>\n",
       "    </tr>\n",
       "  </thead>\n",
       "  <tbody>\n",
       "    <tr>\n",
       "      <td>0</td>\n",
       "      <td>2</td>\n",
       "      <td>1.00000</td>\n",
       "      <td>0.99789</td>\n",
       "    </tr>\n",
       "    <tr>\n",
       "      <td>1</td>\n",
       "      <td>22</td>\n",
       "      <td>0.99924</td>\n",
       "      <td>0.99803</td>\n",
       "    </tr>\n",
       "    <tr>\n",
       "      <td>2</td>\n",
       "      <td>42</td>\n",
       "      <td>0.99916</td>\n",
       "      <td>0.99798</td>\n",
       "    </tr>\n",
       "    <tr>\n",
       "      <td>3</td>\n",
       "      <td>62</td>\n",
       "      <td>0.99912</td>\n",
       "      <td>0.99789</td>\n",
       "    </tr>\n",
       "    <tr>\n",
       "      <td>4</td>\n",
       "      <td>82</td>\n",
       "      <td>0.99904</td>\n",
       "      <td>0.99784</td>\n",
       "    </tr>\n",
       "    <tr>\n",
       "      <td>5</td>\n",
       "      <td>102</td>\n",
       "      <td>0.99889</td>\n",
       "      <td>0.99761</td>\n",
       "    </tr>\n",
       "    <tr>\n",
       "      <td>6</td>\n",
       "      <td>122</td>\n",
       "      <td>0.99889</td>\n",
       "      <td>0.99761</td>\n",
       "    </tr>\n",
       "    <tr>\n",
       "      <td>7</td>\n",
       "      <td>142</td>\n",
       "      <td>0.99889</td>\n",
       "      <td>0.99756</td>\n",
       "    </tr>\n",
       "    <tr>\n",
       "      <td>8</td>\n",
       "      <td>162</td>\n",
       "      <td>0.99889</td>\n",
       "      <td>0.99770</td>\n",
       "    </tr>\n",
       "    <tr>\n",
       "      <td>9</td>\n",
       "      <td>182</td>\n",
       "      <td>0.99879</td>\n",
       "      <td>0.99761</td>\n",
       "    </tr>\n",
       "  </tbody>\n",
       "</table>\n",
       "</div>"
      ],
      "text/plain": [
       "   sample_size  train_accuracy  test_accuracy\n",
       "0            2         1.00000        0.99789\n",
       "1           22         0.99924        0.99803\n",
       "2           42         0.99916        0.99798\n",
       "3           62         0.99912        0.99789\n",
       "4           82         0.99904        0.99784\n",
       "5          102         0.99889        0.99761\n",
       "6          122         0.99889        0.99761\n",
       "7          142         0.99889        0.99756\n",
       "8          162         0.99889        0.99770\n",
       "9          182         0.99879        0.99761"
      ]
     },
     "execution_count": 11,
     "metadata": {},
     "output_type": "execute_result"
    }
   ],
   "source": [
    "min_samples_split_dict = {'sample_size':[], 'train_accuracy':[], 'test_accuracy' :[]}\n",
    "\n",
    "for nsamples in range(2,200,20):\n",
    "    model = DecisionTreeClassifier(min_samples_split = nsamples)\n",
    "    model.fit(X_train, y_train)\n",
    "    score = model.score(X_train,y_train)\n",
    "    test_score = model.score(X_test,y_test)\n",
    "    min_samples_split_dict['sample_size'].append(nsamples)    \n",
    "    min_samples_split_dict['train_accuracy'].append(score)\n",
    "    min_samples_split_dict['test_accuracy'].append(test_score)\n",
    "    \n",
    "min_samples_split_df = pd.DataFrame(min_samples_split_dict)\n",
    "min_samples_split_df"
   ]
  },
  {
   "cell_type": "code",
   "execution_count": 12,
   "metadata": {},
   "outputs": [
    {
     "data": {
      "text/html": [
       "<div>\n",
       "<style scoped>\n",
       "    .dataframe tbody tr th:only-of-type {\n",
       "        vertical-align: middle;\n",
       "    }\n",
       "\n",
       "    .dataframe tbody tr th {\n",
       "        vertical-align: top;\n",
       "    }\n",
       "\n",
       "    .dataframe thead th {\n",
       "        text-align: right;\n",
       "    }\n",
       "</style>\n",
       "<table border=\"1\" class=\"dataframe\">\n",
       "  <thead>\n",
       "    <tr style=\"text-align: right;\">\n",
       "      <th></th>\n",
       "      <th>max_depth</th>\n",
       "      <th>train_accuracy</th>\n",
       "      <th>test_accuracy</th>\n",
       "    </tr>\n",
       "  </thead>\n",
       "  <tbody>\n",
       "    <tr>\n",
       "      <td>0</td>\n",
       "      <td>2</td>\n",
       "      <td>0.99797</td>\n",
       "      <td>0.99766</td>\n",
       "    </tr>\n",
       "    <tr>\n",
       "      <td>1</td>\n",
       "      <td>12</td>\n",
       "      <td>0.99905</td>\n",
       "      <td>0.99789</td>\n",
       "    </tr>\n",
       "    <tr>\n",
       "      <td>2</td>\n",
       "      <td>22</td>\n",
       "      <td>0.99928</td>\n",
       "      <td>0.99803</td>\n",
       "    </tr>\n",
       "    <tr>\n",
       "      <td>3</td>\n",
       "      <td>32</td>\n",
       "      <td>0.99940</td>\n",
       "      <td>0.99798</td>\n",
       "    </tr>\n",
       "    <tr>\n",
       "      <td>4</td>\n",
       "      <td>42</td>\n",
       "      <td>0.99952</td>\n",
       "      <td>0.99808</td>\n",
       "    </tr>\n",
       "    <tr>\n",
       "      <td>5</td>\n",
       "      <td>52</td>\n",
       "      <td>0.99962</td>\n",
       "      <td>0.99794</td>\n",
       "    </tr>\n",
       "    <tr>\n",
       "      <td>6</td>\n",
       "      <td>62</td>\n",
       "      <td>0.99974</td>\n",
       "      <td>0.99784</td>\n",
       "    </tr>\n",
       "    <tr>\n",
       "      <td>7</td>\n",
       "      <td>72</td>\n",
       "      <td>0.99987</td>\n",
       "      <td>0.99780</td>\n",
       "    </tr>\n",
       "    <tr>\n",
       "      <td>8</td>\n",
       "      <td>82</td>\n",
       "      <td>0.99999</td>\n",
       "      <td>0.99794</td>\n",
       "    </tr>\n",
       "    <tr>\n",
       "      <td>9</td>\n",
       "      <td>92</td>\n",
       "      <td>1.00000</td>\n",
       "      <td>0.99770</td>\n",
       "    </tr>\n",
       "  </tbody>\n",
       "</table>\n",
       "</div>"
      ],
      "text/plain": [
       "   max_depth  train_accuracy  test_accuracy\n",
       "0          2         0.99797        0.99766\n",
       "1         12         0.99905        0.99789\n",
       "2         22         0.99928        0.99803\n",
       "3         32         0.99940        0.99798\n",
       "4         42         0.99952        0.99808\n",
       "5         52         0.99962        0.99794\n",
       "6         62         0.99974        0.99784\n",
       "7         72         0.99987        0.99780\n",
       "8         82         0.99999        0.99794\n",
       "9         92         1.00000        0.99770"
      ]
     },
     "execution_count": 12,
     "metadata": {},
     "output_type": "execute_result"
    }
   ],
   "source": [
    "max_depth_dict = {'max_depth':[], 'train_accuracy':[], 'test_accuracy':[]}\n",
    "\n",
    "for nsamples in range(2,100,10):\n",
    "    model = DecisionTreeClassifier(max_depth = nsamples)\n",
    "    model.fit(X_train, y_train)\n",
    "    score = model.score(X_train,y_train)\n",
    "    test_sc = model.score(X_test, y_test)\n",
    "    max_depth_dict['max_depth'].append(nsamples)    \n",
    "    max_depth_dict['train_accuracy'].append(score)\n",
    "    max_depth_dict['test_accuracy'].append(test_sc)\n",
    "    \n",
    "max_depth_df = pd.DataFrame(max_depth_dict)\n",
    "max_depth_df"
   ]
  },
  {
   "cell_type": "code",
   "execution_count": 13,
   "metadata": {},
   "outputs": [],
   "source": [
    "clf = DecisionTreeClassifier(min_samples_split = 40, max_depth = 12)"
   ]
  },
  {
   "cell_type": "code",
   "execution_count": 14,
   "metadata": {},
   "outputs": [
    {
     "data": {
      "text/plain": [
       "DecisionTreeClassifier(class_weight=None, criterion='gini', max_depth=12,\n",
       "                       max_features=None, max_leaf_nodes=None,\n",
       "                       min_impurity_decrease=0.0, min_impurity_split=None,\n",
       "                       min_samples_leaf=1, min_samples_split=40,\n",
       "                       min_weight_fraction_leaf=0.0, presort=False,\n",
       "                       random_state=None, splitter='best')"
      ]
     },
     "execution_count": 14,
     "metadata": {},
     "output_type": "execute_result"
    }
   ],
   "source": [
    "clf.fit(X_train, y_train)"
   ]
  },
  {
   "cell_type": "markdown",
   "metadata": {},
   "source": [
    "Having chosen our hyperparameters, let's examine which features are the most important features."
   ]
  },
  {
   "cell_type": "code",
   "execution_count": 15,
   "metadata": {},
   "outputs": [],
   "source": [
    "# See which features are considered important\n",
    "f_imp = clf.feature_importances_\n",
    "\n",
    "feature_importance = 100.0 * (f_imp / f_imp.max())\n",
    "feature_names = vec.get_feature_names()"
   ]
  },
  {
   "cell_type": "code",
   "execution_count": 16,
   "metadata": {},
   "outputs": [],
   "source": [
    "# A holder for feature_name: feature_importance\n",
    "feats = {} \n",
    "for feature, importance in zip(feature_names, feature_importance):\n",
    "    feats[feature] = importance #add the name/value pair"
   ]
  },
  {
   "cell_type": "code",
   "execution_count": 17,
   "metadata": {},
   "outputs": [
    {
     "data": {
      "text/plain": [
       "<matplotlib.axes._subplots.AxesSubplot at 0x7ff5ea5fbf10>"
      ]
     },
     "execution_count": 17,
     "metadata": {},
     "output_type": "execute_result"
    },
    {
     "data": {
      "image/png": "[encoded data removed]",
      "text/plain": [
       "<Figure size 432x288 with 1 Axes>"
      ]
     },
     "metadata": {
      "needs_background": "light"
     },
     "output_type": "display_data"
    }
   ],
   "source": [
    "importances = pd.DataFrame.from_dict(feats, orient='index').rename(columns={0: 'Gini-importance'})\n",
    "importances.sort_values(by='Gini-importance', ascending=False)[:12].plot(kind='bar', rot=45)"
   ]
  },
  {
   "cell_type": "code",
   "execution_count": 18,
   "metadata": {},
   "outputs": [],
   "source": [
    "y_pred = clf.predict(X_test)"
   ]
  },
  {
   "cell_type": "code",
   "execution_count": 19,
   "metadata": {},
   "outputs": [
    {
     "data": {
      "text/plain": [
       "0.9980307576894224"
      ]
     },
     "execution_count": 19,
     "metadata": {},
     "output_type": "execute_result"
    }
   ],
   "source": [
    "clf.score(X_test, y_test)"
   ]
  },
  {
   "cell_type": "code",
   "execution_count": 20,
   "metadata": {},
   "outputs": [
    {
     "data": {
      "text/plain": [
       "array([21273,     3,    39,    13])"
      ]
     },
     "execution_count": 20,
     "metadata": {},
     "output_type": "execute_result"
    }
   ],
   "source": [
    "confusion_matrix(y_test, y_pred).ravel()"
   ]
  },
  {
   "cell_type": "code",
   "execution_count": 22,
   "metadata": {},
   "outputs": [],
   "source": [
    "# Export csv to compare y_pred and y_test labels\n",
    "guessed_label = pd.DataFrame(y_pred)\n",
    "actual_label = pd.DataFrame(y_test)\n",
    "actual_label = actual_label.reset_index()\n",
    "\n",
    "# Join with sentences\n",
    "original_sentence = pd.DataFrame(data_test['words_as_string'])\n",
    "original_sentence = original_sentence .reset_index()\n",
    "\n",
    "comparison_df = guessed_label.join(actual_label)\n",
    "comparison_df = comparison_df.drop(columns=['index'])\n",
    "\n",
    "comparison_df = comparison_df.join(original_sentence)\n",
    "comparison_df = comparison_df.drop(columns=['index'])"
   ]
  },
  {
   "cell_type": "code",
   "execution_count": 23,
   "metadata": {},
   "outputs": [],
   "source": [
    "output_file = os.path.join(path,'modeled_sentences.tsv')\n",
    "comparison_df.to_csv(output_file, sep='\\t', index = False)"
   ]
  },
  {
   "cell_type": "markdown",
   "metadata": {},
   "source": [
    "One of the reasons for such a poor classification with the False Negatives, it is because data  is too unbalanced. \n",
    "\n",
    "We are going to address that problem now."
   ]
  },
  {
   "cell_type": "markdown",
   "metadata": {},
   "source": [
    "### Balancing DataSet\n",
    "\n",
    "Although usually more data is better, we have a very few number of sentences that satisfy the condition of having \"coordinates\".\n",
    "\n",
    "In order to balance training, I will only take 300 random sentences that have no coordinates. This will be even with sentences that have coordinates and maybe this will create less noise. "
   ]
  },
  {
   "cell_type": "code",
   "execution_count": 24,
   "metadata": {},
   "outputs": [],
   "source": [
    "data = nlp_bib_neotoma[['_gddid', 'sentid', 'words', 'words_as_string', 'dms_regex', 'dd_regex', 'latnorth', 'longeast', 'intersection_words_lat', 'intersection_words_long']]"
   ]
  },
  {
   "cell_type": "code",
   "execution_count": 25,
   "metadata": {},
   "outputs": [],
   "source": [
    "data['has_both_lat_long_int'] = ((data['intersection_words_lat'].apply(len) != 0) & (data['intersection_words_long'].apply(len) != 0 ))\n",
    "\n",
    "# Map True to One and False to Zero\n",
    "data['has_both_lat_long_int'] = data['has_both_lat_long_int'].astype(int)"
   ]
  },
  {
   "cell_type": "code",
   "execution_count": 26,
   "metadata": {},
   "outputs": [],
   "source": [
    "# Reduce data to columns of interest\n",
    "data = data[['words_as_string', 'has_both_lat_long_int']]"
   ]
  },
  {
   "cell_type": "code",
   "execution_count": 27,
   "metadata": {},
   "outputs": [
    {
     "data": {
      "text/html": [
       "<div>\n",
       "<style scoped>\n",
       "    .dataframe tbody tr th:only-of-type {\n",
       "        vertical-align: middle;\n",
       "    }\n",
       "\n",
       "    .dataframe tbody tr th {\n",
       "        vertical-align: top;\n",
       "    }\n",
       "\n",
       "    .dataframe thead th {\n",
       "        text-align: right;\n",
       "    }\n",
       "</style>\n",
       "<table border=\"1\" class=\"dataframe\">\n",
       "  <thead>\n",
       "    <tr style=\"text-align: right;\">\n",
       "      <th></th>\n",
       "      <th>words_as_string</th>\n",
       "      <th>has_both_lat_long_int</th>\n",
       "    </tr>\n",
       "  </thead>\n",
       "  <tbody>\n",
       "    <tr>\n",
       "      <td>70856</td>\n",
       "      <td>Calluna,vulgaris,is,a,peculiar,vegetation,elem...</td>\n",
       "      <td>0</td>\n",
       "    </tr>\n",
       "    <tr>\n",
       "      <td>6166</td>\n",
       "      <td>-LRB-,Fig.,2,-RRB-,.</td>\n",
       "      <td>0</td>\n",
       "    </tr>\n",
       "  </tbody>\n",
       "</table>\n",
       "</div>"
      ],
      "text/plain": [
       "                                         words_as_string  \\\n",
       "70856  Calluna,vulgaris,is,a,peculiar,vegetation,elem...   \n",
       "6166                                -LRB-,Fig.,2,-RRB-,.   \n",
       "\n",
       "       has_both_lat_long_int  \n",
       "70856                      0  \n",
       "6166                       0  "
      ]
     },
     "execution_count": 27,
     "metadata": {},
     "output_type": "execute_result"
    }
   ],
   "source": [
    "from random import shuffle\n",
    "data0 = data[data['has_both_lat_long_int'] == 0]\n",
    "data0 = data0.sample(n = 300)\n",
    "data1 = data[data['has_both_lat_long_int'] == 1]\n",
    "data = pd.concat([data0, data1])\n",
    "data.head(2)"
   ]
  },
  {
   "cell_type": "code",
   "execution_count": 28,
   "metadata": {},
   "outputs": [],
   "source": [
    "# Define corpus for CountVectorizer\n",
    "corpus = data['words_as_string'].tolist()\n",
    "\n",
    "# Split data into training and testing sets\n",
    "data_train, data_test = train_test_split(data, test_size = 0.20, random_state = 12)"
   ]
  },
  {
   "cell_type": "code",
   "execution_count": 29,
   "metadata": {},
   "outputs": [],
   "source": [
    "# Translate words to vectors\n",
    "# This model can add stopwords, punctuation, etc.\n",
    "# For now, use all words.\n",
    "vec = CountVectorizer(min_df=2, \n",
    "                      tokenizer=nltk.word_tokenize)\n",
    "\n",
    "# Fit and transform training\n",
    "X_train = vec.fit_transform(data_train['words_as_string']) \n",
    "y_train = data_train['has_both_lat_long_int']\n",
    "\n",
    "# Transform test data without fitting\n",
    "X_test = vec.transform(data_test['words_as_string']) \n",
    "y_test = data_test['has_both_lat_long_int']"
   ]
  },
  {
   "cell_type": "markdown",
   "metadata": {},
   "source": [
    "Using same model since we are just comparing 'Data Balancing'"
   ]
  },
  {
   "cell_type": "code",
   "execution_count": 30,
   "metadata": {},
   "outputs": [
    {
     "data": {
      "text/plain": [
       "DecisionTreeClassifier(class_weight=None, criterion='gini', max_depth=12,\n",
       "                       max_features=None, max_leaf_nodes=None,\n",
       "                       min_impurity_decrease=0.0, min_impurity_split=None,\n",
       "                       min_samples_leaf=1, min_samples_split=40,\n",
       "                       min_weight_fraction_leaf=0.0, presort=False,\n",
       "                       random_state=None, splitter='best')"
      ]
     },
     "execution_count": 30,
     "metadata": {},
     "output_type": "execute_result"
    }
   ],
   "source": [
    "clf.fit(X_train, y_train)"
   ]
  },
  {
   "cell_type": "code",
   "execution_count": 31,
   "metadata": {},
   "outputs": [
    {
     "data": {
      "text/plain": [
       "0.9150943396226415"
      ]
     },
     "execution_count": 31,
     "metadata": {},
     "output_type": "execute_result"
    }
   ],
   "source": [
    "clf.score(X_test, y_test)"
   ]
  },
  {
   "cell_type": "code",
   "execution_count": 32,
   "metadata": {},
   "outputs": [
    {
     "data": {
      "text/plain": [
       "0.964622641509434"
      ]
     },
     "execution_count": 32,
     "metadata": {},
     "output_type": "execute_result"
    }
   ],
   "source": [
    "clf.score(X_train, y_train)"
   ]
  },
  {
   "cell_type": "code",
   "execution_count": 33,
   "metadata": {},
   "outputs": [],
   "source": [
    "# See which features are considered important\n",
    "f_imp = clf.feature_importances_\n",
    "feature_importance = 100.0 * (f_imp / f_imp.max())\n",
    "feature_names = vec.get_feature_names()"
   ]
  },
  {
   "cell_type": "code",
   "execution_count": 34,
   "metadata": {},
   "outputs": [],
   "source": [
    "# A holder for feature_name: feature_importance\n",
    "feats = {} \n",
    "for feature, importance in zip(feature_names, feature_importance):\n",
    "    feats[feature] = importance #add the name/value pair"
   ]
  },
  {
   "cell_type": "code",
   "execution_count": 35,
   "metadata": {},
   "outputs": [
    {
     "data": {
      "text/plain": [
       "<matplotlib.axes._subplots.AxesSubplot at 0x7ff5ea630bd0>"
      ]
     },
     "execution_count": 35,
     "metadata": {},
     "output_type": "execute_result"
    },
    {
     "data": {
      "image/png": "[encoded data removed]",
      "text/plain": [
       "<Figure size 432x288 with 1 Axes>"
      ]
     },
     "metadata": {
      "needs_background": "light"
     },
     "output_type": "display_data"
    }
   ],
   "source": [
    "importances = pd.DataFrame.from_dict(feats, orient='index').rename(columns={0: 'Gini-importance'})\n",
    "importances.sort_values(by='Gini-importance', ascending=False)[:12].plot(kind='bar', rot=45)"
   ]
  },
  {
   "cell_type": "code",
   "execution_count": 37,
   "metadata": {},
   "outputs": [
    {
     "data": {
      "text/html": [
       "<div>\n",
       "<style scoped>\n",
       "    .dataframe tbody tr th:only-of-type {\n",
       "        vertical-align: middle;\n",
       "    }\n",
       "\n",
       "    .dataframe tbody tr th {\n",
       "        vertical-align: top;\n",
       "    }\n",
       "\n",
       "    .dataframe thead th {\n",
       "        text-align: right;\n",
       "    }\n",
       "</style>\n",
       "<table border=\"1\" class=\"dataframe\">\n",
       "  <thead>\n",
       "    <tr style=\"text-align: right;\">\n",
       "      <th></th>\n",
       "      <th>Gini-importance</th>\n",
       "    </tr>\n",
       "  </thead>\n",
       "  <tbody>\n",
       "    <tr>\n",
       "      <td>,</td>\n",
       "      <td>100.00000</td>\n",
       "    </tr>\n",
       "    <tr>\n",
       "      <td>n</td>\n",
       "      <td>34.48176</td>\n",
       "    </tr>\n",
       "    <tr>\n",
       "      <td>m</td>\n",
       "      <td>11.93805</td>\n",
       "    </tr>\n",
       "    <tr>\n",
       "      <td>occur</td>\n",
       "      <td>6.07302</td>\n",
       "    </tr>\n",
       "    <tr>\n",
       "      <td>located</td>\n",
       "      <td>5.56962</td>\n",
       "    </tr>\n",
       "    <tr>\n",
       "      <td>...</td>\n",
       "      <td>...</td>\n",
       "    </tr>\n",
       "    <tr>\n",
       "      <td>comes</td>\n",
       "      <td>3.84137</td>\n",
       "    </tr>\n",
       "    <tr>\n",
       "      <td>;</td>\n",
       "      <td>3.44913</td>\n",
       "    </tr>\n",
       "    <tr>\n",
       "      <td>the</td>\n",
       "      <td>3.20784</td>\n",
       "    </tr>\n",
       "    <tr>\n",
       "      <td>los</td>\n",
       "      <td>2.11627</td>\n",
       "    </tr>\n",
       "    <tr>\n",
       "      <td>ecological</td>\n",
       "      <td>2.08570</td>\n",
       "    </tr>\n",
       "  </tbody>\n",
       "</table>\n",
       "<p>15 rows × 1 columns</p>\n",
       "</div>"
      ],
      "text/plain": [
       "            Gini-importance\n",
       ",                 100.00000\n",
       "n                  34.48176\n",
       "m                  11.93805\n",
       "occur               6.07302\n",
       "located             5.56962\n",
       "...                     ...\n",
       "comes               3.84137\n",
       ";                   3.44913\n",
       "the                 3.20784\n",
       "los                 2.11627\n",
       "ecological          2.08570\n",
       "\n",
       "[15 rows x 1 columns]"
      ]
     },
     "execution_count": 37,
     "metadata": {},
     "output_type": "execute_result"
    }
   ],
   "source": [
    "importances.sort_values(by='Gini-importance', ascending = False)[0:15]"
   ]
  },
  {
   "cell_type": "code",
   "execution_count": 41,
   "metadata": {},
   "outputs": [
    {
     "data": {
      "text/plain": [
       "array([53,  4,  5, 44])"
      ]
     },
     "execution_count": 41,
     "metadata": {},
     "output_type": "execute_result"
    }
   ],
   "source": [
    "y_pred = clf.predict(X_test)\n",
    "confusion_matrix(y_test, y_pred).ravel()"
   ]
  },
  {
   "cell_type": "markdown",
   "metadata": {},
   "source": [
    "We can see that we have improved significantly the percentage of True Positives and True Negatives."
   ]
  },
  {
   "cell_type": "code",
   "execution_count": 42,
   "metadata": {},
   "outputs": [
    {
     "data": {
      "text/plain": [
       "9"
      ]
     },
     "execution_count": 42,
     "metadata": {},
     "output_type": "execute_result"
    }
   ],
   "source": [
    "Y_pred = clf.predict(X_test)\n",
    "mse = sum((Y_pred - y_test)**2)\n",
    "mse"
   ]
  },
  {
   "cell_type": "code",
   "execution_count": 44,
   "metadata": {},
   "outputs": [],
   "source": [
    "guessed_label = pd.DataFrame(Y_pred)\n",
    "actual_label = pd.DataFrame(y_test)\n",
    "actual_label = actual_label.reset_index()\n",
    "\n",
    "original_sentence = pd.DataFrame(data_test['words_as_string'])\n",
    "original_sentence = original_sentence .reset_index()\n",
    "\n",
    "comp_guessed_test_sm = guessed_label.join(actual_label)\n",
    "comp_guessed_test_sm = comp_guessed_test_sm.drop(columns=['index'])\n",
    "\n",
    "comp_guessed_test_sm = comp_guessed_test_sm.join(original_sentence)\n",
    "comp_guessed_test_sm = comp_guessed_test_sm.drop(columns=['index'])\n",
    "# comp_guessed_test_sm"
   ]
  },
  {
   "cell_type": "code",
   "execution_count": 45,
   "metadata": {},
   "outputs": [],
   "source": [
    "import os\n",
    "output_file = os.path.join(path,'small_model_sentences.tsv')\n",
    "comp_guessed_test_sm.to_csv(output_file, sep='\\t', index = False)"
   ]
  },
  {
   "cell_type": "markdown",
   "metadata": {},
   "source": [
    "Conclusion for now:\n",
    "\n",
    "Use a Tree Classifier with a max depth of 12."
   ]
  },
  {
   "cell_type": "markdown",
   "metadata": {},
   "source": [
    "Notes: What about Word2Vec or GloVe embeddings?"
   ]
  },
  {
   "cell_type": "code",
   "execution_count": null,
   "metadata": {},
   "outputs": [],
   "source": []
  }
 ],
 "metadata": {
  "kernelspec": {
   "display_name": "Python 3",
   "language": "python",
   "name": "python3"
  },
  "language_info": {
   "codemirror_mode": {
    "name": "ipython",
    "version": 3
   },
   "file_extension": ".py",
   "mimetype": "text/x-python",
   "name": "python",
   "nbconvert_exporter": "python",
   "pygments_lexer": "ipython3",
   "version": "3.7.4"
  }
 },
 "nbformat": 4,
 "nbformat_minor": 4
}
