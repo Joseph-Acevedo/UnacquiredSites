{
 "cells": [
  {
   "cell_type": "code",
   "execution_count": 50,
   "metadata": {},
   "outputs": [],
   "source": [
    "import plotly.graph_objects as go\n",
    "import dash\n",
    "import numpy as np\n",
    "import pandas as pd\n",
    "\n",
    "import plotly.offline as pyo\n",
    "import dash_html_components as html\n",
    "import dash_core_components as dcc\n",
    "from dash.dependencies import State, Input, Output"
   ]
  },
  {
   "cell_type": "code",
   "execution_count": 12,
   "metadata": {},
   "outputs": [
    {
     "data": {
      "text/plain": [
       "'/Users/seiryu8808/Desktop/UWinsc/Github/UnacquiredSites/src/modules/dashboard'"
      ]
     },
     "execution_count": 12,
     "metadata": {},
     "output_type": "execute_result"
    }
   ],
   "source": [
    "import os\n",
    "os.getcwd()"
   ]
  },
  {
   "cell_type": "code",
   "execution_count": 51,
   "metadata": {},
   "outputs": [],
   "source": [
    "df = pd.read_csv('/Users/seiryu8808/Desktop/UWinsc/Github/UnacquiredSites/src/output/for_model/comparison_file.tsv', sep='\\t')"
   ]
  },
  {
   "cell_type": "code",
   "execution_count": 46,
   "metadata": {},
   "outputs": [
    {
     "data": {
      "text/html": [
       "<div>\n",
       "<style scoped>\n",
       "    .dataframe tbody tr th:only-of-type {\n",
       "        vertical-align: middle;\n",
       "    }\n",
       "\n",
       "    .dataframe tbody tr th {\n",
       "        vertical-align: top;\n",
       "    }\n",
       "\n",
       "    .dataframe thead th {\n",
       "        text-align: right;\n",
       "    }\n",
       "</style>\n",
       "<table border=\"1\" class=\"dataframe\">\n",
       "  <thead>\n",
       "    <tr style=\"text-align: right;\">\n",
       "      <th></th>\n",
       "      <th>prediction_proba</th>\n",
       "      <th>predicted_label</th>\n",
       "      <th>original_label</th>\n",
       "      <th>_gddid</th>\n",
       "      <th>sentid</th>\n",
       "      <th>sentence</th>\n",
       "      <th>found_lat</th>\n",
       "      <th>latnorth</th>\n",
       "      <th>found_long</th>\n",
       "      <th>longeast</th>\n",
       "      <th>found_sites</th>\n",
       "    </tr>\n",
       "  </thead>\n",
       "  <tbody>\n",
       "    <tr>\n",
       "      <td>2572</td>\n",
       "      <td>0.730769</td>\n",
       "      <td>1</td>\n",
       "      <td>1</td>\n",
       "      <td>54b43265e138239d8684ee39</td>\n",
       "      <td>24</td>\n",
       "      <td>We present high-resolution pollen and charcoal...</td>\n",
       "      <td>['41']</td>\n",
       "      <td>['41']</td>\n",
       "      <td>['71']</td>\n",
       "      <td>['71']</td>\n",
       "      <td>['padre', 'hué', 'laguna', 'huala']</td>\n",
       "    </tr>\n",
       "  </tbody>\n",
       "</table>\n",
       "</div>"
      ],
      "text/plain": [
       "      prediction_proba  predicted_label  original_label  \\\n",
       "2572          0.730769                1               1   \n",
       "\n",
       "                        _gddid  sentid  \\\n",
       "2572  54b43265e138239d8684ee39      24   \n",
       "\n",
       "                                               sentence found_lat latnorth  \\\n",
       "2572  We present high-resolution pollen and charcoal...    ['41']   ['41']   \n",
       "\n",
       "     found_long longeast                          found_sites  \n",
       "2572     ['71']   ['71']  ['padre', 'hué', 'laguna', 'huala']  "
      ]
     },
     "execution_count": 46,
     "metadata": {},
     "output_type": "execute_result"
    }
   ],
   "source": [
    "df[df['predicted_label'] == 1].head(1)"
   ]
  },
  {
   "cell_type": "code",
   "execution_count": 15,
   "metadata": {},
   "outputs": [],
   "source": [
    "def datagen():\n",
    "\n",
    "    Base_Data = pd.read_csv('/Users/seiryu8808/Desktop/UWinsc/Github/UnacquiredSites/src/output/for_model/comparison_file.tsv', sep='\\t')\n",
    "    \n",
    "    return(Base_Data)"
   ]
  },
  {
   "cell_type": "code",
   "execution_count": 20,
   "metadata": {},
   "outputs": [],
   "source": [
    "# GDDID Unique List\n",
    "gddid_list = list(df['_gddid'].unique())\n",
    "\n",
    "options_list = []\n",
    "for i in gddid_list:\n",
    "    options_list.append({'label':i, 'value':i})"
   ]
  },
  {
   "cell_type": "code",
   "execution_count": 17,
   "metadata": {},
   "outputs": [],
   "source": [
    "sentid_list = list(df['sentid'].unique())\n",
    "list.sort(sentid_list)\n",
    "\n",
    "sent_opt_list = []\n",
    "for i in sentid_list:\n",
    "    sent_opt_list.append({'label':i, 'value':i})"
   ]
  },
  {
   "cell_type": "code",
   "execution_count": 48,
   "metadata": {},
   "outputs": [],
   "source": [
    "# New Fig Generator\n",
    "# df_sample = df[df[\"_gddid\"] == \"54b4324ee138239d8684ad7f\"]\n",
    "\n",
    "def fig_generator(sample_data):    \n",
    "    sample_data.reset_index(drop = True)\n",
    "    sample_data = sample_data.sort_values(by = 'sentid')\n",
    "\n",
    "    plot_data = go.Scatter(x = sample_data['sentid'], y = sample_data['prediction_proba'])\n",
    "    plot_layout = go.Layout(title = \"This is a graph\")\n",
    "    \n",
    "    fig = go.Figure(data = plot_data, layout = plot_layout)\n",
    "    return(fig.data, fig.layout)"
   ]
  },
  {
   "cell_type": "code",
   "execution_count": 54,
   "metadata": {},
   "outputs": [
    {
     "name": "stdout",
     "output_type": "stream",
     "text": [
      "Dash is running on http://127.0.0.1:8050/\n",
      "\n",
      "Dash is running on http://127.0.0.1:8050/\n",
      "\n",
      "Dash is running on http://127.0.0.1:8050/\n",
      "\n",
      "Dash is running on http://127.0.0.1:8050/\n",
      "\n",
      "Dash is running on http://127.0.0.1:8050/\n",
      "\n",
      "Dash is running on http://127.0.0.1:8050/\n",
      "\n",
      "Dash is running on http://127.0.0.1:8050/\n",
      "\n",
      "Dash is running on http://127.0.0.1:8050/\n",
      "\n"
     ]
    },
    {
     "name": "stderr",
     "output_type": "stream",
     "text": [
      "INFO:__main__:Dash is running on http://127.0.0.1:8050/\n",
      "\n"
     ]
    },
    {
     "name": "stdout",
     "output_type": "stream",
     "text": [
      " Warning: This is a development server. Do not use app.run_server\n",
      " Warning: This is a development server. Do not use app.run_server\n",
      " Warning: This is a development server. Do not use app.run_server\n",
      " Warning: This is a development server. Do not use app.run_server\n",
      " Warning: This is a development server. Do not use app.run_server\n",
      " Warning: This is a development server. Do not use app.run_server\n",
      " Warning: This is a development server. Do not use app.run_server\n",
      " Warning: This is a development server. Do not use app.run_server\n"
     ]
    },
    {
     "name": "stderr",
     "output_type": "stream",
     "text": [
      "INFO:__main__: Warning: This is a development server. Do not use app.run_server\n"
     ]
    },
    {
     "name": "stdout",
     "output_type": "stream",
     "text": [
      " in production, use a production WSGI server like gunicorn instead.\n",
      "\n",
      " in production, use a production WSGI server like gunicorn instead.\n",
      "\n",
      " in production, use a production WSGI server like gunicorn instead.\n",
      "\n",
      " in production, use a production WSGI server like gunicorn instead.\n",
      "\n",
      " in production, use a production WSGI server like gunicorn instead.\n",
      "\n",
      " in production, use a production WSGI server like gunicorn instead.\n",
      "\n",
      " in production, use a production WSGI server like gunicorn instead.\n",
      "\n",
      " in production, use a production WSGI server like gunicorn instead.\n",
      "\n"
     ]
    },
    {
     "name": "stderr",
     "output_type": "stream",
     "text": [
      "INFO:__main__: in production, use a production WSGI server like gunicorn instead.\n",
      "\n"
     ]
    },
    {
     "name": "stdout",
     "output_type": "stream",
     "text": [
      " * Serving Flask app \"__main__\" (lazy loading)\n",
      " * Environment: production\n",
      "   WARNING: This is a development server. Do not use it in a production deployment.\n",
      "   Use a production WSGI server instead.\n",
      " * Debug mode: off\n"
     ]
    },
    {
     "name": "stderr",
     "output_type": "stream",
     "text": [
      " * Running on http://127.0.0.1:8050/ (Press CTRL+C to quit)\n",
      "INFO:werkzeug: * Running on http://127.0.0.1:8050/ (Press CTRL+C to quit)\n",
      "127.0.0.1 - - [28/Jul/2020 10:58:57] \"GET / HTTP/1.1\" 200 -\n",
      "INFO:werkzeug:127.0.0.1 - - [28/Jul/2020 10:58:57] \"GET / HTTP/1.1\" 200 -\n",
      "127.0.0.1 - - [28/Jul/2020 10:58:57] \"GET /_dash-dependencies HTTP/1.1\" 200 -\n",
      "INFO:werkzeug:127.0.0.1 - - [28/Jul/2020 10:58:57] \"GET /_dash-dependencies HTTP/1.1\" 200 -\n",
      "127.0.0.1 - - [28/Jul/2020 10:58:57] \"GET /_dash-layout HTTP/1.1\" 200 -\n",
      "INFO:werkzeug:127.0.0.1 - - [28/Jul/2020 10:58:57] \"GET /_dash-layout HTTP/1.1\" 200 -\n",
      "127.0.0.1 - - [28/Jul/2020 10:58:57] \"POST /_dash-update-component HTTP/1.1\" 200 -\n",
      "INFO:werkzeug:127.0.0.1 - - [28/Jul/2020 10:58:57] \"POST /_dash-update-component HTTP/1.1\" 200 -\n",
      "127.0.0.1 - - [28/Jul/2020 10:58:58] \"POST /_dash-update-component HTTP/1.1\" 200 -\n",
      "INFO:werkzeug:127.0.0.1 - - [28/Jul/2020 10:58:58] \"POST /_dash-update-component HTTP/1.1\" 200 -\n",
      "127.0.0.1 - - [28/Jul/2020 10:59:01] \"POST /_dash-update-component HTTP/1.1\" 200 -\n",
      "INFO:werkzeug:127.0.0.1 - - [28/Jul/2020 10:59:01] \"POST /_dash-update-component HTTP/1.1\" 200 -\n",
      "127.0.0.1 - - [28/Jul/2020 10:59:01] \"POST /_dash-update-component HTTP/1.1\" 200 -\n",
      "INFO:werkzeug:127.0.0.1 - - [28/Jul/2020 10:59:01] \"POST /_dash-update-component HTTP/1.1\" 200 -\n",
      "127.0.0.1 - - [28/Jul/2020 10:59:03] \"POST /_dash-update-component HTTP/1.1\" 200 -\n",
      "INFO:werkzeug:127.0.0.1 - - [28/Jul/2020 10:59:03] \"POST /_dash-update-component HTTP/1.1\" 200 -\n",
      "127.0.0.1 - - [28/Jul/2020 10:59:03] \"POST /_dash-update-component HTTP/1.1\" 200 -\n",
      "INFO:werkzeug:127.0.0.1 - - [28/Jul/2020 10:59:03] \"POST /_dash-update-component HTTP/1.1\" 200 -\n",
      "127.0.0.1 - - [28/Jul/2020 10:59:05] \"POST /_dash-update-component HTTP/1.1\" 200 -\n",
      "INFO:werkzeug:127.0.0.1 - - [28/Jul/2020 10:59:05] \"POST /_dash-update-component HTTP/1.1\" 200 -\n",
      "127.0.0.1 - - [28/Jul/2020 10:59:05] \"POST /_dash-update-component HTTP/1.1\" 200 -\n",
      "INFO:werkzeug:127.0.0.1 - - [28/Jul/2020 10:59:05] \"POST /_dash-update-component HTTP/1.1\" 200 -\n",
      "127.0.0.1 - - [28/Jul/2020 10:59:08] \"POST /_dash-update-component HTTP/1.1\" 200 -\n",
      "INFO:werkzeug:127.0.0.1 - - [28/Jul/2020 10:59:08] \"POST /_dash-update-component HTTP/1.1\" 200 -\n",
      "127.0.0.1 - - [28/Jul/2020 10:59:08] \"POST /_dash-update-component HTTP/1.1\" 200 -\n",
      "INFO:werkzeug:127.0.0.1 - - [28/Jul/2020 10:59:08] \"POST /_dash-update-component HTTP/1.1\" 200 -\n",
      "127.0.0.1 - - [28/Jul/2020 10:59:10] \"POST /_dash-update-component HTTP/1.1\" 200 -\n",
      "INFO:werkzeug:127.0.0.1 - - [28/Jul/2020 10:59:10] \"POST /_dash-update-component HTTP/1.1\" 200 -\n",
      "127.0.0.1 - - [28/Jul/2020 10:59:10] \"POST /_dash-update-component HTTP/1.1\" 200 -\n",
      "INFO:werkzeug:127.0.0.1 - - [28/Jul/2020 10:59:10] \"POST /_dash-update-component HTTP/1.1\" 200 -\n",
      "127.0.0.1 - - [28/Jul/2020 10:59:12] \"POST /_dash-update-component HTTP/1.1\" 200 -\n",
      "INFO:werkzeug:127.0.0.1 - - [28/Jul/2020 10:59:12] \"POST /_dash-update-component HTTP/1.1\" 200 -\n",
      "127.0.0.1 - - [28/Jul/2020 10:59:12] \"POST /_dash-update-component HTTP/1.1\" 200 -\n",
      "INFO:werkzeug:127.0.0.1 - - [28/Jul/2020 10:59:12] \"POST /_dash-update-component HTTP/1.1\" 200 -\n"
     ]
    }
   ],
   "source": [
    "### Dash board code \n",
    "    \n",
    "app = dash.Dash()\n",
    "\n",
    "### defining the HTML component\n",
    "\n",
    "\n",
    "app.layout = html.Div(children=[html.Div(\"ML Record Mining\",style= {   \"color\": \"white\",\n",
    "                                                      \"text-align\": \"center\",\"background-color\": \"blue\",\n",
    "                                                      \"border-style\": \"dotted\",\"display\":\"inline-block\",\"width\":\"80%\"\n",
    "                                                      \n",
    "                                                    }),\n",
    "                       html.Div(dcc.Dropdown(id = \"drop_down_1\" ,options= options_list , value= '54b4324ee138239d8684ad7f'\n",
    "                                                       ),style= {\n",
    "                                                      \"color\": \"green\",\n",
    "                                                      \"text-align\": \"center\",\"background-color\": \"darkorange\",\n",
    "                                                      \"border-style\": \"dotted\",\"display\":\"inline-block\",\"width\":\"20%\"\n",
    "                                                      \n",
    "                                                    }),\n",
    "                       html.Div(children=[html.P(\n",
    "                            id=\"map-title\",\n",
    "                            children = \"Probability of being a sentence \",\n",
    "                            ), html.Div(dcc.Graph(id =\"plot_area\"))\n",
    "                                                       ],style= {\n",
    "                                                      \"color\": \"black\",\n",
    "                                                      \"text-align\": \"center\",\"background-color\": \"yellow\",\n",
    "                                                      \"border-style\": \"dotted\",\"display\":\"inline-block\",\"width\":\"75%\",\n",
    "                                                      \"height\":\"450px\"\n",
    "                                                                                                            \n",
    "                                                    }),\n",
    "                                html.Div(dcc.Dropdown(id = \"drop_down_2\" ,options= sent_opt_list , value= '3'\n",
    "                                                       ),style= {\n",
    "                                                      \"color\": \"green\",\n",
    "                                                      \"text-align\": \"center\",\"background-color\": \"darkorange\",\n",
    "                                                      \"border-style\": \"dotted\",\"display\":\"inline-block\",\"width\":\"20%\"\n",
    "                                                      \n",
    "                                                    }),\n",
    "                                \n",
    "                       \n",
    "                        html.Div(\"Prev Sent, Curr Sent, Nxt Sent\", style = {\"color\":\"black\",\n",
    "                                                                                     \"display\":\"inline-block\", \n",
    "                                                                                     \"width\":\"100%\", \"height\":\"200px\"}\n",
    "                                ),\n",
    "                        html.Div(\"Control Bottons\", style = {\"color\":\"black\", \n",
    "                                                                      \"display\":\"inline-block\", \"width\":\"100%\",\n",
    "                                                                      \"height\":\"70px\"})],\n",
    "                      style={\"width\":\"100%\",'paffing':10})\n",
    "\n",
    "## Creating callback buttons\n",
    "\n",
    "@app.callback(Output(\"plot_area\", 'figure'),\n",
    "              \n",
    "              [Input(\"drop_down_1\", \"value\")])\n",
    "\n",
    "def updateplot(input_cat):\n",
    "    \n",
    "    df= datagen()\n",
    "    sample_data = df[df[\"_gddid\"] == input_cat ]\n",
    "    \n",
    "    trace,layout = fig_generator(sample_data)\n",
    "    \n",
    "    return {\n",
    "        'data': trace,\n",
    "        'layout':layout\n",
    "    }\n",
    "    \n",
    "   \n",
    "@app.callback(Output('drop_down_1', 'children'),\n",
    "             [Input(\"drop_down_1\", 'value')])\n",
    "def update_output(value):\n",
    "    return 'You have selected \"{}\"'.format(value)\n",
    "\n",
    "\n",
    "    \n",
    "if __name__=='__main__':\n",
    "    app.run_server()"
   ]
  },
  {
   "cell_type": "code",
   "execution_count": null,
   "metadata": {},
   "outputs": [],
   "source": []
  },
  {
   "cell_type": "code",
   "execution_count": null,
   "metadata": {},
   "outputs": [],
   "source": []
  }
 ],
 "metadata": {
  "kernelspec": {
   "display_name": "Python 3",
   "language": "python",
   "name": "python3"
  },
  "language_info": {
   "codemirror_mode": {
    "name": "ipython",
    "version": 3
   },
   "file_extension": ".py",
   "mimetype": "text/x-python",
   "name": "python",
   "nbconvert_exporter": "python",
   "pygments_lexer": "ipython3",
   "version": "3.7.4"
  }
 },
 "nbformat": 4,
 "nbformat_minor": 4
}
