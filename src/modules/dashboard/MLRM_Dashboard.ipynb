{
 "cells": [
  {
   "cell_type": "code",
   "execution_count": 16,
   "metadata": {},
   "outputs": [],
   "source": [
    "import plotly.graph_objects as go\n",
    "import dash\n",
    "import numpy as np\n",
    "import pandas as pd\n",
    "\n",
    "import plotly.offline as pyo\n",
    "import dash_html_components as html\n",
    "import dash_core_components as dcc\n",
    "from dash.dependencies import State, Input, Output"
   ]
  },
  {
   "cell_type": "code",
   "execution_count": 8,
   "metadata": {},
   "outputs": [],
   "source": [
    "def datagen():\n",
    "\n",
    "    my_sample_data = np.random.random_sample([100,3])\n",
    "    cat_g = [\"good\", \"bad\", \"worse\"]\n",
    "    sample_cat = [cat_g[np.random.randint(0,3)] for i in range(100)]\n",
    "    Base_Data = pd.DataFrame(my_sample_data, columns =[\"val_1\", \"val_2\",\"val_3\"])\n",
    "    Base_Data[\"sample_Cat\"] = sample_cat\n",
    "    \n",
    "    return(Base_Data)"
   ]
  },
  {
   "cell_type": "code",
   "execution_count": 9,
   "metadata": {},
   "outputs": [],
   "source": [
    "cat_g = [\"good\",\"bad\",\"worst\"] \n",
    "\n",
    "options_list = []\n",
    "for i in cat_g:\n",
    "    options_list.append({'label':i, 'value':i})"
   ]
  },
  {
   "cell_type": "code",
   "execution_count": 10,
   "metadata": {},
   "outputs": [],
   "source": [
    "def fig_generator(sample_data):\n",
    "    sample_data = sample_data.reset_index(drop = True)\n",
    "    plot_data = []\n",
    "    \n",
    "    for i in range(1,4):\n",
    "        plot_data.append(go.Scatter(x = sample_data.index, y = sample_data['val_' + str(i)], name = 'val_' + str(i)))\n",
    "    plot_layout = go.Layout()\n",
    "    \n",
    "    fig = go.Figure(data = plot_data, layout = plot_layout)\n",
    "    return(fig.data, fig.layout)"
   ]
  },
  {
   "cell_type": "code",
   "execution_count": 15,
   "metadata": {},
   "outputs": [
    {
     "name": "stdout",
     "output_type": "stream",
     "text": [
      "Dash is running on http://127.0.0.1:8050/\n",
      "\n",
      "Dash is running on http://127.0.0.1:8050/\n",
      "\n",
      "Dash is running on http://127.0.0.1:8050/\n",
      "\n",
      "Dash is running on http://127.0.0.1:8050/\n",
      "\n",
      "Dash is running on http://127.0.0.1:8050/\n",
      "\n",
      "Dash is running on http://127.0.0.1:8050/\n",
      "\n",
      " Warning: This is a development server. Do not use app.run_server\n",
      " Warning: This is a development server. Do not use app.run_server\n",
      " Warning: This is a development server. Do not use app.run_server\n",
      " Warning: This is a development server. Do not use app.run_server\n",
      " Warning: This is a development server. Do not use app.run_server\n",
      " Warning: This is a development server. Do not use app.run_server\n",
      " in production, use a production WSGI server like gunicorn instead.\n",
      "\n",
      " in production, use a production WSGI server like gunicorn instead.\n",
      "\n",
      " in production, use a production WSGI server like gunicorn instead.\n",
      "\n",
      " in production, use a production WSGI server like gunicorn instead.\n",
      "\n",
      " in production, use a production WSGI server like gunicorn instead.\n",
      "\n",
      " in production, use a production WSGI server like gunicorn instead.\n",
      "\n",
      " * Serving Flask app \"__main__\" (lazy loading)\n",
      " * Environment: production\n",
      "   WARNING: This is a development server. Do not use it in a production deployment.\n",
      "   Use a production WSGI server instead.\n",
      " * Debug mode: off\n"
     ]
    },
    {
     "name": "stderr",
     "output_type": "stream",
     "text": [
      " * Running on http://127.0.0.1:8050/ (Press CTRL+C to quit)\n",
      "127.0.0.1 - - [21/Jul/2020 13:02:23] \"GET / HTTP/1.1\" 200 -\n",
      "127.0.0.1 - - [21/Jul/2020 13:02:23] \"GET /_dash-layout HTTP/1.1\" 200 -\n",
      "127.0.0.1 - - [21/Jul/2020 13:02:23] \"GET /_dash-dependencies HTTP/1.1\" 200 -\n",
      "127.0.0.1 - - [21/Jul/2020 13:02:23] \"POST /_dash-update-component HTTP/1.1\" 200 -\n"
     ]
    }
   ],
   "source": [
    "### Dash board code \n",
    "    \n",
    "app = dash.Dash()\n",
    "\n",
    "### defining the HTML component\n",
    "\n",
    "\n",
    "app.layout = html.Div(children=[html.Div(\"ML Record Mining\",style= {   \"color\": \"white\",\n",
    "                                                      \"text-align\": \"center\",\"background-color\": \"blue\",\n",
    "                                                      \"border-style\": \"dotted\",\"display\":\"inline-block\",\"width\":\"80%\"\n",
    "                                                      \n",
    "                                                    }),\n",
    "                       html.Div(dcc.Dropdown(id = \"drop_down_1\" ,options= options_list , value= 'good'\n",
    "                                                       ),style= {\n",
    "                                                      \"color\": \"green\",\n",
    "                                                      \"text-align\": \"center\",\"background-color\": \"darkorange\",\n",
    "                                                      \"border-style\": \"dotted\",\"display\":\"inline-block\",\"width\":\"20%\"\n",
    "                                                      \n",
    "                                                    }),\n",
    "                       html.Div(children=[html.P(\n",
    "                            id=\"map-title\",\n",
    "                            children = \"Probability of being a sentence \",\n",
    "                        ), html.Div(dcc.Graph(id =\"plot_area\"))\n",
    "                                                       ],style= {\n",
    "                                                      \"color\": \"black\",\n",
    "                                                      \"text-align\": \"center\",\"background-color\": \"yellow\",\n",
    "                                                      \"border-style\": \"dotted\",\"display\":\"inline-block\",\"width\":\"75%\",\n",
    "                                                      \"height\":\"450px\"\n",
    "                                                                                                            \n",
    "                                                    }),\n",
    "                        html.Div(\"Prev Sent, Curr Sent, Nxt Sent\", style = {\"color\":\"black\",\n",
    "                                                                                     \"display\":\"inline-block\", \n",
    "                                                                                     \"width\":\"100%\", \"height\":\"200px\"}\n",
    "                                ),\n",
    "                        html.Div(\"Control Bottons\", style = {\"color\":\"black\", \n",
    "                                                                      \"display\":\"inline-block\", \"width\":\"100%\",\n",
    "                                                                      \"height\":\"70px\"})],\n",
    "                      style={\"width\":\"100%\",'paffing':10})\n",
    "\n",
    "## Creating callback buttons\n",
    "\n",
    "@app.callback(Output(\"plot_area\", 'figure'),\n",
    "              \n",
    "              [Input(\"drop_down_1\", \"value\")])\n",
    "\n",
    "def updateplot(input_cat):\n",
    "    \n",
    "    df= datagen()\n",
    "    sample_data = df[df[\"sample_Cat\"] == input_cat ]\n",
    "    \n",
    "    trace,layout = fig_generator(sample_data)\n",
    "    \n",
    "    return {\n",
    "        'data': trace,\n",
    "        'layout':layout\n",
    "    }\n",
    "    \n",
    "    \n",
    "    \n",
    "if __name__=='__main__':\n",
    "    app.run_server()"
   ]
  },
  {
   "cell_type": "code",
   "execution_count": null,
   "metadata": {},
   "outputs": [],
   "source": []
  }
 ],
 "metadata": {
  "kernelspec": {
   "display_name": "Python 3",
   "language": "python",
   "name": "python3"
  },
  "language_info": {
   "codemirror_mode": {
    "name": "ipython",
    "version": 3
   },
   "file_extension": ".py",
   "mimetype": "text/x-python",
   "name": "python",
   "nbconvert_exporter": "python",
   "pygments_lexer": "ipython3",
   "version": "3.7.4"
  }
 },
 "nbformat": 4,
 "nbformat_minor": 2
}
