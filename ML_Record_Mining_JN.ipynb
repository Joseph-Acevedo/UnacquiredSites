{
 "cells": [
  {
   "cell_type": "markdown",
   "metadata": {},
   "source": [
    "## Machine Learning Record Mining"
   ]
  },
  {
   "cell_type": "markdown",
   "metadata": {},
   "source": [
    "Project to create a pipeline that uses GeoDeepDive's output to find Unaquired Sites for Neotoma.\n",
    "\n",
    "Using NLP parsed text and a Data Science approach, identify whether a paper is suitable for Neotoma and detect features such as 'Site Name', 'Location', 'Age Span' and 'Site Descriptions'."
   ]
  },
  {
   "cell_type": "code",
   "execution_count": 1,
   "metadata": {},
   "outputs": [],
   "source": [
    "# Loading libraries\n",
    "import pandas as pd\n",
    "\n",
    "# Options for DF display\n",
    "pd.set_option('display.max_colwidth', 500)\n",
    "pd.set_option('display.max_rows', 100)"
   ]
  },
  {
   "cell_type": "markdown",
   "metadata": {},
   "source": [
    "## Loading and viewing the Data\n",
    "\n",
    "### Loading NLP Sentences"
   ]
  },
  {
   "cell_type": "code",
   "execution_count": 2,
   "metadata": {},
   "outputs": [],
   "source": [
    "import src.modules.preprocessing.nlp_sentence_loader as sentence_loader\n",
    "import src.modules.preprocessing.bibliography_loader as bib_loader\n",
    "import src.modules.preprocessing.add_regex_degrees as ard"
   ]
  },
  {
   "cell_type": "code",
   "execution_count": 3,
   "metadata": {},
   "outputs": [
    {
     "name": "stdout",
     "output_type": "stream",
     "text": [
      "Data obtained from PostgreSQL\n"
     ]
    }
   ],
   "source": [
    "nlp_sentences = sentence_loader.preprocessed_sentences_sql()"
   ]
  },
  {
   "cell_type": "code",
   "execution_count": 4,
   "metadata": {},
   "outputs": [
    {
     "data": {
      "text/html": [
       "<div>\n",
       "<style scoped>\n",
       "    .dataframe tbody tr th:only-of-type {\n",
       "        vertical-align: middle;\n",
       "    }\n",
       "\n",
       "    .dataframe tbody tr th {\n",
       "        vertical-align: top;\n",
       "    }\n",
       "\n",
       "    .dataframe thead th {\n",
       "        text-align: right;\n",
       "    }\n",
       "</style>\n",
       "<table border=\"1\" class=\"dataframe\">\n",
       "  <thead>\n",
       "    <tr style=\"text-align: right;\">\n",
       "      <th></th>\n",
       "      <th>_gddid</th>\n",
       "      <th>sentid</th>\n",
       "      <th>wordidx</th>\n",
       "      <th>words</th>\n",
       "      <th>part_of_speech</th>\n",
       "      <th>special_class</th>\n",
       "      <th>lemmas</th>\n",
       "      <th>word_type</th>\n",
       "      <th>word_modified</th>\n",
       "      <th>words_as_string</th>\n",
       "      <th>dms_regex</th>\n",
       "      <th>dd_regex</th>\n",
       "      <th>digits_regex</th>\n",
       "      <th>words_l</th>\n",
       "    </tr>\n",
       "  </thead>\n",
       "  <tbody>\n",
       "    <tr>\n",
       "      <td>0</td>\n",
       "      <td>54b43266e138239d8684efed</td>\n",
       "      <td>1</td>\n",
       "      <td>[1, 2, 3, 4, 5, 6, 7, 8, 9, 10, 11, 12, 13, 14, 15, 16, 17, 18, 19, 20, 21, 22, 23, 24, 25, 26, 27, 28, 29, 30, 31, 32, 33, 34, 35, 36, 37, 38, 39, 40, 41, 42, 43, 44, 45, 46, 47, 48, 49, 50, 51, 52, 53, 54, 55, 56, 57, 58, 59, 60, 61, 62, 63, 64, 65, 66, 67, 68, 69, 70, 71, 72, 73, 74, 75, 76, 77, 78, 79, 80, 81, 82, 83, 84, 85, 86, 87, 88, 89, 90, 91, 92, 93, 94, 95, 96, 97, 98, 99, 100, ...]</td>\n",
       "      <td>[Available, online, at, www.sciencedirect.com, Quaternary, Research, 69, -LRB-, 2008, -RRB-, 263, --, 275, www.elsevier.com/locate/yqres, Development, of, the, mixed, conifer, forest, in, northern, New, Mexico, and, its, relationship, to, Holocene, environmental, change, R., Scott, Anderson, a, ,, b, ,, ,, Renata, B., Jass, b, ,1, ,, Jaime, L., Toney, b, ,2, ,, Craig, D., Allen, c, ,, Luz, M., Cisneros-Dozal, d, ,, Marcey, Hess, d, ,, Jeff, Heikoop, d, ,, Julianna, Fessenden, d, a, Center, f...</td>\n",
       "      <td>[JJ, NN, IN, NNP, NNP, NNP, CD, -LRB-, CD, -RRB-, CD, :, CD, NNS, NN, IN, DT, JJ, NN, NN, IN, JJ, NNP, NNP, CC, PRP$, NN, TO, NNP, JJ, NN, NNP, NNP, NNP, DT, ,, NN, ,, ,, NNP, NNP, NNP, NN, CD, ,, NNP, NNP, NNP, NN, CD, ,, NNP, NNP, NNP, NN, ,, NNP, NNP, NNP, NN, ,, NNP, NNP, NN, ,, NNP, NNP, NN, ,, NNP, NNP, NN, DT, NNP, IN, NNP, NNPS, CC, NNP, ,, NNP, CD, ,, NNP, NNP, NNP, ,, NNP, ,, NNP, CD, ,, NNP, NN, NNP, NNP, NNP, CC, NNP, NNP, ...]</td>\n",
       "      <td>[O, O, O, O, O, O, NUMBER, O, DATE, O, NUMBER, O, NUMBER, O, O, O, O, O, O, O, O, O, LOCATION, LOCATION, O, O, O, O, O, O, O, PERSON, PERSON, PERSON, O, O, O, O, O, PERSON, PERSON, PERSON, O, NUMBER, O, PERSON, PERSON, PERSON, O, NUMBER, O, PERSON, PERSON, PERSON, O, O, PERSON, PERSON, PERSON, O, O, PERSON, PERSON, O, O, PERSON, PERSON, O, O, PERSON, PERSON, O, O, ORGANIZATION, ORGANIZATION, ORGANIZATION, ORGANIZATION, ORGANIZATION, ORGANIZATION, O, O, NUMBER, O, ORGANIZATION, ORGANIZATION, ...</td>\n",
       "      <td>[available, online, at, www.sciencedirect.com, Quaternary, Research, 69, -lrb-, 2008, -rrb-, 263, --, 275, www.elsevier.com/locate/yqres, development, of, the, mixed, conifer, forest, in, northern, New, Mexico, and, its, relationship, to, Holocene, environmental, change, R., Scott, Anderson, a, ,, b, ,, ,, Renata, B., Jass, b, ,1, ,, Jaime, L., Toney, b, ,2, ,, Craig, D., Allen, c, ,, Luz, M., Cisneros-Dozal, d, ,, Marcey, Hess, d, ,, Jeff, Heikoop, d, ,, Julianna, Fessenden, d, a, Center, f...</td>\n",
       "      <td>[dep, dep, dep, dep, dep, dep, dep, , dep, , dep, , dep, dep, dep, dep, dep, dep, dep, dep, dep, dep, dep, dep, cc, dep, dep, dep, dep, dep, dep, dep, dep, dep, dep, , dep, , , dep, dep, dep, dep, dep, , dep, dep, dep, dep, dep, , dep, dep, dep, dep, , dep, dep, dep, dep, , dep, dep, dep, , dep, dep, dep, , dep, dep, dep, dep, dep, dep, dep, dep, cc, dep, , dep, dep, , dep, dep, dep, , dep, , dep, dep, , dep, dep, dep, dep, dep, cc, dep, dep, ...]</td>\n",
       "      <td>[218, 218, 218, 218, 218, 218, 218, 0, 218, 0, 218, 0, 218, 218, 218, 218, 218, 218, 218, 218, 218, 218, 218, 218, 218, 218, 218, 218, 218, 218, 218, 218, 218, 218, 218, 0, 218, 0, 0, 218, 218, 218, 218, 218, 0, 218, 218, 218, 218, 218, 0, 218, 218, 218, 218, 0, 218, 218, 218, 218, 0, 218, 218, 218, 0, 218, 218, 218, 0, 218, 218, 218, 218, 218, 218, 218, 218, 218, 218, 0, 218, 218, 0, 218, 218, 218, 0, 218, 0, 218, 218, 0, 218, 218, 218, 218, 218, 218, 218, 218, ...]</td>\n",
       "      <td>Available,online,at,www.sciencedirect.com,Quaternary,Research,69,-LRB-,2008,-RRB-,263,--,275,www.elsevier.com/locate/yqres,Development,of,the,mixed,conifer,forest,in,northern,New,Mexico,and,its,relationship,to,Holocene,environmental,change,R.,Scott,Anderson,a,,,b,,,,,Renata,B.,Jass,b,,1,,,Jaime,L.,Toney,b,,2,,,Craig,D.,Allen,c,,,Luz,M.,Cisneros-Dozal,d,,,Marcey,Hess,d,,,Jeff,Heikoop,d,,,Julianna,Fessenden,d,a,Center,for,Environmental,Sciences,&amp;,Education,,,Box,5694,,,Northern,Arizona,Univers...</td>\n",
       "      <td>[]</td>\n",
       "      <td>[]</td>\n",
       "      <td>[69, 2008, 263, 275, 1, 2, 5694, 86011, 6013, 86011, 1, 1, 15, 87544, 6, 462, 87545, 28, 2007, 29, 2008, 2925]</td>\n",
       "      <td>[available, online, at, www.sciencedirect.com, quaternary, research, 69, -lrb-, 2008, -rrb-, 263, --, 275, www.elsevier.com/locate/yqres, development, of, the, mixed, conifer, forest, in, northern, new, mexico, and, its, relationship, to, holocene, environmental, change, r., scott, anderson, a, ,, b, ,, ,, renata, b., jass, b, ,1, ,, jaime, l., toney, b, ,2, ,, craig, d., allen, c, ,, luz, m., cisneros-dozal, d, ,, marcey, hess, d, ,, jeff, heikoop, d, ,, julianna, fessenden, d, a, center, f...</td>\n",
       "    </tr>\n",
       "    <tr>\n",
       "      <td>1</td>\n",
       "      <td>54b43266e138239d8684efed</td>\n",
       "      <td>2</td>\n",
       "      <td>[1, 2, 3, 4, 5, 6, 7, 8, 9, 10, 11, 12]</td>\n",
       "      <td>[The, Chihuahueños, Bog, record, extends, to, over, 15,000, cal, yr, BP, .]</td>\n",
       "      <td>[DT, NNP, NN, NN, VBZ, TO, IN, CD, JJ, NN, NN, .]</td>\n",
       "      <td>[O, O, O, O, O, O, O, NUMBER, O, DURATION, O, O]</td>\n",
       "      <td>[the, Chihuahueños, bog, record, extend, to, over, 15,000, cal, yr, bp, .]</td>\n",
       "      <td>[det, compound, compound, nsubj, , case, amod, nummod, amod, compound, nmod:to, ]</td>\n",
       "      <td>[4, 4, 4, 5, 0, 11, 11, 11, 11, 11, 5, 0]</td>\n",
       "      <td>The,Chihuahueños,Bog,record,extends,to,over,15,000,cal,yr,BP,.</td>\n",
       "      <td>[]</td>\n",
       "      <td>[]</td>\n",
       "      <td>[15, 000]</td>\n",
       "      <td>[the, chihuahueños, bog, record, extends, to, over, 15,000, cal, yr, bp, .]</td>\n",
       "    </tr>\n",
       "    <tr>\n",
       "      <td>2</td>\n",
       "      <td>54b43266e138239d8684efed</td>\n",
       "      <td>3</td>\n",
       "      <td>[1, 2, 3, 4, 5, 6, 7, 8, 9, 10, 11, 12, 13, 14, 15, 16, 17, 18, 19, 20, 21, 22, 23, 24, 25, 26]</td>\n",
       "      <td>[An, Artemisia, steppe, ,, then, an, open, Picea, woodland, grew, around, a, small, pond, until, ca., 11,700, cal, yr, BP, when, Pinus, ponderosa, became, established, .]</td>\n",
       "      <td>[DT, NNP, NN, ,, RB, DT, JJ, NNP, NN, VBD, IN, DT, JJ, NN, IN, FW, CD, JJ, NN, NN, WRB, NNP, NN, VBD, VBN, .]</td>\n",
       "      <td>[O, O, O, O, O, O, O, LOCATION, LOCATION, O, O, O, O, O, O, O, NUMBER, O, DURATION, ORGANIZATION, O, O, O, O, O, O]</td>\n",
       "      <td>[a, Artemisia, steppe, ,, then, a, open, Picea, woodland, grow, around, a, small, pond, until, ca., 11,700, cal, yr, bp, when, Pinus, ponderosa, become, establish, .]</td>\n",
       "      <td>[det, compound, nsubj, , advmod, det, amod, compound, nsubj, , case, det, amod, nmod:around, case, nmod:until, nummod, amod, compound, dobj, advmod, compound, nsubj, acl:relcl, xcomp, ]</td>\n",
       "      <td>[3, 3, 10, 0, 9, 9, 9, 9, 10, 0, 14, 14, 14, 10, 16, 10, 20, 20, 20, 10, 24, 23, 24, 20, 24, 0]</td>\n",
       "      <td>An,Artemisia,steppe,,,then,an,open,Picea,woodland,grew,around,a,small,pond,until,ca.,11,700,cal,yr,BP,when,Pinus,ponderosa,became,established,.</td>\n",
       "      <td>[]</td>\n",
       "      <td>[]</td>\n",
       "      <td>[11, 700]</td>\n",
       "      <td>[an, artemisia, steppe, ,, then, an, open, picea, woodland, grew, around, a, small, pond, until, ca., 11,700, cal, yr, bp, when, pinus, ponderosa, became, established, .]</td>\n",
       "    </tr>\n",
       "  </tbody>\n",
       "</table>\n",
       "</div>"
      ],
      "text/plain": [
       "                     _gddid  sentid  \\\n",
       "0  54b43266e138239d8684efed       1   \n",
       "1  54b43266e138239d8684efed       2   \n",
       "2  54b43266e138239d8684efed       3   \n",
       "\n",
       "                                                                                                                                                                                                                                                                                                                                                                                                         wordidx  \\\n",
       "0  [1, 2, 3, 4, 5, 6, 7, 8, 9, 10, 11, 12, 13, 14, 15, 16, 17, 18, 19, 20, 21, 22, 23, 24, 25, 26, 27, 28, 29, 30, 31, 32, 33, 34, 35, 36, 37, 38, 39, 40, 41, 42, 43, 44, 45, 46, 47, 48, 49, 50, 51, 52, 53, 54, 55, 56, 57, 58, 59, 60, 61, 62, 63, 64, 65, 66, 67, 68, 69, 70, 71, 72, 73, 74, 75, 76, 77, 78, 79, 80, 81, 82, 83, 84, 85, 86, 87, 88, 89, 90, 91, 92, 93, 94, 95, 96, 97, 98, 99, 100, ...]   \n",
       "1                                                                                                                                                                                                                                                                                                                                                                        [1, 2, 3, 4, 5, 6, 7, 8, 9, 10, 11, 12]   \n",
       "2                                                                                                                                                                                                                                                                                                                [1, 2, 3, 4, 5, 6, 7, 8, 9, 10, 11, 12, 13, 14, 15, 16, 17, 18, 19, 20, 21, 22, 23, 24, 25, 26]   \n",
       "\n",
       "                                                                                                                                                                                                                                                                                                                                                                                                                                                                                                                 words  \\\n",
       "0  [Available, online, at, www.sciencedirect.com, Quaternary, Research, 69, -LRB-, 2008, -RRB-, 263, --, 275, www.elsevier.com/locate/yqres, Development, of, the, mixed, conifer, forest, in, northern, New, Mexico, and, its, relationship, to, Holocene, environmental, change, R., Scott, Anderson, a, ,, b, ,, ,, Renata, B., Jass, b, ,1, ,, Jaime, L., Toney, b, ,2, ,, Craig, D., Allen, c, ,, Luz, M., Cisneros-Dozal, d, ,, Marcey, Hess, d, ,, Jeff, Heikoop, d, ,, Julianna, Fessenden, d, a, Center, f...   \n",
       "1                                                                                                                                                                                                                                                                                                                                                                                                                                          [The, Chihuahueños, Bog, record, extends, to, over, 15,000, cal, yr, BP, .]   \n",
       "2                                                                                                                                                                                                                                                                                                                                           [An, Artemisia, steppe, ,, then, an, open, Picea, woodland, grew, around, a, small, pond, until, ca., 11,700, cal, yr, BP, when, Pinus, ponderosa, became, established, .]   \n",
       "\n",
       "                                                                                                                                                                                                                                                                                                                                                                                                                                                part_of_speech  \\\n",
       "0  [JJ, NN, IN, NNP, NNP, NNP, CD, -LRB-, CD, -RRB-, CD, :, CD, NNS, NN, IN, DT, JJ, NN, NN, IN, JJ, NNP, NNP, CC, PRP$, NN, TO, NNP, JJ, NN, NNP, NNP, NNP, DT, ,, NN, ,, ,, NNP, NNP, NNP, NN, CD, ,, NNP, NNP, NNP, NN, CD, ,, NNP, NNP, NNP, NN, ,, NNP, NNP, NNP, NN, ,, NNP, NNP, NN, ,, NNP, NNP, NN, ,, NNP, NNP, NN, DT, NNP, IN, NNP, NNPS, CC, NNP, ,, NNP, CD, ,, NNP, NNP, NNP, ,, NNP, ,, NNP, CD, ,, NNP, NN, NNP, NNP, NNP, CC, NNP, NNP, ...]   \n",
       "1                                                                                                                                                                                                                                                                                                                                                                                                            [DT, NNP, NN, NN, VBZ, TO, IN, CD, JJ, NN, NN, .]   \n",
       "2                                                                                                                                                                                                                                                                                                                                                [DT, NNP, NN, ,, RB, DT, JJ, NNP, NN, VBD, IN, DT, JJ, NN, IN, FW, CD, JJ, NN, NN, WRB, NNP, NN, VBD, VBN, .]   \n",
       "\n",
       "                                                                                                                                                                                                                                                                                                                                                                                                                                                                                                         special_class  \\\n",
       "0  [O, O, O, O, O, O, NUMBER, O, DATE, O, NUMBER, O, NUMBER, O, O, O, O, O, O, O, O, O, LOCATION, LOCATION, O, O, O, O, O, O, O, PERSON, PERSON, PERSON, O, O, O, O, O, PERSON, PERSON, PERSON, O, NUMBER, O, PERSON, PERSON, PERSON, O, NUMBER, O, PERSON, PERSON, PERSON, O, O, PERSON, PERSON, PERSON, O, O, PERSON, PERSON, O, O, PERSON, PERSON, O, O, PERSON, PERSON, O, O, ORGANIZATION, ORGANIZATION, ORGANIZATION, ORGANIZATION, ORGANIZATION, ORGANIZATION, O, O, NUMBER, O, ORGANIZATION, ORGANIZATION, ...   \n",
       "1                                                                                                                                                                                                                                                                                                                                                                                                                                                                     [O, O, O, O, O, O, O, NUMBER, O, DURATION, O, O]   \n",
       "2                                                                                                                                                                                                                                                                                                                                                                                                  [O, O, O, O, O, O, O, LOCATION, LOCATION, O, O, O, O, O, O, O, NUMBER, O, DURATION, ORGANIZATION, O, O, O, O, O, O]   \n",
       "\n",
       "                                                                                                                                                                                                                                                                                                                                                                                                                                                                                                                lemmas  \\\n",
       "0  [available, online, at, www.sciencedirect.com, Quaternary, Research, 69, -lrb-, 2008, -rrb-, 263, --, 275, www.elsevier.com/locate/yqres, development, of, the, mixed, conifer, forest, in, northern, New, Mexico, and, its, relationship, to, Holocene, environmental, change, R., Scott, Anderson, a, ,, b, ,, ,, Renata, B., Jass, b, ,1, ,, Jaime, L., Toney, b, ,2, ,, Craig, D., Allen, c, ,, Luz, M., Cisneros-Dozal, d, ,, Marcey, Hess, d, ,, Jeff, Heikoop, d, ,, Julianna, Fessenden, d, a, Center, f...   \n",
       "1                                                                                                                                                                                                                                                                                                                                                                                                                                           [the, Chihuahueños, bog, record, extend, to, over, 15,000, cal, yr, bp, .]   \n",
       "2                                                                                                                                                                                                                                                                                                                                               [a, Artemisia, steppe, ,, then, a, open, Picea, woodland, grow, around, a, small, pond, until, ca., 11,700, cal, yr, bp, when, Pinus, ponderosa, become, establish, .]   \n",
       "\n",
       "                                                                                                                                                                                                                                                                                                                                                                                                                                                             word_type  \\\n",
       "0  [dep, dep, dep, dep, dep, dep, dep, , dep, , dep, , dep, dep, dep, dep, dep, dep, dep, dep, dep, dep, dep, dep, cc, dep, dep, dep, dep, dep, dep, dep, dep, dep, dep, , dep, , , dep, dep, dep, dep, dep, , dep, dep, dep, dep, dep, , dep, dep, dep, dep, , dep, dep, dep, dep, , dep, dep, dep, , dep, dep, dep, , dep, dep, dep, dep, dep, dep, dep, dep, cc, dep, , dep, dep, , dep, dep, dep, , dep, , dep, dep, , dep, dep, dep, dep, dep, cc, dep, dep, ...]   \n",
       "1                                                                                                                                                                                                                                                                                                                                                                                    [det, compound, compound, nsubj, , case, amod, nummod, amod, compound, nmod:to, ]   \n",
       "2                                                                                                                                                                                                                                                                            [det, compound, nsubj, , advmod, det, amod, compound, nsubj, , case, det, amod, nmod:around, case, nmod:until, nummod, amod, compound, dobj, advmod, compound, nsubj, acl:relcl, xcomp, ]   \n",
       "\n",
       "                                                                                                                                                                                                                                                                                                                                                                                                                                                                             word_modified  \\\n",
       "0  [218, 218, 218, 218, 218, 218, 218, 0, 218, 0, 218, 0, 218, 218, 218, 218, 218, 218, 218, 218, 218, 218, 218, 218, 218, 218, 218, 218, 218, 218, 218, 218, 218, 218, 218, 0, 218, 0, 0, 218, 218, 218, 218, 218, 0, 218, 218, 218, 218, 218, 0, 218, 218, 218, 218, 0, 218, 218, 218, 218, 0, 218, 218, 218, 0, 218, 218, 218, 0, 218, 218, 218, 218, 218, 218, 218, 218, 218, 218, 0, 218, 218, 0, 218, 218, 218, 0, 218, 0, 218, 218, 0, 218, 218, 218, 218, 218, 218, 218, 218, ...]   \n",
       "1                                                                                                                                                                                                                                                                                                                                                                                                                                                [4, 4, 4, 5, 0, 11, 11, 11, 11, 11, 5, 0]   \n",
       "2                                                                                                                                                                                                                                                                                                                                                                                          [3, 3, 10, 0, 9, 9, 9, 9, 10, 0, 14, 14, 14, 10, 16, 10, 20, 20, 20, 10, 24, 23, 24, 20, 24, 0]   \n",
       "\n",
       "                                                                                                                                                                                                                                                                                                                                                                                                                                                                                                       words_as_string  \\\n",
       "0  Available,online,at,www.sciencedirect.com,Quaternary,Research,69,-LRB-,2008,-RRB-,263,--,275,www.elsevier.com/locate/yqres,Development,of,the,mixed,conifer,forest,in,northern,New,Mexico,and,its,relationship,to,Holocene,environmental,change,R.,Scott,Anderson,a,,,b,,,,,Renata,B.,Jass,b,,1,,,Jaime,L.,Toney,b,,2,,,Craig,D.,Allen,c,,,Luz,M.,Cisneros-Dozal,d,,,Marcey,Hess,d,,,Jeff,Heikoop,d,,,Julianna,Fessenden,d,a,Center,for,Environmental,Sciences,&,Education,,,Box,5694,,,Northern,Arizona,Univers...   \n",
       "1                                                                                                                                                                                                                                                                                                                                                                                                                                                       The,Chihuahueños,Bog,record,extends,to,over,15,000,cal,yr,BP,.   \n",
       "2                                                                                                                                                                                                                                                                                                                                                                      An,Artemisia,steppe,,,then,an,open,Picea,woodland,grew,around,a,small,pond,until,ca.,11,700,cal,yr,BP,when,Pinus,ponderosa,became,established,.   \n",
       "\n",
       "  dms_regex dd_regex  \\\n",
       "0        []       []   \n",
       "1        []       []   \n",
       "2        []       []   \n",
       "\n",
       "                                                                                                     digits_regex  \\\n",
       "0  [69, 2008, 263, 275, 1, 2, 5694, 86011, 6013, 86011, 1, 1, 15, 87544, 6, 462, 87545, 28, 2007, 29, 2008, 2925]   \n",
       "1                                                                                                       [15, 000]   \n",
       "2                                                                                                       [11, 700]   \n",
       "\n",
       "                                                                                                                                                                                                                                                                                                                                                                                                                                                                                                               words_l  \n",
       "0  [available, online, at, www.sciencedirect.com, quaternary, research, 69, -lrb-, 2008, -rrb-, 263, --, 275, www.elsevier.com/locate/yqres, development, of, the, mixed, conifer, forest, in, northern, new, mexico, and, its, relationship, to, holocene, environmental, change, r., scott, anderson, a, ,, b, ,, ,, renata, b., jass, b, ,1, ,, jaime, l., toney, b, ,2, ,, craig, d., allen, c, ,, luz, m., cisneros-dozal, d, ,, marcey, hess, d, ,, jeff, heikoop, d, ,, julianna, fessenden, d, a, center, f...  \n",
       "1                                                                                                                                                                                                                                                                                                                                                                                                                                          [the, chihuahueños, bog, record, extends, to, over, 15,000, cal, yr, bp, .]  \n",
       "2                                                                                                                                                                                                                                                                                                                                           [an, artemisia, steppe, ,, then, an, open, picea, woodland, grew, around, a, small, pond, until, ca., 11,700, cal, yr, bp, when, pinus, ponderosa, became, established, .]  "
      ]
     },
     "execution_count": 4,
     "metadata": {},
     "output_type": "execute_result"
    }
   ],
   "source": [
    "nlp_sentences.head(3)"
   ]
  },
  {
   "cell_type": "code",
   "execution_count": 5,
   "metadata": {},
   "outputs": [],
   "source": [
    "# Running this takes forever. Do not run unless necessary\n",
    "# nlp_sentences.describe(include = 'all')"
   ]
  },
  {
   "cell_type": "code",
   "execution_count": 6,
   "metadata": {},
   "outputs": [
    {
     "data": {
      "text/html": [
       "<div>\n",
       "<style scoped>\n",
       "    .dataframe tbody tr th:only-of-type {\n",
       "        vertical-align: middle;\n",
       "    }\n",
       "\n",
       "    .dataframe tbody tr th {\n",
       "        vertical-align: top;\n",
       "    }\n",
       "\n",
       "    .dataframe thead th {\n",
       "        text-align: right;\n",
       "    }\n",
       "</style>\n",
       "<table border=\"1\" class=\"dataframe\">\n",
       "  <thead>\n",
       "    <tr style=\"text-align: right;\">\n",
       "      <th></th>\n",
       "      <th>sentid</th>\n",
       "    </tr>\n",
       "  </thead>\n",
       "  <tbody>\n",
       "    <tr>\n",
       "      <td>count</td>\n",
       "      <td>218.000000</td>\n",
       "    </tr>\n",
       "    <tr>\n",
       "      <td>mean</td>\n",
       "      <td>513.600917</td>\n",
       "    </tr>\n",
       "    <tr>\n",
       "      <td>std</td>\n",
       "      <td>232.460891</td>\n",
       "    </tr>\n",
       "    <tr>\n",
       "      <td>min</td>\n",
       "      <td>2.000000</td>\n",
       "    </tr>\n",
       "    <tr>\n",
       "      <td>25%</td>\n",
       "      <td>397.250000</td>\n",
       "    </tr>\n",
       "    <tr>\n",
       "      <td>50%</td>\n",
       "      <td>504.000000</td>\n",
       "    </tr>\n",
       "    <tr>\n",
       "      <td>75%</td>\n",
       "      <td>638.250000</td>\n",
       "    </tr>\n",
       "    <tr>\n",
       "      <td>max</td>\n",
       "      <td>1330.000000</td>\n",
       "    </tr>\n",
       "  </tbody>\n",
       "</table>\n",
       "</div>"
      ],
      "text/plain": [
       "            sentid\n",
       "count   218.000000\n",
       "mean    513.600917\n",
       "std     232.460891\n",
       "min       2.000000\n",
       "25%     397.250000\n",
       "50%     504.000000\n",
       "75%     638.250000\n",
       "max    1330.000000"
      ]
     },
     "execution_count": 6,
     "metadata": {},
     "output_type": "execute_result"
    }
   ],
   "source": [
    "avg_sentences = nlp_sentences.groupby('_gddid')['_gddid','sentid'].transform('max')\n",
    "avg_sentences.drop_duplicates(subset='_gddid', keep='first', inplace=True)\n",
    "avg_sentences.describe()"
   ]
  },
  {
   "cell_type": "markdown",
   "metadata": {},
   "source": [
    "From the Summary Statistics, despite having 111,965 sentences, there are only 218 unique articles (`_gddid`). The article with most sentences, had 1330 sentences; that's the max number found in `sentid`.  \n",
    "In order to know the average of sentences, I grouped by `_gddid` and then, obtained the number of sentences per article. After that, I just got the mean through a Summary of statistics to know that on average, each article has 514 sentences."
   ]
  },
  {
   "cell_type": "markdown",
   "metadata": {},
   "source": [
    "### Loading Bibliography Data"
   ]
  },
  {
   "cell_type": "code",
   "execution_count": 7,
   "metadata": {},
   "outputs": [],
   "source": [
    "bibliography = bib_loader.preprocessed_bibliography()"
   ]
  },
  {
   "cell_type": "code",
   "execution_count": 8,
   "metadata": {},
   "outputs": [
    {
     "data": {
      "text/html": [
       "<div>\n",
       "<style scoped>\n",
       "    .dataframe tbody tr th:only-of-type {\n",
       "        vertical-align: middle;\n",
       "    }\n",
       "\n",
       "    .dataframe tbody tr th {\n",
       "        vertical-align: top;\n",
       "    }\n",
       "\n",
       "    .dataframe thead th {\n",
       "        text-align: right;\n",
       "    }\n",
       "</style>\n",
       "<table border=\"1\" class=\"dataframe\">\n",
       "  <thead>\n",
       "    <tr style=\"text-align: right;\">\n",
       "      <th></th>\n",
       "      <th>_type</th>\n",
       "      <th>doi</th>\n",
       "      <th>publisher</th>\n",
       "      <th>title</th>\n",
       "      <th>journal.name.name</th>\n",
       "      <th>author</th>\n",
       "      <th>year</th>\n",
       "      <th>number</th>\n",
       "      <th>volumne</th>\n",
       "      <th>_gddid</th>\n",
       "      <th>type</th>\n",
       "      <th>pages</th>\n",
       "      <th>link_url</th>\n",
       "      <th>link_type</th>\n",
       "    </tr>\n",
       "  </thead>\n",
       "  <tbody>\n",
       "    <tr>\n",
       "      <td>0</td>\n",
       "      <td>doi</td>\n",
       "      <td>10.1016/S0277-3791(99)00007-4</td>\n",
       "      <td>Elsevier</td>\n",
       "      <td>Palaeoclimate, chronology and vegetation history of the Weichselian Lateglacial: comparative analysis of data from three cores at Lago Grande di Monticchio, southern Italy</td>\n",
       "      <td>Quaternary Science Reviews</td>\n",
       "      <td>Huntley, B.; Watts, W.A.; Allen, J.R.M.; Zolitschka, B.</td>\n",
       "      <td>1999</td>\n",
       "      <td>7</td>\n",
       "      <td>NaN</td>\n",
       "      <td>550453fde1382326932d85f7</td>\n",
       "      <td>article</td>\n",
       "      <td>945--960</td>\n",
       "      <td>http://www.sciencedirect.com/science/article/pii/S0277379199000074</td>\n",
       "      <td>publisher</td>\n",
       "    </tr>\n",
       "    <tr>\n",
       "      <td>1</td>\n",
       "      <td>doi</td>\n",
       "      <td>10.1139/b92-002</td>\n",
       "      <td>Canadian Science Publishing</td>\n",
       "      <td>Holocene history of forest trees on the Bruce Peninsula, southern Ontario</td>\n",
       "      <td>Canadian Journal of Botany</td>\n",
       "      <td>Bennett, K. D.</td>\n",
       "      <td>1992</td>\n",
       "      <td>1</td>\n",
       "      <td>NaN</td>\n",
       "      <td>578b5aabcf58f1587003efba</td>\n",
       "      <td>article</td>\n",
       "      <td>6--18</td>\n",
       "      <td>http://www.nrcresearchpress.com/doi/abs/10.1139/b92-002</td>\n",
       "      <td>publisher</td>\n",
       "    </tr>\n",
       "    <tr>\n",
       "      <td>2</td>\n",
       "      <td>doi</td>\n",
       "      <td>10.1016/0031-0182(80)90043-7</td>\n",
       "      <td>Elsevier</td>\n",
       "      <td>Glacial sequence and environmental history in the Sierra Nevada del cocuy (Colombia)</td>\n",
       "      <td>Palaeogeography, Palaeoclimatology, Palaeoecology</td>\n",
       "      <td>Van Der Hammen, T.; Barelds, J.; De Jong, H.; De Veer, A.A.</td>\n",
       "      <td>1980</td>\n",
       "      <td>NaN</td>\n",
       "      <td>NaN</td>\n",
       "      <td>54b43244e138239d868493cd</td>\n",
       "      <td>article</td>\n",
       "      <td>247--340</td>\n",
       "      <td>http://www.sciencedirect.com/science/article/pii/0031018280900437</td>\n",
       "      <td>publisher</td>\n",
       "    </tr>\n",
       "  </tbody>\n",
       "</table>\n",
       "</div>"
      ],
      "text/plain": [
       "  _type                            doi                    publisher  \\\n",
       "0   doi  10.1016/S0277-3791(99)00007-4                     Elsevier   \n",
       "1   doi                10.1139/b92-002  Canadian Science Publishing   \n",
       "2   doi   10.1016/0031-0182(80)90043-7                     Elsevier   \n",
       "\n",
       "                                                                                                                                                                         title  \\\n",
       "0  Palaeoclimate, chronology and vegetation history of the Weichselian Lateglacial: comparative analysis of data from three cores at Lago Grande di Monticchio, southern Italy   \n",
       "1                                                                                                    Holocene history of forest trees on the Bruce Peninsula, southern Ontario   \n",
       "2                                                                                         Glacial sequence and environmental history in the Sierra Nevada del cocuy (Colombia)   \n",
       "\n",
       "                                   journal.name.name  \\\n",
       "0                         Quaternary Science Reviews   \n",
       "1                         Canadian Journal of Botany   \n",
       "2  Palaeogeography, Palaeoclimatology, Palaeoecology   \n",
       "\n",
       "                                                        author  year number  \\\n",
       "0      Huntley, B.; Watts, W.A.; Allen, J.R.M.; Zolitschka, B.  1999      7   \n",
       "1                                               Bennett, K. D.  1992      1   \n",
       "2  Van Der Hammen, T.; Barelds, J.; De Jong, H.; De Veer, A.A.  1980    NaN   \n",
       "\n",
       "  volumne                    _gddid     type     pages  \\\n",
       "0     NaN  550453fde1382326932d85f7  article  945--960   \n",
       "1     NaN  578b5aabcf58f1587003efba  article     6--18   \n",
       "2     NaN  54b43244e138239d868493cd  article  247--340   \n",
       "\n",
       "                                                             link_url  \\\n",
       "0  http://www.sciencedirect.com/science/article/pii/S0277379199000074   \n",
       "1             http://www.nrcresearchpress.com/doi/abs/10.1139/b92-002   \n",
       "2   http://www.sciencedirect.com/science/article/pii/0031018280900437   \n",
       "\n",
       "   link_type  \n",
       "0  publisher  \n",
       "1  publisher  \n",
       "2  publisher  "
      ]
     },
     "execution_count": 8,
     "metadata": {},
     "output_type": "execute_result"
    }
   ],
   "source": [
    "bibliography.head(3)"
   ]
  },
  {
   "cell_type": "code",
   "execution_count": 9,
   "metadata": {},
   "outputs": [
    {
     "data": {
      "text/html": [
       "<div>\n",
       "<style scoped>\n",
       "    .dataframe tbody tr th:only-of-type {\n",
       "        vertical-align: middle;\n",
       "    }\n",
       "\n",
       "    .dataframe tbody tr th {\n",
       "        vertical-align: top;\n",
       "    }\n",
       "\n",
       "    .dataframe thead th {\n",
       "        text-align: right;\n",
       "    }\n",
       "</style>\n",
       "<table border=\"1\" class=\"dataframe\">\n",
       "  <thead>\n",
       "    <tr style=\"text-align: right;\">\n",
       "      <th></th>\n",
       "      <th>_type</th>\n",
       "      <th>doi</th>\n",
       "      <th>publisher</th>\n",
       "      <th>title</th>\n",
       "      <th>journal.name.name</th>\n",
       "      <th>author</th>\n",
       "      <th>year</th>\n",
       "      <th>number</th>\n",
       "      <th>volumne</th>\n",
       "      <th>_gddid</th>\n",
       "      <th>type</th>\n",
       "      <th>pages</th>\n",
       "      <th>link_url</th>\n",
       "      <th>link_type</th>\n",
       "    </tr>\n",
       "  </thead>\n",
       "  <tbody>\n",
       "    <tr>\n",
       "      <td>count</td>\n",
       "      <td>221</td>\n",
       "      <td>221</td>\n",
       "      <td>221</td>\n",
       "      <td>221</td>\n",
       "      <td>221</td>\n",
       "      <td>221</td>\n",
       "      <td>221</td>\n",
       "      <td>183</td>\n",
       "      <td>0</td>\n",
       "      <td>221</td>\n",
       "      <td>221</td>\n",
       "      <td>216</td>\n",
       "      <td>221</td>\n",
       "      <td>220</td>\n",
       "    </tr>\n",
       "    <tr>\n",
       "      <td>unique</td>\n",
       "      <td>1</td>\n",
       "      <td>221</td>\n",
       "      <td>6</td>\n",
       "      <td>221</td>\n",
       "      <td>41</td>\n",
       "      <td>213</td>\n",
       "      <td>47</td>\n",
       "      <td>28</td>\n",
       "      <td>0</td>\n",
       "      <td>221</td>\n",
       "      <td>1</td>\n",
       "      <td>214</td>\n",
       "      <td>221</td>\n",
       "      <td>1</td>\n",
       "    </tr>\n",
       "    <tr>\n",
       "      <td>top</td>\n",
       "      <td>doi</td>\n",
       "      <td>10.1111/j.1502-3885.2009.00090.x</td>\n",
       "      <td>Elsevier</td>\n",
       "      <td>Wisconsin Environment of Interior Alaska: Pollen and Macrofossil Analysis of a 27 Meter Core from the Isabella Basin (Fairbanks, Alaska)</td>\n",
       "      <td>Quaternary Research</td>\n",
       "      <td>Markgraf, Vera</td>\n",
       "      <td>2011</td>\n",
       "      <td>3</td>\n",
       "      <td>NaN</td>\n",
       "      <td>56f8f62ccf58f1710ac939e0</td>\n",
       "      <td>article</td>\n",
       "      <td>1--13</td>\n",
       "      <td>http://www.sciencedirect.com/science/article/pii/S0012821X15007840</td>\n",
       "      <td>publisher</td>\n",
       "    </tr>\n",
       "    <tr>\n",
       "      <td>freq</td>\n",
       "      <td>221</td>\n",
       "      <td>1</td>\n",
       "      <td>138</td>\n",
       "      <td>1</td>\n",
       "      <td>44</td>\n",
       "      <td>3</td>\n",
       "      <td>14</td>\n",
       "      <td>40</td>\n",
       "      <td>NaN</td>\n",
       "      <td>1</td>\n",
       "      <td>221</td>\n",
       "      <td>2</td>\n",
       "      <td>1</td>\n",
       "      <td>220</td>\n",
       "    </tr>\n",
       "  </tbody>\n",
       "</table>\n",
       "</div>"
      ],
      "text/plain": [
       "       _type                               doi publisher  \\\n",
       "count    221                               221       221   \n",
       "unique     1                               221         6   \n",
       "top      doi  10.1111/j.1502-3885.2009.00090.x  Elsevier   \n",
       "freq     221                                 1       138   \n",
       "\n",
       "                                                                                                                                           title  \\\n",
       "count                                                                                                                                        221   \n",
       "unique                                                                                                                                       221   \n",
       "top     Wisconsin Environment of Interior Alaska: Pollen and Macrofossil Analysis of a 27 Meter Core from the Isabella Basin (Fairbanks, Alaska)   \n",
       "freq                                                                                                                                           1   \n",
       "\n",
       "          journal.name.name          author  year number volumne  \\\n",
       "count                   221             221   221    183       0   \n",
       "unique                   41             213    47     28       0   \n",
       "top     Quaternary Research  Markgraf, Vera  2011      3     NaN   \n",
       "freq                     44               3    14     40     NaN   \n",
       "\n",
       "                          _gddid     type  pages  \\\n",
       "count                        221      221    216   \n",
       "unique                       221        1    214   \n",
       "top     56f8f62ccf58f1710ac939e0  article  1--13   \n",
       "freq                           1      221      2   \n",
       "\n",
       "                                                                  link_url  \\\n",
       "count                                                                  221   \n",
       "unique                                                                 221   \n",
       "top     http://www.sciencedirect.com/science/article/pii/S0012821X15007840   \n",
       "freq                                                                     1   \n",
       "\n",
       "        link_type  \n",
       "count         220  \n",
       "unique          1  \n",
       "top     publisher  \n",
       "freq          220  "
      ]
     },
     "execution_count": 9,
     "metadata": {},
     "output_type": "execute_result"
    }
   ],
   "source": [
    "bibliography.describe(include = 'all')"
   ]
  },
  {
   "cell_type": "markdown",
   "metadata": {},
   "source": [
    "## EDA\n",
    "\n",
    "Reviewing our data includes skimming through some papers online and seeing if the data is consistent with our NLP Sentences dataframe.\n",
    "\n",
    "From there, we can also visualize what we would like our model to predict: 'Location', 'Site Name', 'Age Span', and 'Site Description' from a \"Human perspective\"."
   ]
  },
  {
   "cell_type": "markdown",
   "metadata": {},
   "source": [
    "### Finding Latitude and Longitud via REGEX "
   ]
  },
  {
   "cell_type": "markdown",
   "metadata": {},
   "source": [
    "After reviewing some PDF's and viewing the data parsing, I noticed some possible patterns for coordinates.\n",
    "\n",
    "<img src=\"figures/img/00_snippet_of_pdf.png\" alt=\"Drawing\" style=\"width: 300px;\"/>\n",
    "\n",
    "Which translates to our pandas dataframe as:\n",
    "\n",
    "![alt text](figures/img/01_snippet_in_sql.png \"PandasVersion\")\n",
    "\n",
    "As a first problem, we can notice that the degrees symbol `°` was translated as a `3`. On some other occassions, it is confused as an `o` or a middle point `◦`. For `'`, this symbol got confused by the word `cents`.\n",
    "\n",
    "I am still going to use normal REGEX to find coordinates in the most intuitive way. \n",
    "\n",
    "A coordinate for longitude is a number ranging from -180° to 180°. It has three components, `°, ',\"` and it covers the position in E or W.\n",
    "\n",
    "Latitude goes from -90° to 90°, has the same three components and goes from S to N.\n",
    "\n",
    "Using REGEX, and assuming data consistency, the following code should be able to extract coordinates. "
   ]
  },
  {
   "cell_type": "code",
   "execution_count": 10,
   "metadata": {},
   "outputs": [
    {
     "data": {
      "text/html": [
       "<div>\n",
       "<style scoped>\n",
       "    .dataframe tbody tr th:only-of-type {\n",
       "        vertical-align: middle;\n",
       "    }\n",
       "\n",
       "    .dataframe tbody tr th {\n",
       "        vertical-align: top;\n",
       "    }\n",
       "\n",
       "    .dataframe thead th {\n",
       "        text-align: right;\n",
       "    }\n",
       "</style>\n",
       "<table border=\"1\" class=\"dataframe\">\n",
       "  <thead>\n",
       "    <tr style=\"text-align: right;\">\n",
       "      <th></th>\n",
       "      <th>words_as_string</th>\n",
       "      <th>words</th>\n",
       "      <th>dms_regex</th>\n",
       "      <th>dd_regex</th>\n",
       "    </tr>\n",
       "  </thead>\n",
       "  <tbody>\n",
       "    <tr>\n",
       "      <td>0</td>\n",
       "      <td>Available,online,at,www.sciencedirect.com,Quaternary,Research,69,-LRB-,2008,-RRB-,263,--,275,www.elsevier.com/locate/yqres,Development,of,the,mixed,conifer,forest,in,northern,New,Mexico,and,its,relationship,to,Holocene,environmental,change,R.,Scott,Anderson,a,,,b,,,,,Renata,B.,Jass,b,,1,,,Jaime,L.,Toney,b,,2,,,Craig,D.,Allen,c,,,Luz,M.,Cisneros-Dozal,d,,,Marcey,Hess,d,,,Jeff,Heikoop,d,,,Julianna,Fessenden,d,a,Center,for,Environmental,Sciences,&amp;,Education,,,Box,5694,,,Northern,Arizona,Univers...</td>\n",
       "      <td>[Available, online, at, www.sciencedirect.com, Quaternary, Research, 69, -LRB-, 2008, -RRB-, 263, --, 275, www.elsevier.com/locate/yqres, Development, of, the, mixed, conifer, forest, in, northern, New, Mexico, and, its, relationship, to, Holocene, environmental, change, R., Scott, Anderson, a, ,, b, ,, ,, Renata, B., Jass, b, ,1, ,, Jaime, L., Toney, b, ,2, ,, Craig, D., Allen, c, ,, Luz, M., Cisneros-Dozal, d, ,, Marcey, Hess, d, ,, Jeff, Heikoop, d, ,, Julianna, Fessenden, d, a, Center, f...</td>\n",
       "      <td>[]</td>\n",
       "      <td>[]</td>\n",
       "    </tr>\n",
       "    <tr>\n",
       "      <td>1</td>\n",
       "      <td>The,Chihuahueños,Bog,record,extends,to,over,15,000,cal,yr,BP,.</td>\n",
       "      <td>[The, Chihuahueños, Bog, record, extends, to, over, 15,000, cal, yr, BP, .]</td>\n",
       "      <td>[]</td>\n",
       "      <td>[]</td>\n",
       "    </tr>\n",
       "    <tr>\n",
       "      <td>2</td>\n",
       "      <td>An,Artemisia,steppe,,,then,an,open,Picea,woodland,grew,around,a,small,pond,until,ca.,11,700,cal,yr,BP,when,Pinus,ponderosa,became,established,.</td>\n",
       "      <td>[An, Artemisia, steppe, ,, then, an, open, Picea, woodland, grew, around, a, small, pond, until, ca., 11,700, cal, yr, BP, when, Pinus, ponderosa, became, established, .]</td>\n",
       "      <td>[]</td>\n",
       "      <td>[]</td>\n",
       "    </tr>\n",
       "  </tbody>\n",
       "</table>\n",
       "</div>"
      ],
      "text/plain": [
       "                                                                                                                                                                                                                                                                                                                                                                                                                                                                                                       words_as_string  \\\n",
       "0  Available,online,at,www.sciencedirect.com,Quaternary,Research,69,-LRB-,2008,-RRB-,263,--,275,www.elsevier.com/locate/yqres,Development,of,the,mixed,conifer,forest,in,northern,New,Mexico,and,its,relationship,to,Holocene,environmental,change,R.,Scott,Anderson,a,,,b,,,,,Renata,B.,Jass,b,,1,,,Jaime,L.,Toney,b,,2,,,Craig,D.,Allen,c,,,Luz,M.,Cisneros-Dozal,d,,,Marcey,Hess,d,,,Jeff,Heikoop,d,,,Julianna,Fessenden,d,a,Center,for,Environmental,Sciences,&,Education,,,Box,5694,,,Northern,Arizona,Univers...   \n",
       "1                                                                                                                                                                                                                                                                                                                                                                                                                                                       The,Chihuahueños,Bog,record,extends,to,over,15,000,cal,yr,BP,.   \n",
       "2                                                                                                                                                                                                                                                                                                                                                                      An,Artemisia,steppe,,,then,an,open,Picea,woodland,grew,around,a,small,pond,until,ca.,11,700,cal,yr,BP,when,Pinus,ponderosa,became,established,.   \n",
       "\n",
       "                                                                                                                                                                                                                                                                                                                                                                                                                                                                                                                 words  \\\n",
       "0  [Available, online, at, www.sciencedirect.com, Quaternary, Research, 69, -LRB-, 2008, -RRB-, 263, --, 275, www.elsevier.com/locate/yqres, Development, of, the, mixed, conifer, forest, in, northern, New, Mexico, and, its, relationship, to, Holocene, environmental, change, R., Scott, Anderson, a, ,, b, ,, ,, Renata, B., Jass, b, ,1, ,, Jaime, L., Toney, b, ,2, ,, Craig, D., Allen, c, ,, Luz, M., Cisneros-Dozal, d, ,, Marcey, Hess, d, ,, Jeff, Heikoop, d, ,, Julianna, Fessenden, d, a, Center, f...   \n",
       "1                                                                                                                                                                                                                                                                                                                                                                                                                                          [The, Chihuahueños, Bog, record, extends, to, over, 15,000, cal, yr, BP, .]   \n",
       "2                                                                                                                                                                                                                                                                                                                                           [An, Artemisia, steppe, ,, then, an, open, Picea, woodland, grew, around, a, small, pond, until, ca., 11,700, cal, yr, BP, when, Pinus, ponderosa, became, established, .]   \n",
       "\n",
       "  dms_regex dd_regex  \n",
       "0        []       []  \n",
       "1        []       []  \n",
       "2        []       []  "
      ]
     },
     "execution_count": 10,
     "metadata": {},
     "output_type": "execute_result"
    }
   ],
   "source": [
    "# TODO Find REGEX of couples of numbers (123, 234)\n",
    "nlp_sentences[['words_as_string', 'words', 'dms_regex', 'dd_regex']].head(3)"
   ]
  },
  {
   "cell_type": "code",
   "execution_count": 11,
   "metadata": {},
   "outputs": [],
   "source": [
    "# Run only when enough time available\n",
    "# nlp_sentences[['words_as_string', 'words', 'dms_regex', 'dd_regex']].describe()"
   ]
  },
  {
   "cell_type": "markdown",
   "metadata": {},
   "source": [
    "The `dms_regex` only returned 95 unique values. That's to say that from the 111965 sentences, only 95 possess something similar to the regex we are looking for.  However, the `dd_regex` returned 8 values.\n",
    "\n",
    "Let's see an example of each regex extraction to verify values."
   ]
  },
  {
   "cell_type": "code",
   "execution_count": 12,
   "metadata": {},
   "outputs": [
    {
     "data": {
      "text/html": [
       "<div>\n",
       "<style scoped>\n",
       "    .dataframe tbody tr th:only-of-type {\n",
       "        vertical-align: middle;\n",
       "    }\n",
       "\n",
       "    .dataframe tbody tr th {\n",
       "        vertical-align: top;\n",
       "    }\n",
       "\n",
       "    .dataframe thead th {\n",
       "        text-align: right;\n",
       "    }\n",
       "</style>\n",
       "<table border=\"1\" class=\"dataframe\">\n",
       "  <thead>\n",
       "    <tr style=\"text-align: right;\">\n",
       "      <th></th>\n",
       "      <th>words</th>\n",
       "      <th>words_as_string</th>\n",
       "      <th>dms_regex</th>\n",
       "      <th>dd_regex</th>\n",
       "    </tr>\n",
       "  </thead>\n",
       "  <tbody>\n",
       "    <tr>\n",
       "      <td>94875</td>\n",
       "      <td>[Introduction, Laghi, di, Monticchio, are, two, maar, lakes, located, in, the, explosion, crater, that, lies, west, of, the, peak, of, Monte, Vulture, ,, near, Mel, '', in, the, Basilicata, region, of, southern, Italy, -LRB-, 403, 56, 40, N, ,, 153, 36, 48, E, -RRB-, -LRB-, Fig., 1, -RRB-, .]</td>\n",
       "      <td>Introduction,Laghi,di,Monticchio,are,two,maar,lakes,located,in,the,explosion,crater,that,lies,west,of,the,peak,of,Monte,Vulture,,,near,Mel,'',in,the,Basilicata,region,of,southern,Italy,-LRB-,403,56,40,N,,,153,36,48,E,-RRB-,-LRB-,Fig.,1,-RRB-,.</td>\n",
       "      <td>[403,56,40,N,,,153,36,48,E]</td>\n",
       "      <td>[]</td>\n",
       "    </tr>\n",
       "  </tbody>\n",
       "</table>\n",
       "</div>"
      ],
      "text/plain": [
       "                                                                                                                                                                                                                                                                                                       words  \\\n",
       "94875  [Introduction, Laghi, di, Monticchio, are, two, maar, lakes, located, in, the, explosion, crater, that, lies, west, of, the, peak, of, Monte, Vulture, ,, near, Mel, '', in, the, Basilicata, region, of, southern, Italy, -LRB-, 403, 56, 40, N, ,, 153, 36, 48, E, -RRB-, -LRB-, Fig., 1, -RRB-, .]   \n",
       "\n",
       "                                                                                                                                                                                                                                           words_as_string  \\\n",
       "94875  Introduction,Laghi,di,Monticchio,are,two,maar,lakes,located,in,the,explosion,crater,that,lies,west,of,the,peak,of,Monte,Vulture,,,near,Mel,'',in,the,Basilicata,region,of,southern,Italy,-LRB-,403,56,40,N,,,153,36,48,E,-RRB-,-LRB-,Fig.,1,-RRB-,.   \n",
       "\n",
       "                         dms_regex dd_regex  \n",
       "94875  [403,56,40,N,,,153,36,48,E]       []  "
      ]
     },
     "execution_count": 12,
     "metadata": {},
     "output_type": "execute_result"
    }
   ],
   "source": [
    "# dms regex example\n",
    "dms_example = nlp_sentences[nlp_sentences['_gddid'] == '550453fde1382326932d85f7']\n",
    "dms_example = dms_example[dms_example['sentid'] == 10]\n",
    "dms_example[['words', 'words_as_string', 'dms_regex', 'dd_regex']]"
   ]
  },
  {
   "cell_type": "code",
   "execution_count": 13,
   "metadata": {},
   "outputs": [
    {
     "data": {
      "text/html": [
       "<div>\n",
       "<style scoped>\n",
       "    .dataframe tbody tr th:only-of-type {\n",
       "        vertical-align: middle;\n",
       "    }\n",
       "\n",
       "    .dataframe tbody tr th {\n",
       "        vertical-align: top;\n",
       "    }\n",
       "\n",
       "    .dataframe thead th {\n",
       "        text-align: right;\n",
       "    }\n",
       "</style>\n",
       "<table border=\"1\" class=\"dataframe\">\n",
       "  <thead>\n",
       "    <tr style=\"text-align: right;\">\n",
       "      <th></th>\n",
       "      <th>words</th>\n",
       "      <th>words_as_string</th>\n",
       "      <th>dms_regex</th>\n",
       "      <th>dd_regex</th>\n",
       "    </tr>\n",
       "  </thead>\n",
       "  <tbody>\n",
       "    <tr>\n",
       "      <td>62439</td>\n",
       "      <td>[Kingston, meadow, Kingston, Meadow, -LRB-, 24...</td>\n",
       "      <td>Kingston,meadow,Kingston,Meadow,-LRB-,2400,m,e...</td>\n",
       "      <td>[]</td>\n",
       "      <td>[117.11,W,39.21,N]</td>\n",
       "    </tr>\n",
       "  </tbody>\n",
       "</table>\n",
       "</div>"
      ],
      "text/plain": [
       "                                                   words  \\\n",
       "62439  [Kingston, meadow, Kingston, Meadow, -LRB-, 24...   \n",
       "\n",
       "                                         words_as_string dms_regex  \\\n",
       "62439  Kingston,meadow,Kingston,Meadow,-LRB-,2400,m,e...        []   \n",
       "\n",
       "                 dd_regex  \n",
       "62439  [117.11,W,39.21,N]  "
      ]
     },
     "execution_count": 13,
     "metadata": {},
     "output_type": "execute_result"
    }
   ],
   "source": [
    "# dd_regex example\n",
    "dd_example = nlp_sentences[nlp_sentences['_gddid'] == '57a12aaccf58f1b0962a836c']\n",
    "dd_example = dd_example[dd_example['sentid'] == 62]\n",
    "dd_example[['words', 'words_as_string', 'dms_regex', 'dd_regex']]"
   ]
  },
  {
   "cell_type": "markdown",
   "metadata": {},
   "source": [
    "### Problems with the REGEX approach\n",
    "\n",
    "As seen before, extracting information using REGEX is very complicated. We would require a lot of queries that would retrieve each particular case.\n",
    "\n",
    "A possible alternative could be using NER, Named Entity Recognition."
   ]
  },
  {
   "cell_type": "markdown",
   "metadata": {},
   "source": [
    "Article 01  \n",
    "Skimmed info: \n",
    " * `Article Name:` Palaeoclimate_chronology_and_vegetation_history_of_the_Weichselian_Lateglacial\n",
    " * `Link`: http://www.sciencedirect.com/science/article/pii/S0277379199000074  \n",
    " * `Site Name`:  Laghi di Monticchio\n",
    " * `Location`:  40° 56' 40\" N, 15° 36' 48\" E\n",
    " * `Age Span`: \n",
    " * `Site Descriptions`: The record from Lago Grande di Monticchio now adds macrofossil evidence of the presence of relatively boreal tree taxa during the Lateglacial interstadial and provides a chronology based upon annually laminated sediments."
   ]
  },
  {
   "cell_type": "code",
   "execution_count": 14,
   "metadata": {},
   "outputs": [
    {
     "data": {
      "text/html": [
       "<div>\n",
       "<style scoped>\n",
       "    .dataframe tbody tr th:only-of-type {\n",
       "        vertical-align: middle;\n",
       "    }\n",
       "\n",
       "    .dataframe tbody tr th {\n",
       "        vertical-align: top;\n",
       "    }\n",
       "\n",
       "    .dataframe thead th {\n",
       "        text-align: right;\n",
       "    }\n",
       "</style>\n",
       "<table border=\"1\" class=\"dataframe\">\n",
       "  <thead>\n",
       "    <tr style=\"text-align: right;\">\n",
       "      <th></th>\n",
       "      <th>sentid</th>\n",
       "      <th>words</th>\n",
       "    </tr>\n",
       "  </thead>\n",
       "  <tbody>\n",
       "    <tr>\n",
       "      <td>94865</td>\n",
       "      <td>1</td>\n",
       "      <td>[Quaternary, Science, Reviews, 18, -LRB-, 1999...</td>\n",
       "    </tr>\n",
       "    <tr>\n",
       "      <td>94866</td>\n",
       "      <td>2</td>\n",
       "      <td>[Plant, macrofossil, data, from, one, core, pr...</td>\n",
       "    </tr>\n",
       "    <tr>\n",
       "      <td>94867</td>\n",
       "      <td>3</td>\n",
       "      <td>[Quantitative, palaeoclimate, reconstructions,...</td>\n",
       "    </tr>\n",
       "    <tr>\n",
       "      <td>94868</td>\n",
       "      <td>4</td>\n",
       "      <td>[The, chronological, framework, for, Lateglaci...</td>\n",
       "    </tr>\n",
       "    <tr>\n",
       "      <td>94870</td>\n",
       "      <td>5</td>\n",
       "      <td>[Surface, conditions, in, the, North, Atlantic...</td>\n",
       "    </tr>\n",
       "    <tr>\n",
       "      <td>...</td>\n",
       "      <td>...</td>\n",
       "      <td>...</td>\n",
       "    </tr>\n",
       "    <tr>\n",
       "      <td>95325</td>\n",
       "      <td>448</td>\n",
       "      <td>[Vegetation, history, and, climate, of, the, l...</td>\n",
       "    </tr>\n",
       "    <tr>\n",
       "      <td>95326</td>\n",
       "      <td>449</td>\n",
       "      <td>[Quaternary, Science, Reviews, ,, 15, ,, 133, ...</td>\n",
       "    </tr>\n",
       "    <tr>\n",
       "      <td>95327</td>\n",
       "      <td>450</td>\n",
       "      <td>[Zolitschka, ,, B., ,, &amp;, Negendank, ,, J., F....</td>\n",
       "    </tr>\n",
       "    <tr>\n",
       "      <td>95329</td>\n",
       "      <td>451</td>\n",
       "      <td>[Sedimentology, ,, dating, and, palaeoclimatic...</td>\n",
       "    </tr>\n",
       "    <tr>\n",
       "      <td>95330</td>\n",
       "      <td>452</td>\n",
       "      <td>[Quaternary, Science, Reviews, ,, 15, ,, 101, ...</td>\n",
       "    </tr>\n",
       "  </tbody>\n",
       "</table>\n",
       "<p>452 rows × 2 columns</p>\n",
       "</div>"
      ],
      "text/plain": [
       "       sentid                                              words\n",
       "94865       1  [Quaternary, Science, Reviews, 18, -LRB-, 1999...\n",
       "94866       2  [Plant, macrofossil, data, from, one, core, pr...\n",
       "94867       3  [Quantitative, palaeoclimate, reconstructions,...\n",
       "94868       4  [The, chronological, framework, for, Lateglaci...\n",
       "94870       5  [Surface, conditions, in, the, North, Atlantic...\n",
       "...       ...                                                ...\n",
       "95325     448  [Vegetation, history, and, climate, of, the, l...\n",
       "95326     449  [Quaternary, Science, Reviews, ,, 15, ,, 133, ...\n",
       "95327     450  [Zolitschka, ,, B., ,, &, Negendank, ,, J., F....\n",
       "95329     451  [Sedimentology, ,, dating, and, palaeoclimatic...\n",
       "95330     452  [Quaternary, Science, Reviews, ,, 15, ,, 101, ...\n",
       "\n",
       "[452 rows x 2 columns]"
      ]
     },
     "execution_count": 14,
     "metadata": {},
     "output_type": "execute_result"
    }
   ],
   "source": [
    "# Article 01 \n",
    "ard.order_article(nlp_sentences, '550453fde1382326932d85f7')"
   ]
  },
  {
   "cell_type": "markdown",
   "metadata": {},
   "source": [
    "Article 02  \n",
    "Skimmed info:  \n",
    "* `Article:` Development of the Mixed Connifer Forest in Northern New Mexico and its relationship to Holocene environmental change\n",
    "* `Link`: http://www.sciencedirect.com/science/article/pii/S0033589407001512\n",
    "* `Site Name`:  Chihuahuenos Bog \n",
    "* `Location`:  ??? No Given Coordinates \n",
    "* `Age Span`:   \n",
    "* `Site Descriptions`:  Chihuahueños Bog is located within the mixed conifer forest and has affinities to the flora of the southern Rocky Mountains(Foxx and Tierney, 1985; Allen, 2004). Although the area immediately surrounding the bog has been heavily logged in recent years, nearly every conifer species growing in montaneforests of the Jemez mountains is represented either along theshore of the bog or in the surrounding uplands.  "
   ]
  },
  {
   "cell_type": "code",
   "execution_count": 15,
   "metadata": {},
   "outputs": [],
   "source": [
    "# Article 2\n",
    "# ard.order_article(nlp_sentences, '54b43266e138239d8684efed')"
   ]
  },
  {
   "cell_type": "markdown",
   "metadata": {},
   "source": [
    "Article 03  \n",
    "Skimmed info:  \n",
    "* `Link`: http://dx.doi.org/10.1130/g35541.1  # No Full access to article\n",
    "* `Site Name`:  Cahokia region, Illinois, USA\n",
    "* `Location`:  N38°42'00\" - N38°42'00\", W90°04'60\" - W90°04'60\" - Not found on text (yet).\n",
    "* `Age Span`:   \n",
    "* `Site Descriptions`: Record from Horseshoe Lake, an oxbow lake in the central Mississippi River valley that is adjacent to the Cahokia site (Illinois, USA), the largest prehistoric settlement north of Mexico.   "
   ]
  },
  {
   "cell_type": "code",
   "execution_count": 16,
   "metadata": {},
   "outputs": [],
   "source": [
    "# Article 3\n",
    "# ard.order_article(nlp_sentences, '57c5b941cf58f1338eaddb5b')"
   ]
  },
  {
   "cell_type": "markdown",
   "metadata": {},
   "source": [
    "Article 04  \n",
    "Skimmed info:  \n",
    "* `Link:`http://www.tandfonline.com/doi/abs/10.1080/00173130902965157\n",
    "* `Site Name`:  Begbunar\n",
    "* `Location`:  42°09′ N, 22° 33′ E; 1750 ; in SQL file shows as: `42,°,09,cents,N,,,22,°,33,cents,E`\n",
    "* `Age Span`:   \n",
    "* `Site Descriptions`: Located in the central treeless zone of the Osogovo mountains, which are situated at the border between south-western Bulgaria and the north-eastern former Yugoslav Republic of Macedonia."
   ]
  },
  {
   "cell_type": "code",
   "execution_count": 17,
   "metadata": {},
   "outputs": [],
   "source": [
    "# Article 4\n",
    "# ard.order_article(nlp_sentences, '58d29193cf58f14928755ba5')"
   ]
  },
  {
   "cell_type": "code",
   "execution_count": 18,
   "metadata": {},
   "outputs": [],
   "source": [
    "# Try to see the exact location. Wont show last few words.\n",
    "# pd.DataFrame(ard.order_article(nlp_sentences,'58d29193cf58f14928755ba5').iloc[4]['words'])"
   ]
  },
  {
   "cell_type": "markdown",
   "metadata": {},
   "source": [
    "Article 05  \n",
    "Skimmed info:  \n",
    "* `Link`: http://dx.doi.org/10.1130/0016-7606(1997)109<1306:tfalqp>2.3.co\n",
    "* `Site Name`:  Cottonwood III, Cottonwood IV, Red Lady, Red Well, Splains\n",
    "* `Location`:  38°49'50' 106°24'45', 38°49'50' 106°24'45', 38°52'50' 107°2'30', 38°52'50' 107°2'30',38°53'40' 107°3'15', 38°52'28' 107°05', 38°50' 107°4'30', 38°50' 107°4'30', 38°52' 107°2'30', 38°45' 106°50', 38°45' 106°50'\n",
    "* `Age Span`:   17000 - 400\n",
    "* `Site Descriptions`:   The lower timberline or lower forest border is the lower elevational limit of a continuous forest belt. In the Rocky Mountains it forms a sharp contrast with shrublands or grasslands in valley bottoms. Trees may extend below the lower timberline in favorable habitats, along streams or on rocky outcrops.  "
   ]
  },
  {
   "cell_type": "code",
   "execution_count": 19,
   "metadata": {},
   "outputs": [],
   "source": [
    "# Article 5\n",
    "# ard.order_article(nlp_sentences, '57928e07cf58f133d1c26609')"
   ]
  },
  {
   "cell_type": "code",
   "execution_count": 20,
   "metadata": {},
   "outputs": [],
   "source": [
    "# Print the exact line where locations are.\n",
    "# pd.DataFrame(ard.order_article(nlp_sentences, '57928e07cf58f133d1c26609').iloc[179])"
   ]
  },
  {
   "cell_type": "markdown",
   "metadata": {},
   "source": [
    "## Linking Neotoma DB to extract locations"
   ]
  },
  {
   "cell_type": "code",
   "execution_count": 21,
   "metadata": {},
   "outputs": [],
   "source": [
    "import src.modules.preprocessing.neotoma_loader as nl"
   ]
  },
  {
   "cell_type": "code",
   "execution_count": 22,
   "metadata": {},
   "outputs": [],
   "source": [
    "neotoma = nl.neotoma_loader()"
   ]
  },
  {
   "cell_type": "code",
   "execution_count": 23,
   "metadata": {},
   "outputs": [
    {
     "data": {
      "text/html": [
       "<div>\n",
       "<style scoped>\n",
       "    .dataframe tbody tr th:only-of-type {\n",
       "        vertical-align: middle;\n",
       "    }\n",
       "\n",
       "    .dataframe tbody tr th {\n",
       "        vertical-align: top;\n",
       "    }\n",
       "\n",
       "    .dataframe thead th {\n",
       "        text-align: right;\n",
       "    }\n",
       "</style>\n",
       "<table border=\"1\" class=\"dataframe\">\n",
       "  <thead>\n",
       "    <tr style=\"text-align: right;\">\n",
       "      <th></th>\n",
       "      <th>siteid</th>\n",
       "      <th>sitename</th>\n",
       "      <th>longitudeeast</th>\n",
       "      <th>latitudenorth</th>\n",
       "      <th>longitudewest</th>\n",
       "      <th>latitudesouth</th>\n",
       "      <th>sitedescription</th>\n",
       "      <th>doi</th>\n",
       "    </tr>\n",
       "  </thead>\n",
       "  <tbody>\n",
       "    <tr>\n",
       "      <td>0</td>\n",
       "      <td>10330</td>\n",
       "      <td>Lac du Sommet</td>\n",
       "      <td>-70.66468</td>\n",
       "      <td>47.71662</td>\n",
       "      <td>-70.66573</td>\n",
       "      <td>47.71382</td>\n",
       "      <td>The small shallow Lac du Sommet (0.02 km2, 4 m...</td>\n",
       "      <td>10.1177/0959683611400199</td>\n",
       "    </tr>\n",
       "    <tr>\n",
       "      <td>1</td>\n",
       "      <td>10330</td>\n",
       "      <td>Lac du Sommet</td>\n",
       "      <td>-70.66468</td>\n",
       "      <td>47.71662</td>\n",
       "      <td>-70.66573</td>\n",
       "      <td>47.71382</td>\n",
       "      <td>The small shallow Lac du Sommet (0.02 km2, 4 m...</td>\n",
       "      <td>10.1177/0959683611400199</td>\n",
       "    </tr>\n",
       "    <tr>\n",
       "      <td>2</td>\n",
       "      <td>1729</td>\n",
       "      <td>Myrtle Lake</td>\n",
       "      <td>-93.37853</td>\n",
       "      <td>47.98645</td>\n",
       "      <td>-93.39207</td>\n",
       "      <td>47.97876</td>\n",
       "      <td>Lake surrounded by peatland. Physiography: Red...</td>\n",
       "      <td>10.1139/b68-190</td>\n",
       "    </tr>\n",
       "  </tbody>\n",
       "</table>\n",
       "</div>"
      ],
      "text/plain": [
       "   siteid       sitename  longitudeeast  latitudenorth  longitudewest  \\\n",
       "0   10330  Lac du Sommet      -70.66468       47.71662      -70.66573   \n",
       "1   10330  Lac du Sommet      -70.66468       47.71662      -70.66573   \n",
       "2    1729    Myrtle Lake      -93.37853       47.98645      -93.39207   \n",
       "\n",
       "   latitudesouth                                    sitedescription  \\\n",
       "0       47.71382  The small shallow Lac du Sommet (0.02 km2, 4 m...   \n",
       "1       47.71382  The small shallow Lac du Sommet (0.02 km2, 4 m...   \n",
       "2       47.97876  Lake surrounded by peatland. Physiography: Red...   \n",
       "\n",
       "                        doi  \n",
       "0  10.1177/0959683611400199  \n",
       "1  10.1177/0959683611400199  \n",
       "2           10.1139/b68-190  "
      ]
     },
     "execution_count": 23,
     "metadata": {},
     "output_type": "execute_result"
    }
   ],
   "source": [
    "neotoma.head(3)"
   ]
  },
  {
   "cell_type": "code",
   "execution_count": 24,
   "metadata": {},
   "outputs": [
    {
     "data": {
      "text/html": [
       "<div>\n",
       "<style scoped>\n",
       "    .dataframe tbody tr th:only-of-type {\n",
       "        vertical-align: middle;\n",
       "    }\n",
       "\n",
       "    .dataframe tbody tr th {\n",
       "        vertical-align: top;\n",
       "    }\n",
       "\n",
       "    .dataframe thead th {\n",
       "        text-align: right;\n",
       "    }\n",
       "</style>\n",
       "<table border=\"1\" class=\"dataframe\">\n",
       "  <thead>\n",
       "    <tr style=\"text-align: right;\">\n",
       "      <th></th>\n",
       "      <th>_gddid</th>\n",
       "      <th>sentid</th>\n",
       "      <th>wordidx</th>\n",
       "      <th>words</th>\n",
       "      <th>part_of_speech</th>\n",
       "      <th>special_class</th>\n",
       "      <th>lemmas</th>\n",
       "      <th>word_type</th>\n",
       "      <th>word_modified</th>\n",
       "      <th>words_as_string</th>\n",
       "      <th>...</th>\n",
       "      <th>title</th>\n",
       "      <th>journal.name.name</th>\n",
       "      <th>author</th>\n",
       "      <th>year</th>\n",
       "      <th>number</th>\n",
       "      <th>volumne</th>\n",
       "      <th>type</th>\n",
       "      <th>pages</th>\n",
       "      <th>link_url</th>\n",
       "      <th>link_type</th>\n",
       "    </tr>\n",
       "  </thead>\n",
       "  <tbody>\n",
       "    <tr>\n",
       "      <td>0</td>\n",
       "      <td>54b43266e138239d8684efed</td>\n",
       "      <td>1</td>\n",
       "      <td>[1, 2, 3, 4, 5, 6, 7, 8, 9, 10, 11, 12, 13, 14...</td>\n",
       "      <td>[Available, online, at, www.sciencedirect.com,...</td>\n",
       "      <td>[JJ, NN, IN, NNP, NNP, NNP, CD, -LRB-, CD, -RR...</td>\n",
       "      <td>[O, O, O, O, O, O, NUMBER, O, DATE, O, NUMBER,...</td>\n",
       "      <td>[available, online, at, www.sciencedirect.com,...</td>\n",
       "      <td>[dep, dep, dep, dep, dep, dep, dep, , dep, , d...</td>\n",
       "      <td>[218, 218, 218, 218, 218, 218, 218, 0, 218, 0,...</td>\n",
       "      <td>Available,online,at,www.sciencedirect.com,Quat...</td>\n",
       "      <td>...</td>\n",
       "      <td>Development of the mixed conifer forest in nor...</td>\n",
       "      <td>Quaternary Research</td>\n",
       "      <td>Anderson, R. Scott; Jass, Renata B.; Toney, Ja...</td>\n",
       "      <td>2008</td>\n",
       "      <td>2</td>\n",
       "      <td>NaN</td>\n",
       "      <td>article</td>\n",
       "      <td>263--275</td>\n",
       "      <td>http://www.sciencedirect.com/science/article/p...</td>\n",
       "      <td>publisher</td>\n",
       "    </tr>\n",
       "    <tr>\n",
       "      <td>1</td>\n",
       "      <td>54b43266e138239d8684efed</td>\n",
       "      <td>2</td>\n",
       "      <td>[1, 2, 3, 4, 5, 6, 7, 8, 9, 10, 11, 12]</td>\n",
       "      <td>[The, Chihuahueños, Bog, record, extends, to, ...</td>\n",
       "      <td>[DT, NNP, NN, NN, VBZ, TO, IN, CD, JJ, NN, NN, .]</td>\n",
       "      <td>[O, O, O, O, O, O, O, NUMBER, O, DURATION, O, O]</td>\n",
       "      <td>[the, Chihuahueños, bog, record, extend, to, o...</td>\n",
       "      <td>[det, compound, compound, nsubj, , case, amod,...</td>\n",
       "      <td>[4, 4, 4, 5, 0, 11, 11, 11, 11, 11, 5, 0]</td>\n",
       "      <td>The,Chihuahueños,Bog,record,extends,to,over,15...</td>\n",
       "      <td>...</td>\n",
       "      <td>Development of the mixed conifer forest in nor...</td>\n",
       "      <td>Quaternary Research</td>\n",
       "      <td>Anderson, R. Scott; Jass, Renata B.; Toney, Ja...</td>\n",
       "      <td>2008</td>\n",
       "      <td>2</td>\n",
       "      <td>NaN</td>\n",
       "      <td>article</td>\n",
       "      <td>263--275</td>\n",
       "      <td>http://www.sciencedirect.com/science/article/p...</td>\n",
       "      <td>publisher</td>\n",
       "    </tr>\n",
       "    <tr>\n",
       "      <td>2</td>\n",
       "      <td>54b43266e138239d8684efed</td>\n",
       "      <td>3</td>\n",
       "      <td>[1, 2, 3, 4, 5, 6, 7, 8, 9, 10, 11, 12, 13, 14...</td>\n",
       "      <td>[An, Artemisia, steppe, ,, then, an, open, Pic...</td>\n",
       "      <td>[DT, NNP, NN, ,, RB, DT, JJ, NNP, NN, VBD, IN,...</td>\n",
       "      <td>[O, O, O, O, O, O, O, LOCATION, LOCATION, O, O...</td>\n",
       "      <td>[a, Artemisia, steppe, ,, then, a, open, Picea...</td>\n",
       "      <td>[det, compound, nsubj, , advmod, det, amod, co...</td>\n",
       "      <td>[3, 3, 10, 0, 9, 9, 9, 9, 10, 0, 14, 14, 14, 1...</td>\n",
       "      <td>An,Artemisia,steppe,,,then,an,open,Picea,woodl...</td>\n",
       "      <td>...</td>\n",
       "      <td>Development of the mixed conifer forest in nor...</td>\n",
       "      <td>Quaternary Research</td>\n",
       "      <td>Anderson, R. Scott; Jass, Renata B.; Toney, Ja...</td>\n",
       "      <td>2008</td>\n",
       "      <td>2</td>\n",
       "      <td>NaN</td>\n",
       "      <td>article</td>\n",
       "      <td>263--275</td>\n",
       "      <td>http://www.sciencedirect.com/science/article/p...</td>\n",
       "      <td>publisher</td>\n",
       "    </tr>\n",
       "  </tbody>\n",
       "</table>\n",
       "<p>3 rows × 27 columns</p>\n",
       "</div>"
      ],
      "text/plain": [
       "                     _gddid  sentid  \\\n",
       "0  54b43266e138239d8684efed       1   \n",
       "1  54b43266e138239d8684efed       2   \n",
       "2  54b43266e138239d8684efed       3   \n",
       "\n",
       "                                             wordidx  \\\n",
       "0  [1, 2, 3, 4, 5, 6, 7, 8, 9, 10, 11, 12, 13, 14...   \n",
       "1            [1, 2, 3, 4, 5, 6, 7, 8, 9, 10, 11, 12]   \n",
       "2  [1, 2, 3, 4, 5, 6, 7, 8, 9, 10, 11, 12, 13, 14...   \n",
       "\n",
       "                                               words  \\\n",
       "0  [Available, online, at, www.sciencedirect.com,...   \n",
       "1  [The, Chihuahueños, Bog, record, extends, to, ...   \n",
       "2  [An, Artemisia, steppe, ,, then, an, open, Pic...   \n",
       "\n",
       "                                      part_of_speech  \\\n",
       "0  [JJ, NN, IN, NNP, NNP, NNP, CD, -LRB-, CD, -RR...   \n",
       "1  [DT, NNP, NN, NN, VBZ, TO, IN, CD, JJ, NN, NN, .]   \n",
       "2  [DT, NNP, NN, ,, RB, DT, JJ, NNP, NN, VBD, IN,...   \n",
       "\n",
       "                                       special_class  \\\n",
       "0  [O, O, O, O, O, O, NUMBER, O, DATE, O, NUMBER,...   \n",
       "1   [O, O, O, O, O, O, O, NUMBER, O, DURATION, O, O]   \n",
       "2  [O, O, O, O, O, O, O, LOCATION, LOCATION, O, O...   \n",
       "\n",
       "                                              lemmas  \\\n",
       "0  [available, online, at, www.sciencedirect.com,...   \n",
       "1  [the, Chihuahueños, bog, record, extend, to, o...   \n",
       "2  [a, Artemisia, steppe, ,, then, a, open, Picea...   \n",
       "\n",
       "                                           word_type  \\\n",
       "0  [dep, dep, dep, dep, dep, dep, dep, , dep, , d...   \n",
       "1  [det, compound, compound, nsubj, , case, amod,...   \n",
       "2  [det, compound, nsubj, , advmod, det, amod, co...   \n",
       "\n",
       "                                       word_modified  \\\n",
       "0  [218, 218, 218, 218, 218, 218, 218, 0, 218, 0,...   \n",
       "1          [4, 4, 4, 5, 0, 11, 11, 11, 11, 11, 5, 0]   \n",
       "2  [3, 3, 10, 0, 9, 9, 9, 9, 10, 0, 14, 14, 14, 1...   \n",
       "\n",
       "                                     words_as_string  ...  \\\n",
       "0  Available,online,at,www.sciencedirect.com,Quat...  ...   \n",
       "1  The,Chihuahueños,Bog,record,extends,to,over,15...  ...   \n",
       "2  An,Artemisia,steppe,,,then,an,open,Picea,woodl...  ...   \n",
       "\n",
       "                                               title    journal.name.name  \\\n",
       "0  Development of the mixed conifer forest in nor...  Quaternary Research   \n",
       "1  Development of the mixed conifer forest in nor...  Quaternary Research   \n",
       "2  Development of the mixed conifer forest in nor...  Quaternary Research   \n",
       "\n",
       "                                              author  year number volumne  \\\n",
       "0  Anderson, R. Scott; Jass, Renata B.; Toney, Ja...  2008      2     NaN   \n",
       "1  Anderson, R. Scott; Jass, Renata B.; Toney, Ja...  2008      2     NaN   \n",
       "2  Anderson, R. Scott; Jass, Renata B.; Toney, Ja...  2008      2     NaN   \n",
       "\n",
       "      type     pages                                           link_url  \\\n",
       "0  article  263--275  http://www.sciencedirect.com/science/article/p...   \n",
       "1  article  263--275  http://www.sciencedirect.com/science/article/p...   \n",
       "2  article  263--275  http://www.sciencedirect.com/science/article/p...   \n",
       "\n",
       "   link_type  \n",
       "0  publisher  \n",
       "1  publisher  \n",
       "2  publisher  \n",
       "\n",
       "[3 rows x 27 columns]"
      ]
     },
     "execution_count": 24,
     "metadata": {},
     "output_type": "execute_result"
    }
   ],
   "source": [
    "nlp_bib = nlp_sentences.merge(bibliography, on = '_gddid')\n",
    "nlp_bib.head(3)"
   ]
  },
  {
   "cell_type": "code",
   "execution_count": 25,
   "metadata": {},
   "outputs": [],
   "source": [
    "#print(nlp_bib.shape)"
   ]
  },
  {
   "cell_type": "code",
   "execution_count": 26,
   "metadata": {},
   "outputs": [
    {
     "data": {
      "text/html": [
       "<div>\n",
       "<style scoped>\n",
       "    .dataframe tbody tr th:only-of-type {\n",
       "        vertical-align: middle;\n",
       "    }\n",
       "\n",
       "    .dataframe tbody tr th {\n",
       "        vertical-align: top;\n",
       "    }\n",
       "\n",
       "    .dataframe thead th {\n",
       "        text-align: right;\n",
       "    }\n",
       "</style>\n",
       "<table border=\"1\" class=\"dataframe\">\n",
       "  <thead>\n",
       "    <tr style=\"text-align: right;\">\n",
       "      <th></th>\n",
       "      <th>words_as_string</th>\n",
       "      <th>journal.name.name</th>\n",
       "      <th>dms_regex</th>\n",
       "      <th>dd_regex</th>\n",
       "    </tr>\n",
       "  </thead>\n",
       "  <tbody>\n",
       "    <tr>\n",
       "      <td>0</td>\n",
       "      <td>Available,online,at,www.sciencedirect.com,Quat...</td>\n",
       "      <td>Quaternary Research</td>\n",
       "      <td>[]</td>\n",
       "      <td>[]</td>\n",
       "    </tr>\n",
       "    <tr>\n",
       "      <td>1</td>\n",
       "      <td>The,Chihuahueños,Bog,record,extends,to,over,15...</td>\n",
       "      <td>Quaternary Research</td>\n",
       "      <td>[]</td>\n",
       "      <td>[]</td>\n",
       "    </tr>\n",
       "    <tr>\n",
       "      <td>2</td>\n",
       "      <td>An,Artemisia,steppe,,,then,an,open,Picea,woodl...</td>\n",
       "      <td>Quaternary Research</td>\n",
       "      <td>[]</td>\n",
       "      <td>[]</td>\n",
       "    </tr>\n",
       "  </tbody>\n",
       "</table>\n",
       "</div>"
      ],
      "text/plain": [
       "                                     words_as_string    journal.name.name  \\\n",
       "0  Available,online,at,www.sciencedirect.com,Quat...  Quaternary Research   \n",
       "1  The,Chihuahueños,Bog,record,extends,to,over,15...  Quaternary Research   \n",
       "2  An,Artemisia,steppe,,,then,an,open,Picea,woodl...  Quaternary Research   \n",
       "\n",
       "  dms_regex dd_regex  \n",
       "0        []       []  \n",
       "1        []       []  \n",
       "2        []       []  "
      ]
     },
     "execution_count": 26,
     "metadata": {},
     "output_type": "execute_result"
    }
   ],
   "source": [
    "nlp_bib[['words_as_string', 'journal.name.name', 'dms_regex', 'dd_regex']].head(3)"
   ]
  },
  {
   "cell_type": "code",
   "execution_count": 27,
   "metadata": {},
   "outputs": [],
   "source": [
    "neotoma_joined_df = nl.grouped_coords_df(neotoma)"
   ]
  },
  {
   "cell_type": "code",
   "execution_count": 28,
   "metadata": {},
   "outputs": [
    {
     "data": {
      "text/html": [
       "<div>\n",
       "<style scoped>\n",
       "    .dataframe tbody tr th:only-of-type {\n",
       "        vertical-align: middle;\n",
       "    }\n",
       "\n",
       "    .dataframe tbody tr th {\n",
       "        vertical-align: top;\n",
       "    }\n",
       "\n",
       "    .dataframe thead th {\n",
       "        text-align: right;\n",
       "    }\n",
       "</style>\n",
       "<table border=\"1\" class=\"dataframe\">\n",
       "  <thead>\n",
       "    <tr style=\"text-align: right;\">\n",
       "      <th></th>\n",
       "      <th>doi</th>\n",
       "      <th>sitenames</th>\n",
       "      <th>siteid</th>\n",
       "      <th>longeast</th>\n",
       "      <th>latnorth</th>\n",
       "      <th>sitenames_l</th>\n",
       "    </tr>\n",
       "  </thead>\n",
       "  <tbody>\n",
       "    <tr>\n",
       "      <td>0</td>\n",
       "      <td>0.1139/e80-122</td>\n",
       "      <td>[East Baltic Bog, Mermaid Bog, Portage Bog]</td>\n",
       "      <td>[763, 1684, 1903]</td>\n",
       "      <td>[64, 63, 62]</td>\n",
       "      <td>[46]</td>\n",
       "      <td>[portage, east, mermaid, baltic, bog]</td>\n",
       "    </tr>\n",
       "    <tr>\n",
       "      <td>1</td>\n",
       "      <td>10.1002/(SICI)1099-1417(199607/08)11:4&lt;327::AI...</td>\n",
       "      <td>[Lundin Tower]</td>\n",
       "      <td>[3256]</td>\n",
       "      <td>[2]</td>\n",
       "      <td>[56]</td>\n",
       "      <td>[lundin, tower]</td>\n",
       "    </tr>\n",
       "  </tbody>\n",
       "</table>\n",
       "</div>"
      ],
      "text/plain": [
       "                                                 doi  \\\n",
       "0                                     0.1139/e80-122   \n",
       "1  10.1002/(SICI)1099-1417(199607/08)11:4<327::AI...   \n",
       "\n",
       "                                     sitenames             siteid  \\\n",
       "0  [East Baltic Bog, Mermaid Bog, Portage Bog]  [763, 1684, 1903]   \n",
       "1                               [Lundin Tower]             [3256]   \n",
       "\n",
       "       longeast latnorth                            sitenames_l  \n",
       "0  [64, 63, 62]     [46]  [portage, east, mermaid, baltic, bog]  \n",
       "1           [2]     [56]                        [lundin, tower]  "
      ]
     },
     "execution_count": 28,
     "metadata": {},
     "output_type": "execute_result"
    }
   ],
   "source": [
    "neotoma_joined_df.head(2)"
   ]
  },
  {
   "cell_type": "markdown",
   "metadata": {},
   "source": [
    "From Neotoma DB, we have obtained a dataframe grouped by DOI that lists each `sitename`, `siteid`, `longitude east`, and `latitunde north`. Now, let's join this information to the NLP_Bib dataframe. For now, let's do to the one that coordinates have been obtained with REGEX just to see if some of the numbers and sitenames make sense. "
   ]
  },
  {
   "cell_type": "code",
   "execution_count": 29,
   "metadata": {},
   "outputs": [
    {
     "name": "stdout",
     "output_type": "stream",
     "text": [
      "(111965, 32)\n"
     ]
    }
   ],
   "source": [
    "nlp_bib_neotoma = nlp_bib.merge(neotoma_joined_df, on = 'doi', how = 'left')\n",
    "print(nlp_bib_neotoma.shape)"
   ]
  },
  {
   "cell_type": "code",
   "execution_count": 30,
   "metadata": {},
   "outputs": [],
   "source": [
    "import src.modules.eda_creator.intersection_files_creator as fc\n",
    "#Output path for generated files\n",
    "path = r'/Users/seiryu8808/Desktop/UWinsc/Github/UnacquiredSites/src/output'"
   ]
  },
  {
   "cell_type": "code",
   "execution_count": 31,
   "metadata": {},
   "outputs": [
    {
     "name": "stdout",
     "output_type": "stream",
     "text": [
      "A TSV file was created on your output folder.\n"
     ]
    }
   ],
   "source": [
    "articles_not_in_neotoma = fc.not_in_neotoma(df = nlp_bib_neotoma, df2 = bibliography, path = path)"
   ]
  },
  {
   "cell_type": "code",
   "execution_count": 32,
   "metadata": {},
   "outputs": [
    {
     "data": {
      "text/html": [
       "<div>\n",
       "<style scoped>\n",
       "    .dataframe tbody tr th:only-of-type {\n",
       "        vertical-align: middle;\n",
       "    }\n",
       "\n",
       "    .dataframe tbody tr th {\n",
       "        vertical-align: top;\n",
       "    }\n",
       "\n",
       "    .dataframe thead th {\n",
       "        text-align: right;\n",
       "    }\n",
       "</style>\n",
       "<table border=\"1\" class=\"dataframe\">\n",
       "  <thead>\n",
       "    <tr style=\"text-align: right;\">\n",
       "      <th></th>\n",
       "      <th>_gddid</th>\n",
       "      <th>title</th>\n",
       "      <th>year</th>\n",
       "      <th>doi</th>\n",
       "      <th>link_url</th>\n",
       "    </tr>\n",
       "  </thead>\n",
       "  <tbody>\n",
       "    <tr>\n",
       "      <td>count</td>\n",
       "      <td>14</td>\n",
       "      <td>14</td>\n",
       "      <td>14</td>\n",
       "      <td>14</td>\n",
       "      <td>14</td>\n",
       "    </tr>\n",
       "    <tr>\n",
       "      <td>unique</td>\n",
       "      <td>14</td>\n",
       "      <td>14</td>\n",
       "      <td>12</td>\n",
       "      <td>14</td>\n",
       "      <td>14</td>\n",
       "    </tr>\n",
       "    <tr>\n",
       "      <td>top</td>\n",
       "      <td>54b43268e138239d8684f74a</td>\n",
       "      <td>Tar Trap: No Evidence of Domestic Dog Burial w...</td>\n",
       "      <td>1987</td>\n",
       "      <td>10.1130/0016-7606(1997)109&lt;1306:tfalqp&gt;2.3.co;2</td>\n",
       "      <td>http://www.sciencedirect.com/science/article/p...</td>\n",
       "    </tr>\n",
       "    <tr>\n",
       "      <td>freq</td>\n",
       "      <td>1</td>\n",
       "      <td>1</td>\n",
       "      <td>2</td>\n",
       "      <td>1</td>\n",
       "      <td>1</td>\n",
       "    </tr>\n",
       "  </tbody>\n",
       "</table>\n",
       "</div>"
      ],
      "text/plain": [
       "                          _gddid  \\\n",
       "count                         14   \n",
       "unique                        14   \n",
       "top     54b43268e138239d8684f74a   \n",
       "freq                           1   \n",
       "\n",
       "                                                    title  year  \\\n",
       "count                                                  14    14   \n",
       "unique                                                 14    12   \n",
       "top     Tar Trap: No Evidence of Domestic Dog Burial w...  1987   \n",
       "freq                                                    1     2   \n",
       "\n",
       "                                                    doi  \\\n",
       "count                                                14   \n",
       "unique                                               14   \n",
       "top     10.1130/0016-7606(1997)109<1306:tfalqp>2.3.co;2   \n",
       "freq                                                  1   \n",
       "\n",
       "                                                 link_url  \n",
       "count                                                  14  \n",
       "unique                                                 14  \n",
       "top     http://www.sciencedirect.com/science/article/p...  \n",
       "freq                                                    1  "
      ]
     },
     "execution_count": 32,
     "metadata": {},
     "output_type": "execute_result"
    }
   ],
   "source": [
    "articles_not_in_neotoma.describe()"
   ]
  },
  {
   "cell_type": "markdown",
   "metadata": {},
   "source": [
    "We can see there are 14 articles that we do not have reference for in Neotoma DB.\n",
    "\n",
    "For these 14 articles, we have no coordinates to compare to."
   ]
  },
  {
   "cell_type": "code",
   "execution_count": 33,
   "metadata": {},
   "outputs": [
    {
     "data": {
      "text/html": [
       "<div>\n",
       "<style scoped>\n",
       "    .dataframe tbody tr th:only-of-type {\n",
       "        vertical-align: middle;\n",
       "    }\n",
       "\n",
       "    .dataframe tbody tr th {\n",
       "        vertical-align: top;\n",
       "    }\n",
       "\n",
       "    .dataframe thead th {\n",
       "        text-align: right;\n",
       "    }\n",
       "</style>\n",
       "<table border=\"1\" class=\"dataframe\">\n",
       "  <thead>\n",
       "    <tr style=\"text-align: right;\">\n",
       "      <th></th>\n",
       "      <th>siteid</th>\n",
       "      <th>sitename</th>\n",
       "      <th>longitudeeast</th>\n",
       "      <th>latitudenorth</th>\n",
       "      <th>longitudewest</th>\n",
       "      <th>latitudesouth</th>\n",
       "      <th>sitedescription</th>\n",
       "      <th>doi</th>\n",
       "    </tr>\n",
       "  </thead>\n",
       "  <tbody>\n",
       "  </tbody>\n",
       "</table>\n",
       "</div>"
      ],
      "text/plain": [
       "Empty DataFrame\n",
       "Columns: [siteid, sitename, longitudeeast, latitudenorth, longitudewest, latitudesouth, sitedescription, doi]\n",
       "Index: []"
      ]
     },
     "execution_count": 33,
     "metadata": {},
     "output_type": "execute_result"
    }
   ],
   "source": [
    "neotoma[neotoma['doi']=='10.1016/S0031-0182(01)00322-4']"
   ]
  },
  {
   "cell_type": "code",
   "execution_count": 34,
   "metadata": {},
   "outputs": [
    {
     "name": "stdout",
     "output_type": "stream",
     "text": [
      "(106640, 32)\n"
     ]
    }
   ],
   "source": [
    "# Drop rows with na\n",
    "nlp_bib_neotoma = nlp_bib.merge(neotoma_joined_df, on = 'doi')\n",
    "print(nlp_bib_neotoma.shape)"
   ]
  },
  {
   "cell_type": "code",
   "execution_count": 35,
   "metadata": {},
   "outputs": [
    {
     "name": "stdout",
     "output_type": "stream",
     "text": [
      "(100, 32)\n"
     ]
    },
    {
     "data": {
      "text/html": [
       "<div>\n",
       "<style scoped>\n",
       "    .dataframe tbody tr th:only-of-type {\n",
       "        vertical-align: middle;\n",
       "    }\n",
       "\n",
       "    .dataframe tbody tr th {\n",
       "        vertical-align: top;\n",
       "    }\n",
       "\n",
       "    .dataframe thead th {\n",
       "        text-align: right;\n",
       "    }\n",
       "</style>\n",
       "<table border=\"1\" class=\"dataframe\">\n",
       "  <thead>\n",
       "    <tr style=\"text-align: right;\">\n",
       "      <th></th>\n",
       "      <th>index</th>\n",
       "      <th>_gddid</th>\n",
       "      <th>sentid</th>\n",
       "      <th>doi</th>\n",
       "      <th>words</th>\n",
       "      <th>words_as_string</th>\n",
       "      <th>dms_regex</th>\n",
       "      <th>dd_regex</th>\n",
       "      <th>sitenames</th>\n",
       "      <th>latnorth</th>\n",
       "      <th>longeast</th>\n",
       "    </tr>\n",
       "  </thead>\n",
       "  <tbody>\n",
       "    <tr>\n",
       "      <td>0</td>\n",
       "      <td>3314</td>\n",
       "      <td>578a1f6ecf58f1b54b810cd9</td>\n",
       "      <td>94</td>\n",
       "      <td>10.1139/b85-070</td>\n",
       "      <td>[Lake, Hope, Simpson, -LRB-, 52, ', 27, ', N, ...</td>\n",
       "      <td>Lake,Hope,Simpson,-LRB-,52,',27,',N,,,56,',26,...</td>\n",
       "      <td>[52,',27,',N,,,56,',26,',W]</td>\n",
       "      <td>[]</td>\n",
       "      <td>[Lake Hope Simpson, 18 [Moraine Lake]]</td>\n",
       "      <td>[52]</td>\n",
       "      <td>[56, 58]</td>\n",
       "    </tr>\n",
       "    <tr>\n",
       "      <td>1</td>\n",
       "      <td>3318</td>\n",
       "      <td>578a1f6ecf58f1b54b810cd9</td>\n",
       "      <td>97</td>\n",
       "      <td>10.1139/b85-070</td>\n",
       "      <td>[The, lake, basin, itself, has, an, irregular,...</td>\n",
       "      <td>The,lake,basin,itself,has,an,irregular,though,...</td>\n",
       "      <td>[52,',33,',N,,,56,',54,',W]</td>\n",
       "      <td>[]</td>\n",
       "      <td>[Lake Hope Simpson, 18 [Moraine Lake]]</td>\n",
       "      <td>[52]</td>\n",
       "      <td>[56, 58]</td>\n",
       "    </tr>\n",
       "  </tbody>\n",
       "</table>\n",
       "</div>"
      ],
      "text/plain": [
       "   index                    _gddid  sentid              doi  \\\n",
       "0   3314  578a1f6ecf58f1b54b810cd9      94  10.1139/b85-070   \n",
       "1   3318  578a1f6ecf58f1b54b810cd9      97  10.1139/b85-070   \n",
       "\n",
       "                                               words  \\\n",
       "0  [Lake, Hope, Simpson, -LRB-, 52, ', 27, ', N, ...   \n",
       "1  [The, lake, basin, itself, has, an, irregular,...   \n",
       "\n",
       "                                     words_as_string  \\\n",
       "0  Lake,Hope,Simpson,-LRB-,52,',27,',N,,,56,',26,...   \n",
       "1  The,lake,basin,itself,has,an,irregular,though,...   \n",
       "\n",
       "                     dms_regex dd_regex  \\\n",
       "0  [52,',27,',N,,,56,',26,',W]       []   \n",
       "1  [52,',33,',N,,,56,',54,',W]       []   \n",
       "\n",
       "                                sitenames latnorth  longeast  \n",
       "0  [Lake Hope Simpson, 18 [Moraine Lake]]     [52]  [56, 58]  \n",
       "1  [Lake Hope Simpson, 18 [Moraine Lake]]     [52]  [56, 58]  "
      ]
     },
     "execution_count": 35,
     "metadata": {},
     "output_type": "execute_result"
    }
   ],
   "source": [
    "# Filter df to see which units have REGEX longer than one\n",
    "mask = ((nlp_bib_neotoma['dms_regex'].str.len() > 0) | (nlp_bib_neotoma['dd_regex'].str.len() > 0))\n",
    "nlp_bib_neotoma_regex = nlp_bib_neotoma.loc[mask]\n",
    "print(nlp_bib_neotoma_regex.shape)\n",
    "\n",
    "nlp_bib_neotoma_regex = nlp_bib_neotoma_regex[['_gddid', 'sentid', 'doi', 'words', 'words_as_string', 'dms_regex', 'dd_regex', 'sitenames', 'latnorth', 'longeast']].reset_index()\n",
    "nlp_bib_neotoma_regex.head(2)"
   ]
  },
  {
   "cell_type": "markdown",
   "metadata": {},
   "source": [
    "We can see that most of the REGEX indeed pulled out the same locations for latitude and longitudes as in the Neotoma database."
   ]
  },
  {
   "cell_type": "code",
   "execution_count": 36,
   "metadata": {},
   "outputs": [
    {
     "data": {
      "text/html": [
       "<div>\n",
       "<style scoped>\n",
       "    .dataframe tbody tr th:only-of-type {\n",
       "        vertical-align: middle;\n",
       "    }\n",
       "\n",
       "    .dataframe tbody tr th {\n",
       "        vertical-align: top;\n",
       "    }\n",
       "\n",
       "    .dataframe thead th {\n",
       "        text-align: right;\n",
       "    }\n",
       "</style>\n",
       "<table border=\"1\" class=\"dataframe\">\n",
       "  <thead>\n",
       "    <tr style=\"text-align: right;\">\n",
       "      <th></th>\n",
       "      <th>_gddid</th>\n",
       "      <th>sentid</th>\n",
       "      <th>doi</th>\n",
       "      <th>words</th>\n",
       "      <th>dms_regex</th>\n",
       "      <th>sitenames</th>\n",
       "      <th>latnorth</th>\n",
       "      <th>longeast</th>\n",
       "    </tr>\n",
       "  </thead>\n",
       "  <tbody>\n",
       "    <tr>\n",
       "      <td>0</td>\n",
       "      <td>54b43266e138239d8684efed</td>\n",
       "      <td>1</td>\n",
       "      <td>10.1016/j.yqres.2007.12.002</td>\n",
       "      <td>[Available, online, at, www.sciencedirect.com,...</td>\n",
       "      <td>[]</td>\n",
       "      <td>[Chihuahueños Bog, Chihuahueños Bog]</td>\n",
       "      <td>[36]</td>\n",
       "      <td>[106]</td>\n",
       "    </tr>\n",
       "    <tr>\n",
       "      <td>1</td>\n",
       "      <td>54b43266e138239d8684efed</td>\n",
       "      <td>2</td>\n",
       "      <td>10.1016/j.yqres.2007.12.002</td>\n",
       "      <td>[The, Chihuahueños, Bog, record, extends, to, ...</td>\n",
       "      <td>[]</td>\n",
       "      <td>[Chihuahueños Bog, Chihuahueños Bog]</td>\n",
       "      <td>[36]</td>\n",
       "      <td>[106]</td>\n",
       "    </tr>\n",
       "  </tbody>\n",
       "</table>\n",
       "</div>"
      ],
      "text/plain": [
       "                     _gddid  sentid                          doi  \\\n",
       "0  54b43266e138239d8684efed       1  10.1016/j.yqres.2007.12.002   \n",
       "1  54b43266e138239d8684efed       2  10.1016/j.yqres.2007.12.002   \n",
       "\n",
       "                                               words dms_regex  \\\n",
       "0  [Available, online, at, www.sciencedirect.com,...        []   \n",
       "1  [The, Chihuahueños, Bog, record, extends, to, ...        []   \n",
       "\n",
       "                              sitenames latnorth longeast  \n",
       "0  [Chihuahueños Bog, Chihuahueños Bog]     [36]    [106]  \n",
       "1  [Chihuahueños Bog, Chihuahueños Bog]     [36]    [106]  "
      ]
     },
     "execution_count": 36,
     "metadata": {},
     "output_type": "execute_result"
    }
   ],
   "source": [
    "nlp_bib_neotoma[['_gddid', 'sentid', 'doi', 'words', 'dms_regex', 'sitenames', 'latnorth', 'longeast']].head(2)"
   ]
  },
  {
   "cell_type": "code",
   "execution_count": 37,
   "metadata": {},
   "outputs": [
    {
     "name": "stdout",
     "output_type": "stream",
     "text": [
      "(106640, 32)\n"
     ]
    }
   ],
   "source": [
    "print(nlp_bib_neotoma.shape)"
   ]
  },
  {
   "cell_type": "code",
   "execution_count": 38,
   "metadata": {},
   "outputs": [
    {
     "name": "stdout",
     "output_type": "stream",
     "text": [
      "(230, 34)\n",
      "(106640, 34)\n"
     ]
    }
   ],
   "source": [
    "nlp_bib_neotoma = ard.find_intersections(nlp_bib_neotoma, cols_to_intersect = ['digits_regex','longeast'], new_col_name = 'intersection_words_long')\n",
    "nlp_bib_neotoma = ard.find_intersections(nlp_bib_neotoma, cols_to_intersect = ['digits_regex','latnorth'], new_col_name = 'intersection_words_lat')\n",
    "\n",
    "long_lat_int = nlp_bib_neotoma[(nlp_bib_neotoma['intersection_words_lat'].apply(len) != 0) & (nlp_bib_neotoma['intersection_words_long'].apply(len) != 0 )]\n",
    "\n",
    "print(long_lat_int.shape)\n",
    "print(nlp_bib_neotoma.shape)\n",
    "# long_lat_int.describe(include = 'all')"
   ]
  },
  {
   "cell_type": "code",
   "execution_count": 39,
   "metadata": {},
   "outputs": [
    {
     "name": "stdout",
     "output_type": "stream",
     "text": [
      "A TSV file was created on your output folder.\n"
     ]
    }
   ],
   "source": [
    "sentences_with_intersections_df = fc.sentences_w_coords_int(long_lat_int, path = path)"
   ]
  },
  {
   "cell_type": "code",
   "execution_count": 40,
   "metadata": {},
   "outputs": [
    {
     "data": {
      "text/html": [
       "<div>\n",
       "<style scoped>\n",
       "    .dataframe tbody tr th:only-of-type {\n",
       "        vertical-align: middle;\n",
       "    }\n",
       "\n",
       "    .dataframe tbody tr th {\n",
       "        vertical-align: top;\n",
       "    }\n",
       "\n",
       "    .dataframe thead th {\n",
       "        text-align: right;\n",
       "    }\n",
       "</style>\n",
       "<table border=\"1\" class=\"dataframe\">\n",
       "  <thead>\n",
       "    <tr style=\"text-align: right;\">\n",
       "      <th></th>\n",
       "      <th>_gddid</th>\n",
       "      <th>words</th>\n",
       "      <th>year</th>\n",
       "      <th>expected_lat</th>\n",
       "      <th>intersection_lat</th>\n",
       "      <th>expected_long</th>\n",
       "      <th>intersection_long</th>\n",
       "      <th>dms_regex</th>\n",
       "      <th>dd_regex</th>\n",
       "    </tr>\n",
       "  </thead>\n",
       "  <tbody>\n",
       "    <tr>\n",
       "      <td>count</td>\n",
       "      <td>230</td>\n",
       "      <td>230</td>\n",
       "      <td>230</td>\n",
       "      <td>230</td>\n",
       "      <td>230</td>\n",
       "      <td>230</td>\n",
       "      <td>230</td>\n",
       "      <td>230</td>\n",
       "      <td>230</td>\n",
       "    </tr>\n",
       "    <tr>\n",
       "      <td>unique</td>\n",
       "      <td>122</td>\n",
       "      <td>230</td>\n",
       "      <td>38</td>\n",
       "      <td>69</td>\n",
       "      <td>75</td>\n",
       "      <td>81</td>\n",
       "      <td>96</td>\n",
       "      <td>22</td>\n",
       "      <td>5</td>\n",
       "    </tr>\n",
       "    <tr>\n",
       "      <td>top</td>\n",
       "      <td>550719f6e1382326932d9425</td>\n",
       "      <td>[Alfred, Bog, -LRB-, 45, ◦, 29, N, ;, 74, ◦, 4...</td>\n",
       "      <td>2013</td>\n",
       "      <td>[41]</td>\n",
       "      <td>[41]</td>\n",
       "      <td>[71]</td>\n",
       "      <td>[71]</td>\n",
       "      <td>[]</td>\n",
       "      <td>[]</td>\n",
       "    </tr>\n",
       "    <tr>\n",
       "      <td>freq</td>\n",
       "      <td>9</td>\n",
       "      <td>1</td>\n",
       "      <td>30</td>\n",
       "      <td>19</td>\n",
       "      <td>22</td>\n",
       "      <td>17</td>\n",
       "      <td>20</td>\n",
       "      <td>206</td>\n",
       "      <td>226</td>\n",
       "    </tr>\n",
       "  </tbody>\n",
       "</table>\n",
       "</div>"
      ],
      "text/plain": [
       "                          _gddid  \\\n",
       "count                        230   \n",
       "unique                       122   \n",
       "top     550719f6e1382326932d9425   \n",
       "freq                           9   \n",
       "\n",
       "                                                    words  year expected_lat  \\\n",
       "count                                                 230   230          230   \n",
       "unique                                                230    38           69   \n",
       "top     [Alfred, Bog, -LRB-, 45, ◦, 29, N, ;, 74, ◦, 4...  2013         [41]   \n",
       "freq                                                    1    30           19   \n",
       "\n",
       "       intersection_lat expected_long intersection_long dms_regex dd_regex  \n",
       "count               230           230               230       230      230  \n",
       "unique               75            81                96        22        5  \n",
       "top                [41]          [71]              [71]        []       []  \n",
       "freq                 22            17                20       206      226  "
      ]
     },
     "execution_count": 40,
     "metadata": {},
     "output_type": "execute_result"
    }
   ],
   "source": [
    "sentences_with_intersections_df.describe(include = 'all')"
   ]
  },
  {
   "cell_type": "code",
   "execution_count": 41,
   "metadata": {},
   "outputs": [
    {
     "name": "stdout",
     "output_type": "stream",
     "text": [
      "A TSV file was created on your output folder.\n"
     ]
    }
   ],
   "source": [
    "# Article wo coordinates intersections DF\n",
    "no_intersections_df = fc.articles_wo_coords(nlp_bib_neotoma, bibliography, neotoma_joined_df, path = path)"
   ]
  },
  {
   "cell_type": "code",
   "execution_count": 42,
   "metadata": {},
   "outputs": [
    {
     "data": {
      "text/html": [
       "<div>\n",
       "<style scoped>\n",
       "    .dataframe tbody tr th:only-of-type {\n",
       "        vertical-align: middle;\n",
       "    }\n",
       "\n",
       "    .dataframe tbody tr th {\n",
       "        vertical-align: top;\n",
       "    }\n",
       "\n",
       "    .dataframe thead th {\n",
       "        text-align: right;\n",
       "    }\n",
       "</style>\n",
       "<table border=\"1\" class=\"dataframe\">\n",
       "  <thead>\n",
       "    <tr style=\"text-align: right;\">\n",
       "      <th></th>\n",
       "      <th>_gddid</th>\n",
       "      <th>title</th>\n",
       "      <th>year</th>\n",
       "      <th>intersection_words_lat</th>\n",
       "      <th>expected_lat</th>\n",
       "      <th>intersection_words_long</th>\n",
       "      <th>expected_long</th>\n",
       "      <th>doi</th>\n",
       "      <th>link_url</th>\n",
       "    </tr>\n",
       "  </thead>\n",
       "  <tbody>\n",
       "    <tr>\n",
       "      <td>count</td>\n",
       "      <td>11</td>\n",
       "      <td>11</td>\n",
       "      <td>11</td>\n",
       "      <td>11</td>\n",
       "      <td>11</td>\n",
       "      <td>11</td>\n",
       "      <td>11</td>\n",
       "      <td>11</td>\n",
       "      <td>11</td>\n",
       "    </tr>\n",
       "    <tr>\n",
       "      <td>unique</td>\n",
       "      <td>11</td>\n",
       "      <td>11</td>\n",
       "      <td>10</td>\n",
       "      <td>1</td>\n",
       "      <td>9</td>\n",
       "      <td>1</td>\n",
       "      <td>10</td>\n",
       "      <td>11</td>\n",
       "      <td>11</td>\n",
       "    </tr>\n",
       "    <tr>\n",
       "      <td>top</td>\n",
       "      <td>58333faecf58f177a7b78a4b</td>\n",
       "      <td>Long-term drivers of change in Polylepis woodl...</td>\n",
       "      <td>1978</td>\n",
       "      <td>[]</td>\n",
       "      <td>[46]</td>\n",
       "      <td>[]</td>\n",
       "      <td>[80]</td>\n",
       "      <td>10.1139/e98-095</td>\n",
       "      <td>http://www.sciencedirect.com/science/article/p...</td>\n",
       "    </tr>\n",
       "    <tr>\n",
       "      <td>freq</td>\n",
       "      <td>1</td>\n",
       "      <td>1</td>\n",
       "      <td>2</td>\n",
       "      <td>11</td>\n",
       "      <td>3</td>\n",
       "      <td>11</td>\n",
       "      <td>2</td>\n",
       "      <td>1</td>\n",
       "      <td>1</td>\n",
       "    </tr>\n",
       "  </tbody>\n",
       "</table>\n",
       "</div>"
      ],
      "text/plain": [
       "                          _gddid  \\\n",
       "count                         11   \n",
       "unique                        11   \n",
       "top     58333faecf58f177a7b78a4b   \n",
       "freq                           1   \n",
       "\n",
       "                                                    title  year  \\\n",
       "count                                                  11    11   \n",
       "unique                                                 11    10   \n",
       "top     Long-term drivers of change in Polylepis woodl...  1978   \n",
       "freq                                                    1     2   \n",
       "\n",
       "       intersection_words_lat expected_lat intersection_words_long  \\\n",
       "count                      11           11                      11   \n",
       "unique                      1            9                       1   \n",
       "top                        []         [46]                      []   \n",
       "freq                       11            3                      11   \n",
       "\n",
       "       expected_long              doi  \\\n",
       "count             11               11   \n",
       "unique            10               11   \n",
       "top             [80]  10.1139/e98-095   \n",
       "freq               2                1   \n",
       "\n",
       "                                                 link_url  \n",
       "count                                                  11  \n",
       "unique                                                 11  \n",
       "top     http://www.sciencedirect.com/science/article/p...  \n",
       "freq                                                    1  "
      ]
     },
     "execution_count": 42,
     "metadata": {},
     "output_type": "execute_result"
    }
   ],
   "source": [
    "no_intersections_df.describe(include='all')"
   ]
  },
  {
   "cell_type": "markdown",
   "metadata": {},
   "source": [
    "## Intersections Between Sitenames and NLP Sentences\n",
    "Let's now extract Sitenames from the Neotoma database. For this, I will group by doi and then, list all sitenames that are mentioned in each doi."
   ]
  },
  {
   "cell_type": "code",
   "execution_count": 43,
   "metadata": {},
   "outputs": [
    {
     "data": {
      "text/html": [
       "<div>\n",
       "<style scoped>\n",
       "    .dataframe tbody tr th:only-of-type {\n",
       "        vertical-align: middle;\n",
       "    }\n",
       "\n",
       "    .dataframe tbody tr th {\n",
       "        vertical-align: top;\n",
       "    }\n",
       "\n",
       "    .dataframe thead th {\n",
       "        text-align: right;\n",
       "    }\n",
       "</style>\n",
       "<table border=\"1\" class=\"dataframe\">\n",
       "  <thead>\n",
       "    <tr style=\"text-align: right;\">\n",
       "      <th></th>\n",
       "      <th>words_l</th>\n",
       "      <th>sitenames_l</th>\n",
       "    </tr>\n",
       "  </thead>\n",
       "  <tbody>\n",
       "    <tr>\n",
       "      <td>0</td>\n",
       "      <td>[available, online, at, www.sciencedirect.com,...</td>\n",
       "      <td>[chihuahueños, bog]</td>\n",
       "    </tr>\n",
       "    <tr>\n",
       "      <td>1</td>\n",
       "      <td>[the, chihuahueños, bog, record, extends, to, ...</td>\n",
       "      <td>[chihuahueños, bog]</td>\n",
       "    </tr>\n",
       "    <tr>\n",
       "      <td>2</td>\n",
       "      <td>[an, artemisia, steppe, ,, then, an, open, pic...</td>\n",
       "      <td>[chihuahueños, bog]</td>\n",
       "    </tr>\n",
       "    <tr>\n",
       "      <td>3</td>\n",
       "      <td>[c/n, ratios, ,, δ13c, and, δ15n, values, indi...</td>\n",
       "      <td>[chihuahueños, bog]</td>\n",
       "    </tr>\n",
       "    <tr>\n",
       "      <td>4</td>\n",
       "      <td>[higher, percentages, of, aquatic, algae, and,...</td>\n",
       "      <td>[chihuahueños, bog]</td>\n",
       "    </tr>\n",
       "    <tr>\n",
       "      <td>...</td>\n",
       "      <td>...</td>\n",
       "      <td>...</td>\n",
       "    </tr>\n",
       "    <tr>\n",
       "      <td>106635</td>\n",
       "      <td>[ann, .]</td>\n",
       "      <td>[begbunar, peat-bog]</td>\n",
       "    </tr>\n",
       "    <tr>\n",
       "      <td>106636</td>\n",
       "      <td>[sofia, univ., .]</td>\n",
       "      <td>[begbunar, peat-bog]</td>\n",
       "    </tr>\n",
       "    <tr>\n",
       "      <td>106637</td>\n",
       "      <td>[fac, .]</td>\n",
       "      <td>[begbunar, peat-bog]</td>\n",
       "    </tr>\n",
       "    <tr>\n",
       "      <td>106638</td>\n",
       "      <td>[geol, .]</td>\n",
       "      <td>[begbunar, peat-bog]</td>\n",
       "    </tr>\n",
       "    <tr>\n",
       "      <td>106639</td>\n",
       "      <td>[geogr., ,, 85, ,, 181, --, 198, -lrb-, in, bu...</td>\n",
       "      <td>[begbunar, peat-bog]</td>\n",
       "    </tr>\n",
       "  </tbody>\n",
       "</table>\n",
       "<p>106640 rows × 2 columns</p>\n",
       "</div>"
      ],
      "text/plain": [
       "                                                  words_l  \\\n",
       "0       [available, online, at, www.sciencedirect.com,...   \n",
       "1       [the, chihuahueños, bog, record, extends, to, ...   \n",
       "2       [an, artemisia, steppe, ,, then, an, open, pic...   \n",
       "3       [c/n, ratios, ,, δ13c, and, δ15n, values, indi...   \n",
       "4       [higher, percentages, of, aquatic, algae, and,...   \n",
       "...                                                   ...   \n",
       "106635                                           [ann, .]   \n",
       "106636                                  [sofia, univ., .]   \n",
       "106637                                           [fac, .]   \n",
       "106638                                          [geol, .]   \n",
       "106639  [geogr., ,, 85, ,, 181, --, 198, -lrb-, in, bu...   \n",
       "\n",
       "                 sitenames_l  \n",
       "0        [chihuahueños, bog]  \n",
       "1        [chihuahueños, bog]  \n",
       "2        [chihuahueños, bog]  \n",
       "3        [chihuahueños, bog]  \n",
       "4        [chihuahueños, bog]  \n",
       "...                      ...  \n",
       "106635  [begbunar, peat-bog]  \n",
       "106636  [begbunar, peat-bog]  \n",
       "106637  [begbunar, peat-bog]  \n",
       "106638  [begbunar, peat-bog]  \n",
       "106639  [begbunar, peat-bog]  \n",
       "\n",
       "[106640 rows x 2 columns]"
      ]
     },
     "execution_count": 43,
     "metadata": {},
     "output_type": "execute_result"
    }
   ],
   "source": [
    "nlp_bib_neotoma[['words_l', 'sitenames_l']]                                                           "
   ]
  },
  {
   "cell_type": "code",
   "execution_count": 44,
   "metadata": {},
   "outputs": [
    {
     "name": "stdout",
     "output_type": "stream",
     "text": [
      "A TSV file was created on your output folder.\n"
     ]
    },
    {
     "data": {
      "text/html": [
       "<div>\n",
       "<style scoped>\n",
       "    .dataframe tbody tr th:only-of-type {\n",
       "        vertical-align: middle;\n",
       "    }\n",
       "\n",
       "    .dataframe tbody tr th {\n",
       "        vertical-align: top;\n",
       "    }\n",
       "\n",
       "    .dataframe thead th {\n",
       "        text-align: right;\n",
       "    }\n",
       "</style>\n",
       "<table border=\"1\" class=\"dataframe\">\n",
       "  <thead>\n",
       "    <tr style=\"text-align: right;\">\n",
       "      <th></th>\n",
       "      <th>_gddid</th>\n",
       "      <th>sentid</th>\n",
       "      <th>words_l</th>\n",
       "      <th>expected_sitename</th>\n",
       "      <th>intersected_sitename</th>\n",
       "      <th>year</th>\n",
       "    </tr>\n",
       "  </thead>\n",
       "  <tbody>\n",
       "    <tr>\n",
       "      <td>0</td>\n",
       "      <td>54b43266e138239d8684efed</td>\n",
       "      <td>1</td>\n",
       "      <td>[available, online, at, www.sciencedirect.com,...</td>\n",
       "      <td>[chihuahueños, bog]</td>\n",
       "      <td>[chihuahueños, bog]</td>\n",
       "      <td>2008</td>\n",
       "    </tr>\n",
       "    <tr>\n",
       "      <td>1</td>\n",
       "      <td>54b43266e138239d8684efed</td>\n",
       "      <td>2</td>\n",
       "      <td>[the, chihuahueños, bog, record, extends, to, ...</td>\n",
       "      <td>[chihuahueños, bog]</td>\n",
       "      <td>[chihuahueños, bog]</td>\n",
       "      <td>2008</td>\n",
       "    </tr>\n",
       "  </tbody>\n",
       "</table>\n",
       "</div>"
      ],
      "text/plain": [
       "                     _gddid  sentid  \\\n",
       "0  54b43266e138239d8684efed       1   \n",
       "1  54b43266e138239d8684efed       2   \n",
       "\n",
       "                                             words_l    expected_sitename  \\\n",
       "0  [available, online, at, www.sciencedirect.com,...  [chihuahueños, bog]   \n",
       "1  [the, chihuahueños, bog, record, extends, to, ...  [chihuahueños, bog]   \n",
       "\n",
       "  intersected_sitename  year  \n",
       "0  [chihuahueños, bog]  2008  \n",
       "1  [chihuahueños, bog]  2008  "
      ]
     },
     "execution_count": 44,
     "metadata": {},
     "output_type": "execute_result"
    }
   ],
   "source": [
    "sitenames_intersection = fc.sentences_w_site_int(nlp_bib_neotoma, path = path)\n",
    "sitenames_intersection.head(2)"
   ]
  },
  {
   "cell_type": "code",
   "execution_count": 45,
   "metadata": {},
   "outputs": [],
   "source": [
    "#sitenames_intersection.describe(include = 'all')"
   ]
  },
  {
   "cell_type": "markdown",
   "metadata": {},
   "source": [
    "For sitenames, 197 out of 204 articles have an identified sitename. \n",
    "Let's get a TSV for the files that do not have a sitename."
   ]
  },
  {
   "cell_type": "code",
   "execution_count": 46,
   "metadata": {},
   "outputs": [
    {
     "name": "stdout",
     "output_type": "stream",
     "text": [
      "A TSV file was created on your output folder.\n"
     ]
    }
   ],
   "source": [
    "articles_wo_sitename_intersection = fc.articles_wo_sites(nlp_bib_neotoma, bibliography, neotoma_joined_df, path = path)"
   ]
  },
  {
   "cell_type": "code",
   "execution_count": 47,
   "metadata": {},
   "outputs": [
    {
     "data": {
      "text/html": [
       "<div>\n",
       "<style scoped>\n",
       "    .dataframe tbody tr th:only-of-type {\n",
       "        vertical-align: middle;\n",
       "    }\n",
       "\n",
       "    .dataframe tbody tr th {\n",
       "        vertical-align: top;\n",
       "    }\n",
       "\n",
       "    .dataframe thead th {\n",
       "        text-align: right;\n",
       "    }\n",
       "</style>\n",
       "<table border=\"1\" class=\"dataframe\">\n",
       "  <thead>\n",
       "    <tr style=\"text-align: right;\">\n",
       "      <th></th>\n",
       "      <th>_gddid</th>\n",
       "      <th>title</th>\n",
       "      <th>year</th>\n",
       "      <th>intersection_words_sitenames</th>\n",
       "      <th>exptected_sitename</th>\n",
       "      <th>doi</th>\n",
       "      <th>link_url</th>\n",
       "    </tr>\n",
       "  </thead>\n",
       "  <tbody>\n",
       "    <tr>\n",
       "      <td>0</td>\n",
       "      <td>54b43249e138239d86849f76</td>\n",
       "      <td>Biomass burning in Indonesia and Papua New Gui...</td>\n",
       "      <td>2001</td>\n",
       "      <td>[]</td>\n",
       "      <td>[Ijomba]</td>\n",
       "      <td>10.1016/S0031-0182(01)00248-6</td>\n",
       "      <td>http://www.sciencedirect.com/science/article/p...</td>\n",
       "    </tr>\n",
       "    <tr>\n",
       "      <td>1</td>\n",
       "      <td>5504dfbce1382326932d89ef</td>\n",
       "      <td>Sedimentary evidence of landscape and climate ...</td>\n",
       "      <td>2010</td>\n",
       "      <td>[]</td>\n",
       "      <td>[Labský důl, Labský důl]</td>\n",
       "      <td>10.1016/j.quascirev.2009.12.008</td>\n",
       "      <td>http://www.sciencedirect.com/science/article/p...</td>\n",
       "    </tr>\n",
       "    <tr>\n",
       "      <td>2</td>\n",
       "      <td>55059631e1382326932d8dcf</td>\n",
       "      <td>Moving front or population expansion: How did ...</td>\n",
       "      <td>2005</td>\n",
       "      <td>[]</td>\n",
       "      <td>[Klotjärnen, Klotjärnen, Holtjärnen]</td>\n",
       "      <td>10.1016/j.quascirev.2005.03.002</td>\n",
       "      <td>http://www.sciencedirect.com/science/article/p...</td>\n",
       "    </tr>\n",
       "  </tbody>\n",
       "</table>\n",
       "</div>"
      ],
      "text/plain": [
       "                     _gddid  \\\n",
       "0  54b43249e138239d86849f76   \n",
       "1  5504dfbce1382326932d89ef   \n",
       "2  55059631e1382326932d8dcf   \n",
       "\n",
       "                                               title  year  \\\n",
       "0  Biomass burning in Indonesia and Papua New Gui...  2001   \n",
       "1  Sedimentary evidence of landscape and climate ...  2010   \n",
       "2  Moving front or population expansion: How did ...  2005   \n",
       "\n",
       "  intersection_words_sitenames                    exptected_sitename  \\\n",
       "0                           []                              [Ijomba]   \n",
       "1                           []              [Labský důl, Labský důl]   \n",
       "2                           []  [Klotjärnen, Klotjärnen, Holtjärnen]   \n",
       "\n",
       "                               doi  \\\n",
       "0    10.1016/S0031-0182(01)00248-6   \n",
       "1  10.1016/j.quascirev.2009.12.008   \n",
       "2  10.1016/j.quascirev.2005.03.002   \n",
       "\n",
       "                                            link_url  \n",
       "0  http://www.sciencedirect.com/science/article/p...  \n",
       "1  http://www.sciencedirect.com/science/article/p...  \n",
       "2  http://www.sciencedirect.com/science/article/p...  "
      ]
     },
     "execution_count": 47,
     "metadata": {},
     "output_type": "execute_result"
    }
   ],
   "source": [
    "articles_wo_sitename_intersection.head(3)"
   ]
  },
  {
   "cell_type": "markdown",
   "metadata": {},
   "source": [
    "## Simple Modeling for Latitude and Longitude Coordinates"
   ]
  },
  {
   "cell_type": "code",
   "execution_count": 80,
   "metadata": {},
   "outputs": [],
   "source": [
    "# Loading libraries for modeling\n",
    "import matplotlib.pyplot as plt\n",
    "\n",
    "from sklearn.linear_model import LinearRegression, LogisticRegression\n",
    "from sklearn.svm import SVC\n",
    "from sklearn.tree import DecisionTreeClassifier\n",
    "from sklearn.model_selection import train_test_split\n",
    "from sklearn.feature_extraction.text import CountVectorizer\n",
    "from sklearn.neighbors import KNeighborsClassifier\n",
    "from sklearn.ensemble import RandomForestClassifier\n",
    "from sklearn.neural_network import MLPClassifier\n",
    "\n",
    "import nltk\n",
    "from nltk.tokenize import sent_tokenize, word_tokenize\n",
    "from nltk.corpus import stopwords\n",
    "\n",
    "# Options\n",
    "pd.options.mode.chained_assignment = None\n",
    "\n",
    "import time"
   ]
  },
  {
   "cell_type": "code",
   "execution_count": 66,
   "metadata": {},
   "outputs": [],
   "source": [
    "data = nlp_bib_neotoma[['_gddid', 'sentid', 'words', 'words_as_string', 'dms_regex', 'dd_regex', 'latnorth', 'longeast', 'intersection_words_lat', 'intersection_words_long']]"
   ]
  },
  {
   "cell_type": "code",
   "execution_count": 68,
   "metadata": {},
   "outputs": [],
   "source": [
    "data['has_both_lat_long_int'] = ((data['intersection_words_lat'].apply(len) != 0) & (data['intersection_words_long'].apply(len) != 0 ))\n",
    "\n",
    "# Map True to One and False to Zero\n",
    "data['has_both_lat_long_int'] = data['has_both_lat_long_int'].astype(int)"
   ]
  },
  {
   "cell_type": "code",
   "execution_count": 69,
   "metadata": {},
   "outputs": [],
   "source": [
    "# Reduce data to columns of interest\n",
    "data = data[['words_as_string', 'has_both_lat_long_int']]"
   ]
  },
  {
   "cell_type": "code",
   "execution_count": 72,
   "metadata": {},
   "outputs": [],
   "source": [
    "# Define corpus for CountVectorizer\n",
    "corpus = data['words_as_string'].tolist()\n",
    "\n",
    "# Split data into training and testing sets\n",
    "data_train, data_test = train_test_split(data, test_size = 0.20, random_state = 12)"
   ]
  },
  {
   "cell_type": "code",
   "execution_count": 73,
   "metadata": {},
   "outputs": [],
   "source": [
    "# Translate words to vectors\n",
    "# This model can add stopwords, punctuation, etc.\n",
    "# For now, use all words.\n",
    "vec = CountVectorizer(min_df=2, \n",
    "                      tokenizer=nltk.word_tokenize)\n",
    "\n",
    "# Fit and transform training\n",
    "X_train = vec.fit_transform(data_train['words_as_string']) \n",
    "y_train = data_train['has_both_lat_long_int']\n",
    "\n",
    "# Transform test data without fitting\n",
    "X_test = vec.transform(df_test['words_as_string']) \n",
    "y_test = df_test['bool']"
   ]
  },
  {
   "cell_type": "markdown",
   "metadata": {},
   "source": [
    "Now we are going to analize different classification models and see the different results."
   ]
  },
  {
   "cell_type": "code",
   "execution_count": 84,
   "metadata": {},
   "outputs": [],
   "source": [
    "classifiers = {\n",
    "    'knn'           : KNeighborsClassifier(),\n",
    "    'decision tree' : DecisionTreeClassifier(random_state = 0, max_depth = 15),\n",
    "    'random forest' : RandomForestClassifier(n_estimators = 10),\n",
    "    'SVM'           : SVC(C = 100, gamma = \"scale\"),\n",
    "    'logistic reg'  : LogisticRegression(solver=\"lbfgs\", max_iter = 10000),\n",
    "    'linear reg'    : LinearRegression(),\n",
    "    'sklearn NN'    : MLPClassifier() \n",
    "}"
   ]
  },
  {
   "cell_type": "code",
   "execution_count": 91,
   "metadata": {},
   "outputs": [
    {
     "name": "stdout",
     "output_type": "stream",
     "text": [
      "Fitting knn\n",
      "Fitting decision tree\n",
      "Fitting random forest\n",
      "Fitting SVM\n",
      "Fitting logistic reg\n",
      "Fitting linear reg\n",
      "Fitting sklearn NN\n"
     ]
    },
    {
     "name": "stderr",
     "output_type": "stream",
     "text": [
      "/Users/seiryu8808/opt/anaconda3/lib/python3.7/site-packages/sklearn/neural_network/multilayer_perceptron.py:568: UserWarning: Training interrupted by user.\n",
      "  warnings.warn(\"Training interrupted by user.\")\n"
     ]
    }
   ],
   "source": [
    "train_scores = dict()\n",
    "test_scores = dict()\n",
    "training_times = dict()\n",
    "\n",
    "for classifier_name, classifier_obj in classifiers.items():\n",
    "    print(\"Fitting\", classifier_name)\n",
    "    t = time.time()\n",
    "    classifier_obj.fit(X_train, y_train)\n",
    "    \n",
    "    training_times[classifier_name] = time.time() - t\n",
    "    train_scores[classifier_name] = classifier_obj.score(X_train, y_train)\n",
    "    test_scores[classifier_name] = classifier_obj.score(X_test, y_test)"
   ]
  },
  {
   "cell_type": "code",
   "execution_count": 93,
   "metadata": {},
   "outputs": [
    {
     "data": {
      "text/html": [
       "<div>\n",
       "<style scoped>\n",
       "    .dataframe tbody tr th:only-of-type {\n",
       "        vertical-align: middle;\n",
       "    }\n",
       "\n",
       "    .dataframe tbody tr th {\n",
       "        vertical-align: top;\n",
       "    }\n",
       "\n",
       "    .dataframe thead th {\n",
       "        text-align: right;\n",
       "    }\n",
       "</style>\n",
       "<table border=\"1\" class=\"dataframe\">\n",
       "  <thead>\n",
       "    <tr style=\"text-align: right;\">\n",
       "      <th></th>\n",
       "      <th>train acc</th>\n",
       "      <th>valid acc</th>\n",
       "      <th>training time (s)</th>\n",
       "    </tr>\n",
       "  </thead>\n",
       "  <tbody>\n",
       "    <tr>\n",
       "      <td>knn</td>\n",
       "      <td>1.00</td>\n",
       "      <td>1.00</td>\n",
       "      <td>0.02</td>\n",
       "    </tr>\n",
       "    <tr>\n",
       "      <td>decision tree</td>\n",
       "      <td>1.00</td>\n",
       "      <td>1.00</td>\n",
       "      <td>0.74</td>\n",
       "    </tr>\n",
       "    <tr>\n",
       "      <td>random forest</td>\n",
       "      <td>1.00</td>\n",
       "      <td>1.00</td>\n",
       "      <td>0.73</td>\n",
       "    </tr>\n",
       "    <tr>\n",
       "      <td>SVM</td>\n",
       "      <td>1.00</td>\n",
       "      <td>1.00</td>\n",
       "      <td>57.15</td>\n",
       "    </tr>\n",
       "    <tr>\n",
       "      <td>logistic reg</td>\n",
       "      <td>1.00</td>\n",
       "      <td>1.00</td>\n",
       "      <td>10.53</td>\n",
       "    </tr>\n",
       "    <tr>\n",
       "      <td>linear reg</td>\n",
       "      <td>0.89</td>\n",
       "      <td>-0.86</td>\n",
       "      <td>126.90</td>\n",
       "    </tr>\n",
       "    <tr>\n",
       "      <td>sklearn NN</td>\n",
       "      <td>1.00</td>\n",
       "      <td>1.00</td>\n",
       "      <td>811.74</td>\n",
       "    </tr>\n",
       "  </tbody>\n",
       "</table>\n",
       "</div>"
      ],
      "text/plain": [
       "               train acc  valid acc  training time (s)\n",
       "knn                 1.00       1.00               0.02\n",
       "decision tree       1.00       1.00               0.74\n",
       "random forest       1.00       1.00               0.73\n",
       "SVM                 1.00       1.00              57.15\n",
       "logistic reg        1.00       1.00              10.53\n",
       "linear reg          0.89      -0.86             126.90\n",
       "sklearn NN          1.00       1.00             811.74"
      ]
     },
     "execution_count": 93,
     "metadata": {},
     "output_type": "execute_result"
    }
   ],
   "source": [
    "pd.options.display.float_format = '{:,.2f}'.format\n",
    "\n",
    "data = {\"train acc\": train_scores, \"valid acc\" : test_scores, \"training time (s)\" : training_times}\n",
    "df = pd.DataFrame(data, columns = data.keys())\n",
    "df.index = list(classifiers.keys())\n",
    "df"
   ]
  },
  {
   "cell_type": "markdown",
   "metadata": {},
   "source": [
    "We can see there is something really off from the previous data.\n",
    "\n",
    "Let's try to figure out what could be causing all this noise."
   ]
  },
  {
   "cell_type": "markdown",
   "metadata": {},
   "source": [
    "#### Visualizing some possible important features"
   ]
  },
  {
   "cell_type": "markdown",
   "metadata": {},
   "source": [
    "Using a DecisionTree classifier to see which are the features that are giving more importance."
   ]
  },
  {
   "cell_type": "code",
   "execution_count": 58,
   "metadata": {},
   "outputs": [
    {
     "name": "stdout",
     "output_type": "stream",
     "text": [
      "Train error rate:  0.0\n",
      "Test error rate:  0.002063015753938524\n"
     ]
    }
   ],
   "source": [
    "clf = DecisionTreeClassifier(random_state = 0, max_depth = 100)\n",
    "clf.fit(X_train, y_train)"
   ]
  },
  {
   "cell_type": "code",
   "execution_count": 59,
   "metadata": {},
   "outputs": [],
   "source": [
    "# See which features are considered important\n",
    "f_imp = clf.feature_importances_"
   ]
  },
  {
   "cell_type": "code",
   "execution_count": 60,
   "metadata": {},
   "outputs": [],
   "source": [
    "feature_importance = 100.0 * (f_imp / f_imp.max())\n",
    "feature_names = vec.get_feature_names()"
   ]
  },
  {
   "cell_type": "code",
   "execution_count": 61,
   "metadata": {},
   "outputs": [],
   "source": [
    "# A holder for feature_name: feature_importance\n",
    "feats = {} \n",
    "for feature, importance in zip(feature_names, feature_importance):\n",
    "    feats[feature] = importance #add the name/value pair"
   ]
  },
  {
   "cell_type": "code",
   "execution_count": 62,
   "metadata": {},
   "outputs": [
    {
     "data": {
      "text/plain": [
       "<matplotlib.axes._subplots.AxesSubplot at 0x7f9ded593090>"
      ]
     },
     "execution_count": 62,
     "metadata": {},
     "output_type": "execute_result"
    },
    {
     "data": {
      "image/png": "[encoded data removed]",
      "text/plain": [
       "<Figure size 432x288 with 1 Axes>"
      ]
     },
     "metadata": {
      "needs_background": "light"
     },
     "output_type": "display_data"
    }
   ],
   "source": [
    "importances = pd.DataFrame.from_dict(feats, orient='index').rename(columns={0: 'Gini-importance'})\n",
    "importances.sort_values(by='Gini-importance', ascending=False)[:15].plot(kind='bar', rot=45)"
   ]
  },
  {
   "cell_type": "code",
   "execution_count": null,
   "metadata": {},
   "outputs": [],
   "source": []
  }
 ],
 "metadata": {
  "kernelspec": {
   "display_name": "Python 3",
   "language": "python",
   "name": "python3"
  },
  "language_info": {
   "codemirror_mode": {
    "name": "ipython",
    "version": 3
   },
   "file_extension": ".py",
   "mimetype": "text/x-python",
   "name": "python",
   "nbconvert_exporter": "python",
   "pygments_lexer": "ipython3",
   "version": "3.7.4"
  }
 },
 "nbformat": 4,
 "nbformat_minor": 4
}
