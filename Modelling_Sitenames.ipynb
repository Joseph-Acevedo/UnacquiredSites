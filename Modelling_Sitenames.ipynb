{
 "cells": [
  {
   "cell_type": "code",
   "execution_count": 1,
   "metadata": {},
   "outputs": [],
   "source": [
    "%%capture\n",
    "\n",
    "%run ML_Record_Mining_JN.ipynb"
   ]
  },
  {
   "cell_type": "code",
   "execution_count": 2,
   "metadata": {},
   "outputs": [],
   "source": [
    "# Loading libraries for modeling\n",
    "import matplotlib.pyplot as plt\n",
    "\n",
    "from sklearn.linear_model import LinearRegression, LogisticRegression\n",
    "from sklearn.svm import SVC\n",
    "from sklearn.tree import DecisionTreeClassifier\n",
    "from sklearn.model_selection import train_test_split\n",
    "from sklearn.feature_extraction.text import CountVectorizer\n",
    "from sklearn.neighbors import KNeighborsClassifier\n",
    "from sklearn.ensemble import RandomForestClassifier\n",
    "from sklearn.neural_network import MLPClassifier\n",
    "from sklearn.metrics import confusion_matrix\n",
    "\n",
    "import nltk\n",
    "from nltk.tokenize import sent_tokenize, word_tokenize\n",
    "from nltk.corpus import stopwords\n",
    "\n",
    "import time\n",
    "\n",
    "import os\n",
    "path = r'/Users/seiryu8808/Desktop/UWinsc/Github/UnacquiredSites/src/output'\n",
    "\n",
    "# Options\n",
    "pd.options.mode.chained_assignment = None"
   ]
  },
  {
   "cell_type": "markdown",
   "metadata": {},
   "source": [
    "## Simple Modeling for Sitenames"
   ]
  },
  {
   "cell_type": "markdown",
   "metadata": {},
   "source": [
    "First, we need to encode the text data into vectors in order to apply a Classification algorithm."
   ]
  },
  {
   "cell_type": "code",
   "execution_count": 3,
   "metadata": {},
   "outputs": [],
   "source": [
    "data = nlp_bib_neotoma[['_gddid', 'sentid', 'words', 'words_as_string', 'sitenames_l', 'intersection_words_sitenames']]"
   ]
  },
  {
   "cell_type": "code",
   "execution_count": 4,
   "metadata": {},
   "outputs": [],
   "source": [
    "data['has_sitename'] = data['intersection_words_sitenames'].apply(len) != 0\n",
    "# Map True to One and False to Zero\n",
    "data['has_sitename'] = data['has_sitename'].astype(int)\n",
    "\n",
    "# Reduce data to columns of interest for this task.\n",
    "data = data[['words_as_string', 'has_sitename']]\n",
    "\n",
    "# Define corpus for CountVectorizer\n",
    "corpus = data['words_as_string'].tolist()\n",
    "\n",
    "# Split data into training and testing sets\n",
    "data_train, data_test = train_test_split(data, test_size = 0.20, random_state = 12)\n",
    "\n",
    "# Translate words to vectors\n",
    "# This model can add stopwords, punctuation, etc.\n",
    "# For now, use all words.\n",
    "vec = CountVectorizer(min_df=2, \n",
    "                      tokenizer=nltk.word_tokenize)\n",
    "\n",
    "# Fit and transform training\n",
    "X_train = vec.fit_transform(data_train['words_as_string']) \n",
    "y_train = data_train['has_sitename']\n",
    "\n",
    "# Transform test data without fitting\n",
    "X_test = vec.transform(data_test['words_as_string']) \n",
    "y_test = data_test['has_sitename']"
   ]
  },
  {
   "cell_type": "markdown",
   "metadata": {},
   "source": [
    "Let's try to fit into different models to see which one renders the best performance. Take into consideration that this model will eventually be escalated to a bigger amount of data."
   ]
  },
  {
   "cell_type": "code",
   "execution_count": 5,
   "metadata": {},
   "outputs": [],
   "source": [
    "classifiers = {\n",
    "    'knn'           : KNeighborsClassifier(),\n",
    "    'decision tree' : DecisionTreeClassifier(random_state = 0, max_depth = 15),\n",
    "    'random forest' : RandomForestClassifier(n_estimators = 10)\n",
    "#    'SVM'           : SVC(C = 100, gamma = \"scale\"),\n",
    "#    'logistic reg'  : LogisticRegression(solver=\"lbfgs\", max_iter = 10000)\n",
    "}"
   ]
  },
  {
   "cell_type": "code",
   "execution_count": 6,
   "metadata": {},
   "outputs": [],
   "source": [
    "def create_scores(classifiers = classifiers, X_train = X_train, y_train = y_train, X_test = X_test, y_test = y_test):\n",
    "    train_scores = dict()\n",
    "    test_scores = dict()\n",
    "    training_times = dict()\n",
    "\n",
    "    for classifier_name, classifier_obj in classifiers.items():\n",
    "     #   print(\"Fitting\", classifier_name)\n",
    "        t = time.time()\n",
    "        classifier_obj.fit(X_train, y_train)\n",
    "\n",
    "        training_times[classifier_name] = time.time() - t\n",
    "        train_scores[classifier_name] = classifier_obj.score(X_train, y_train)\n",
    "        test_scores[classifier_name] = classifier_obj.score(X_test, y_test)\n",
    "\n",
    "    data = {\"train acc\": train_scores, \"valid acc\" : test_scores, \"training time (s)\" : training_times}\n",
    "    df = pd.DataFrame(data, columns = data.keys())\n",
    "    df.index = list(classifiers.keys())\n",
    "    return df"
   ]
  },
  {
   "cell_type": "code",
   "execution_count": 7,
   "metadata": {},
   "outputs": [
    {
     "data": {
      "text/html": [
       "<div>\n",
       "<style scoped>\n",
       "    .dataframe tbody tr th:only-of-type {\n",
       "        vertical-align: middle;\n",
       "    }\n",
       "\n",
       "    .dataframe tbody tr th {\n",
       "        vertical-align: top;\n",
       "    }\n",
       "\n",
       "    .dataframe thead th {\n",
       "        text-align: right;\n",
       "    }\n",
       "</style>\n",
       "<table border=\"1\" class=\"dataframe\">\n",
       "  <thead>\n",
       "    <tr style=\"text-align: right;\">\n",
       "      <th></th>\n",
       "      <th>train acc</th>\n",
       "      <th>valid acc</th>\n",
       "      <th>training time (s)</th>\n",
       "    </tr>\n",
       "  </thead>\n",
       "  <tbody>\n",
       "    <tr>\n",
       "      <td>knn</td>\n",
       "      <td>0.910317</td>\n",
       "      <td>0.891317</td>\n",
       "      <td>0.035690</td>\n",
       "    </tr>\n",
       "    <tr>\n",
       "      <td>decision tree</td>\n",
       "      <td>0.939797</td>\n",
       "      <td>0.931592</td>\n",
       "      <td>1.311862</td>\n",
       "    </tr>\n",
       "    <tr>\n",
       "      <td>random forest</td>\n",
       "      <td>0.991549</td>\n",
       "      <td>0.918605</td>\n",
       "      <td>14.146646</td>\n",
       "    </tr>\n",
       "  </tbody>\n",
       "</table>\n",
       "</div>"
      ],
      "text/plain": [
       "               train acc  valid acc  training time (s)\n",
       "knn             0.910317   0.891317           0.035690\n",
       "decision tree   0.939797   0.931592           1.311862\n",
       "random forest   0.991549   0.918605          14.146646"
      ]
     },
     "execution_count": 7,
     "metadata": {},
     "output_type": "execute_result"
    }
   ],
   "source": [
    "scores_df = create_scores()\n",
    "scores_df"
   ]
  },
  {
   "cell_type": "markdown",
   "metadata": {},
   "source": [
    "We can see there is overfitting happening, since all testing scores are too good to be true.   \n",
    "We also have to take into consideration that just 230 sentences have both coordinates out of over 100,000.   \n",
    "With this data unbalance, guessing 0 over all sentences would still be a very high accuracy."
   ]
  },
  {
   "cell_type": "markdown",
   "metadata": {},
   "source": [
    "## Checking different scores such as confusion matrices\n",
    "\n",
    "From the above matrix, we can see that SVM and Logistic Regression are computationally expensive. Taking into consideration that this experiment will eventually be scaled to a larger data set, let's discard these two methods. \n",
    "\n",
    "One way to know if a method is not missclassifying items, would be to check the confusion matrix and see how many false possitives or false negatives it has."
   ]
  },
  {
   "cell_type": "code",
   "execution_count": 8,
   "metadata": {},
   "outputs": [
    {
     "name": "stdout",
     "output_type": "stream",
     "text": [
      "Confusion Matrix knn\n",
      "[18755   209  2109   255]\n",
      "Confusion Matrix decision tree\n",
      "[18619   345  1114  1250]\n",
      "Confusion Matrix random forest\n",
      "[18810   154  1472   892]\n"
     ]
    }
   ],
   "source": [
    "for classifier_name, classifier_obj in classifiers.items():\n",
    "    print(\"Confusion Matrix\", classifier_name)\n",
    "    classifier_obj.fit(X_train, y_train)\n",
    "    y_pred = classifier_obj.predict(X_test)\n",
    "    conf_mat = confusion_matrix(y_test, y_pred).ravel()\n",
    "    print(conf_mat)"
   ]
  },
  {
   "cell_type": "markdown",
   "metadata": {},
   "source": [
    "Although KNN has less false positives, it has 11 more false negatives. True positives are being completely missed. \n",
    "So, although it is faster to train, it is not a good model.\n",
    "\n",
    "Let's then work with Decission Tree classifier and tune it to find the best parameters."
   ]
  },
  {
   "cell_type": "code",
   "execution_count": 9,
   "metadata": {},
   "outputs": [
    {
     "data": {
      "text/html": [
       "<div>\n",
       "<style scoped>\n",
       "    .dataframe tbody tr th:only-of-type {\n",
       "        vertical-align: middle;\n",
       "    }\n",
       "\n",
       "    .dataframe tbody tr th {\n",
       "        vertical-align: top;\n",
       "    }\n",
       "\n",
       "    .dataframe thead th {\n",
       "        text-align: right;\n",
       "    }\n",
       "</style>\n",
       "<table border=\"1\" class=\"dataframe\">\n",
       "  <thead>\n",
       "    <tr style=\"text-align: right;\">\n",
       "      <th></th>\n",
       "      <th>sample_size</th>\n",
       "      <th>train_accuracy</th>\n",
       "      <th>test_accuracy</th>\n",
       "    </tr>\n",
       "  </thead>\n",
       "  <tbody>\n",
       "    <tr>\n",
       "      <td>0</td>\n",
       "      <td>2</td>\n",
       "      <td>0.998171</td>\n",
       "      <td>0.942236</td>\n",
       "    </tr>\n",
       "    <tr>\n",
       "      <td>1</td>\n",
       "      <td>22</td>\n",
       "      <td>0.983637</td>\n",
       "      <td>0.945189</td>\n",
       "    </tr>\n",
       "    <tr>\n",
       "      <td>2</td>\n",
       "      <td>42</td>\n",
       "      <td>0.979874</td>\n",
       "      <td>0.944908</td>\n",
       "    </tr>\n",
       "    <tr>\n",
       "      <td>3</td>\n",
       "      <td>62</td>\n",
       "      <td>0.977658</td>\n",
       "      <td>0.944814</td>\n",
       "    </tr>\n",
       "    <tr>\n",
       "      <td>4</td>\n",
       "      <td>82</td>\n",
       "      <td>0.975795</td>\n",
       "      <td>0.944767</td>\n",
       "    </tr>\n",
       "    <tr>\n",
       "      <td>5</td>\n",
       "      <td>102</td>\n",
       "      <td>0.975127</td>\n",
       "      <td>0.944814</td>\n",
       "    </tr>\n",
       "    <tr>\n",
       "      <td>6</td>\n",
       "      <td>122</td>\n",
       "      <td>0.973392</td>\n",
       "      <td>0.943595</td>\n",
       "    </tr>\n",
       "    <tr>\n",
       "      <td>7</td>\n",
       "      <td>142</td>\n",
       "      <td>0.972267</td>\n",
       "      <td>0.944064</td>\n",
       "    </tr>\n",
       "    <tr>\n",
       "      <td>8</td>\n",
       "      <td>162</td>\n",
       "      <td>0.970672</td>\n",
       "      <td>0.943408</td>\n",
       "    </tr>\n",
       "    <tr>\n",
       "      <td>9</td>\n",
       "      <td>182</td>\n",
       "      <td>0.970239</td>\n",
       "      <td>0.943126</td>\n",
       "    </tr>\n",
       "  </tbody>\n",
       "</table>\n",
       "</div>"
      ],
      "text/plain": [
       "   sample_size  train_accuracy  test_accuracy\n",
       "0            2        0.998171       0.942236\n",
       "1           22        0.983637       0.945189\n",
       "2           42        0.979874       0.944908\n",
       "3           62        0.977658       0.944814\n",
       "4           82        0.975795       0.944767\n",
       "5          102        0.975127       0.944814\n",
       "6          122        0.973392       0.943595\n",
       "7          142        0.972267       0.944064\n",
       "8          162        0.970672       0.943408\n",
       "9          182        0.970239       0.943126"
      ]
     },
     "execution_count": 9,
     "metadata": {},
     "output_type": "execute_result"
    }
   ],
   "source": [
    "min_samples_split_dict = {'sample_size':[], 'train_accuracy':[], 'test_accuracy' :[]}\n",
    "\n",
    "for nsamples in range(2,200,20):\n",
    "    model = DecisionTreeClassifier(min_samples_split = nsamples)\n",
    "    model.fit(X_train, y_train)\n",
    "    score = model.score(X_train,y_train)\n",
    "    test_score = model.score(X_test,y_test)\n",
    "    min_samples_split_dict['sample_size'].append(nsamples)    \n",
    "    min_samples_split_dict['train_accuracy'].append(score)\n",
    "    min_samples_split_dict['test_accuracy'].append(test_score)\n",
    "    \n",
    "min_samples_split_df = pd.DataFrame(min_samples_split_dict)\n",
    "min_samples_split_df"
   ]
  },
  {
   "cell_type": "code",
   "execution_count": 11,
   "metadata": {},
   "outputs": [
    {
     "data": {
      "text/html": [
       "<div>\n",
       "<style scoped>\n",
       "    .dataframe tbody tr th:only-of-type {\n",
       "        vertical-align: middle;\n",
       "    }\n",
       "\n",
       "    .dataframe tbody tr th {\n",
       "        vertical-align: top;\n",
       "    }\n",
       "\n",
       "    .dataframe thead th {\n",
       "        text-align: right;\n",
       "    }\n",
       "</style>\n",
       "<table border=\"1\" class=\"dataframe\">\n",
       "  <thead>\n",
       "    <tr style=\"text-align: right;\">\n",
       "      <th></th>\n",
       "      <th>max_depth</th>\n",
       "      <th>train_accuracy</th>\n",
       "      <th>test_accuracy</th>\n",
       "    </tr>\n",
       "  </thead>\n",
       "  <tbody>\n",
       "    <tr>\n",
       "      <td>0</td>\n",
       "      <td>2</td>\n",
       "      <td>0.921652</td>\n",
       "      <td>0.922309</td>\n",
       "    </tr>\n",
       "    <tr>\n",
       "      <td>1</td>\n",
       "      <td>12</td>\n",
       "      <td>0.935050</td>\n",
       "      <td>0.929717</td>\n",
       "    </tr>\n",
       "    <tr>\n",
       "      <td>2</td>\n",
       "      <td>22</td>\n",
       "      <td>0.947463</td>\n",
       "      <td>0.935343</td>\n",
       "    </tr>\n",
       "    <tr>\n",
       "      <td>3</td>\n",
       "      <td>32</td>\n",
       "      <td>0.954719</td>\n",
       "      <td>0.937828</td>\n",
       "    </tr>\n",
       "    <tr>\n",
       "      <td>4</td>\n",
       "      <td>42</td>\n",
       "      <td>0.960803</td>\n",
       "      <td>0.940970</td>\n",
       "    </tr>\n",
       "    <tr>\n",
       "      <td>...</td>\n",
       "      <td>...</td>\n",
       "      <td>...</td>\n",
       "      <td>...</td>\n",
       "    </tr>\n",
       "    <tr>\n",
       "      <td>10</td>\n",
       "      <td>102</td>\n",
       "      <td>0.979921</td>\n",
       "      <td>0.947065</td>\n",
       "    </tr>\n",
       "    <tr>\n",
       "      <td>11</td>\n",
       "      <td>112</td>\n",
       "      <td>0.981363</td>\n",
       "      <td>0.946784</td>\n",
       "    </tr>\n",
       "    <tr>\n",
       "      <td>12</td>\n",
       "      <td>122</td>\n",
       "      <td>0.982769</td>\n",
       "      <td>0.947534</td>\n",
       "    </tr>\n",
       "    <tr>\n",
       "      <td>13</td>\n",
       "      <td>132</td>\n",
       "      <td>0.983930</td>\n",
       "      <td>0.947674</td>\n",
       "    </tr>\n",
       "    <tr>\n",
       "      <td>14</td>\n",
       "      <td>142</td>\n",
       "      <td>0.985289</td>\n",
       "      <td>0.946362</td>\n",
       "    </tr>\n",
       "  </tbody>\n",
       "</table>\n",
       "<p>15 rows × 3 columns</p>\n",
       "</div>"
      ],
      "text/plain": [
       "    max_depth  train_accuracy  test_accuracy\n",
       "0           2        0.921652       0.922309\n",
       "1          12        0.935050       0.929717\n",
       "2          22        0.947463       0.935343\n",
       "3          32        0.954719       0.937828\n",
       "4          42        0.960803       0.940970\n",
       "..        ...             ...            ...\n",
       "10        102        0.979921       0.947065\n",
       "11        112        0.981363       0.946784\n",
       "12        122        0.982769       0.947534\n",
       "13        132        0.983930       0.947674\n",
       "14        142        0.985289       0.946362\n",
       "\n",
       "[15 rows x 3 columns]"
      ]
     },
     "execution_count": 11,
     "metadata": {},
     "output_type": "execute_result"
    }
   ],
   "source": [
    "max_depth_dict = {'max_depth':[], 'train_accuracy':[], 'test_accuracy':[]}\n",
    "\n",
    "for nsamples in range(2,150,10):\n",
    "    model = DecisionTreeClassifier(max_depth = nsamples)\n",
    "    model.fit(X_train, y_train)\n",
    "    score = model.score(X_train,y_train)\n",
    "    test_sc = model.score(X_test, y_test)\n",
    "    max_depth_dict['max_depth'].append(nsamples)    \n",
    "    max_depth_dict['train_accuracy'].append(score)\n",
    "    max_depth_dict['test_accuracy'].append(test_sc)\n",
    "    \n",
    "max_depth_df = pd.DataFrame(max_depth_dict)\n",
    "max_depth_df"
   ]
  },
  {
   "cell_type": "code",
   "execution_count": 12,
   "metadata": {},
   "outputs": [],
   "source": [
    "clf = DecisionTreeClassifier(min_samples_split = 20, max_depth = 100)"
   ]
  },
  {
   "cell_type": "code",
   "execution_count": 13,
   "metadata": {},
   "outputs": [
    {
     "data": {
      "text/plain": [
       "DecisionTreeClassifier(class_weight=None, criterion='gini', max_depth=100,\n",
       "                       max_features=None, max_leaf_nodes=None,\n",
       "                       min_impurity_decrease=0.0, min_impurity_split=None,\n",
       "                       min_samples_leaf=1, min_samples_split=20,\n",
       "                       min_weight_fraction_leaf=0.0, presort=False,\n",
       "                       random_state=None, splitter='best')"
      ]
     },
     "execution_count": 13,
     "metadata": {},
     "output_type": "execute_result"
    }
   ],
   "source": [
    "clf.fit(X_train, y_train)"
   ]
  },
  {
   "cell_type": "markdown",
   "metadata": {},
   "source": [
    "Having chosen our hyperparameters, let's examine which features are the most important features."
   ]
  },
  {
   "cell_type": "code",
   "execution_count": 14,
   "metadata": {},
   "outputs": [],
   "source": [
    "# See which features are considered important\n",
    "f_imp = clf.feature_importances_\n",
    "\n",
    "feature_importance = 100.0 * (f_imp / f_imp.max())\n",
    "feature_names = vec.get_feature_names()"
   ]
  },
  {
   "cell_type": "code",
   "execution_count": 15,
   "metadata": {},
   "outputs": [],
   "source": [
    "# A holder for feature_name: feature_importance\n",
    "feats = {} \n",
    "for feature, importance in zip(feature_names, feature_importance):\n",
    "    feats[feature] = importance #add the name/value pair"
   ]
  },
  {
   "cell_type": "code",
   "execution_count": 16,
   "metadata": {},
   "outputs": [
    {
     "data": {
      "text/plain": [
       "<matplotlib.axes._subplots.AxesSubplot at 0x7f8355816590>"
      ]
     },
     "execution_count": 16,
     "metadata": {},
     "output_type": "execute_result"
    },
    {
     "data": {
      "image/png": "[encoded data removed]",
      "text/plain": [
       "<Figure size 432x288 with 1 Axes>"
      ]
     },
     "metadata": {
      "needs_background": "light"
     },
     "output_type": "display_data"
    }
   ],
   "source": [
    "importances = pd.DataFrame.from_dict(feats, orient='index').rename(columns={0: 'Gini-importance'})\n",
    "importances.sort_values(by='Gini-importance', ascending=False)[:12].plot(kind='bar', rot=45)"
   ]
  },
  {
   "cell_type": "code",
   "execution_count": 17,
   "metadata": {},
   "outputs": [],
   "source": [
    "y_pred = clf.predict(X_test)"
   ]
  },
  {
   "cell_type": "code",
   "execution_count": 18,
   "metadata": {},
   "outputs": [
    {
     "data": {
      "text/plain": [
       "0.945752063015754"
      ]
     },
     "execution_count": 18,
     "metadata": {},
     "output_type": "execute_result"
    }
   ],
   "source": [
    "clf.score(X_test, y_test)"
   ]
  },
  {
   "cell_type": "code",
   "execution_count": 19,
   "metadata": {},
   "outputs": [
    {
     "data": {
      "text/plain": [
       "array([18596,   368,   789,  1575])"
      ]
     },
     "execution_count": 19,
     "metadata": {},
     "output_type": "execute_result"
    }
   ],
   "source": [
    "confusion_matrix(y_test, y_pred).ravel()"
   ]
  },
  {
   "cell_type": "markdown",
   "metadata": {},
   "source": [
    "TODO:\n",
    " Take away vocabulary such as lake, bog, lago, pond."
   ]
  },
  {
   "cell_type": "code",
   "execution_count": 22,
   "metadata": {},
   "outputs": [],
   "source": [
    "# Export csv to compare y_pred and y_test labels\n",
    "guessed_label = pd.DataFrame(y_pred)\n",
    "actual_label = pd.DataFrame(y_test)\n",
    "actual_label = actual_label.reset_index()\n",
    "\n",
    "# Join with sentences\n",
    "original_sentence = pd.DataFrame(data_test['words_as_string'])\n",
    "original_sentence = original_sentence .reset_index()\n",
    "\n",
    "comparison_df = guessed_label.join(actual_label)\n",
    "comparison_df = comparison_df.drop(columns=['index'])\n",
    "\n",
    "comparison_df = comparison_df.join(original_sentence)\n",
    "comparison_df = comparison_df.drop(columns=['index'])"
   ]
  },
  {
   "cell_type": "code",
   "execution_count": 23,
   "metadata": {},
   "outputs": [],
   "source": [
    "output_file = os.path.join(path,'modeled_sentences_sitenames.tsv')\n",
    "comparison_df.to_csv(output_file, sep='\\t', index = False)"
   ]
  },
  {
   "cell_type": "markdown",
   "metadata": {},
   "source": [
    "One of the reasons for such a poor classification with the False Negatives, it is because data  is too unbalanced. \n",
    "\n",
    "We are going to address that problem now."
   ]
  },
  {
   "cell_type": "markdown",
   "metadata": {},
   "source": [
    "### Balancing DataSet\n",
    "\n",
    "Although usually more data is better, we have a very few number of sentences that satisfy the condition of having \"coordinates\".\n",
    "\n",
    "In order to balance training, I will only take 300 random sentences that have no coordinates. This will be even with sentences that have coordinates and maybe this will create less noise. "
   ]
  },
  {
   "cell_type": "code",
   "execution_count": 44,
   "metadata": {},
   "outputs": [],
   "source": [
    "data = nlp_bib_neotoma[['_gddid', 'sentid', 'words', 'words_as_string', 'sitenames_l', 'intersection_words_sitenames']]"
   ]
  },
  {
   "cell_type": "code",
   "execution_count": 45,
   "metadata": {},
   "outputs": [],
   "source": [
    "data['has_sitename'] = data['intersection_words_sitenames'].apply(len) != 0\n",
    "# Map True to One and False to Zero\n",
    "data['has_sitename'] = data['has_sitename'].astype(int)"
   ]
  },
  {
   "cell_type": "code",
   "execution_count": 46,
   "metadata": {},
   "outputs": [],
   "source": [
    "# Reduce data to columns of interest\n",
    "data = data[['words_as_string', 'has_sitename']]"
   ]
  },
  {
   "cell_type": "code",
   "execution_count": 47,
   "metadata": {},
   "outputs": [
    {
     "data": {
      "text/html": [
       "<div>\n",
       "<style scoped>\n",
       "    .dataframe tbody tr th:only-of-type {\n",
       "        vertical-align: middle;\n",
       "    }\n",
       "\n",
       "    .dataframe tbody tr th {\n",
       "        vertical-align: top;\n",
       "    }\n",
       "\n",
       "    .dataframe thead th {\n",
       "        text-align: right;\n",
       "    }\n",
       "</style>\n",
       "<table border=\"1\" class=\"dataframe\">\n",
       "  <thead>\n",
       "    <tr style=\"text-align: right;\">\n",
       "      <th></th>\n",
       "      <th>words_as_string</th>\n",
       "      <th>has_sitename</th>\n",
       "    </tr>\n",
       "  </thead>\n",
       "  <tbody>\n",
       "    <tr>\n",
       "      <td>44863</td>\n",
       "      <td>Torreya,,,13,,,173-181,.</td>\n",
       "      <td>0</td>\n",
       "    </tr>\n",
       "    <tr>\n",
       "      <td>68363</td>\n",
       "      <td>Valero-Garces,BL,,,Laird,KR,,,Fritz,SC,,,Kelts...</td>\n",
       "      <td>0</td>\n",
       "    </tr>\n",
       "  </tbody>\n",
       "</table>\n",
       "</div>"
      ],
      "text/plain": [
       "                                         words_as_string  has_sitename\n",
       "44863                           Torreya,,,13,,,173-181,.             0\n",
       "68363  Valero-Garces,BL,,,Laird,KR,,,Fritz,SC,,,Kelts...             0"
      ]
     },
     "execution_count": 47,
     "metadata": {},
     "output_type": "execute_result"
    }
   ],
   "source": [
    "from random import shuffle\n",
    "data0 = data[data['has_sitename'] == 0]\n",
    "data0 = data0.sample(n = 12000)\n",
    "data1 = data[data['has_sitename'] == 1]\n",
    "data = pd.concat([data0, data1])\n",
    "data.head(2)"
   ]
  },
  {
   "cell_type": "code",
   "execution_count": 49,
   "metadata": {},
   "outputs": [],
   "source": [
    "# Define corpus for CountVectorizer\n",
    "corpus = data['words_as_string'].tolist()\n",
    "\n",
    "# Split data into training and testing sets\n",
    "data_train, data_test = train_test_split(data, test_size = 0.20, random_state = 12)"
   ]
  },
  {
   "cell_type": "code",
   "execution_count": 51,
   "metadata": {},
   "outputs": [],
   "source": [
    "# Translate words to vectors\n",
    "# This model can add stopwords, punctuation, etc.\n",
    "# For now, use all words.\n",
    "vec = CountVectorizer(min_df=2, \n",
    "                      tokenizer=nltk.word_tokenize)\n",
    "\n",
    "# Fit and transform training\n",
    "X_train = vec.fit_transform(data_train['words_as_string']) \n",
    "y_train = data_train['has_sitename']\n",
    "\n",
    "# Transform test data without fitting\n",
    "X_test = vec.transform(data_test['words_as_string']) \n",
    "y_test = data_test['has_sitename']"
   ]
  },
  {
   "cell_type": "markdown",
   "metadata": {},
   "source": [
    "Using same model since we are just comparing 'Data Balancing'"
   ]
  },
  {
   "cell_type": "code",
   "execution_count": 52,
   "metadata": {},
   "outputs": [
    {
     "data": {
      "text/plain": [
       "DecisionTreeClassifier(class_weight=None, criterion='gini', max_depth=100,\n",
       "                       max_features=None, max_leaf_nodes=None,\n",
       "                       min_impurity_decrease=0.0, min_impurity_split=None,\n",
       "                       min_samples_leaf=1, min_samples_split=20,\n",
       "                       min_weight_fraction_leaf=0.0, presort=False,\n",
       "                       random_state=None, splitter='best')"
      ]
     },
     "execution_count": 52,
     "metadata": {},
     "output_type": "execute_result"
    }
   ],
   "source": [
    "clf.fit(X_train, y_train)"
   ]
  },
  {
   "cell_type": "code",
   "execution_count": 53,
   "metadata": {},
   "outputs": [
    {
     "data": {
      "text/plain": [
       "0.8160943753949863"
      ]
     },
     "execution_count": 53,
     "metadata": {},
     "output_type": "execute_result"
    }
   ],
   "source": [
    "clf.score(X_test, y_test)"
   ]
  },
  {
   "cell_type": "code",
   "execution_count": 54,
   "metadata": {},
   "outputs": [
    {
     "data": {
      "text/plain": [
       "0.94379773505399"
      ]
     },
     "execution_count": 54,
     "metadata": {},
     "output_type": "execute_result"
    }
   ],
   "source": [
    "clf.score(X_train, y_train)"
   ]
  },
  {
   "cell_type": "code",
   "execution_count": 55,
   "metadata": {},
   "outputs": [],
   "source": [
    "# See which features are considered important\n",
    "f_imp = clf.feature_importances_\n",
    "feature_importance = 100.0 * (f_imp / f_imp.max())\n",
    "feature_names = vec.get_feature_names()"
   ]
  },
  {
   "cell_type": "code",
   "execution_count": 56,
   "metadata": {},
   "outputs": [],
   "source": [
    "# A holder for feature_name: feature_importance\n",
    "feats = {} \n",
    "for feature, importance in zip(feature_names, feature_importance):\n",
    "    feats[feature] = importance #add the name/value pair"
   ]
  },
  {
   "cell_type": "code",
   "execution_count": 57,
   "metadata": {},
   "outputs": [
    {
     "data": {
      "text/plain": [
       "<matplotlib.axes._subplots.AxesSubplot at 0x7f835595df10>"
      ]
     },
     "execution_count": 57,
     "metadata": {},
     "output_type": "execute_result"
    },
    {
     "data": {
      "image/png": "[encoded data removed]",
      "text/plain": [
       "<Figure size 432x288 with 1 Axes>"
      ]
     },
     "metadata": {
      "needs_background": "light"
     },
     "output_type": "display_data"
    }
   ],
   "source": [
    "importances = pd.DataFrame.from_dict(feats, orient='index').rename(columns={0: 'Gini-importance'})\n",
    "importances.sort_values(by='Gini-importance', ascending=False)[:12].plot(kind='bar', rot=45)"
   ]
  },
  {
   "cell_type": "code",
   "execution_count": 59,
   "metadata": {},
   "outputs": [
    {
     "data": {
      "text/html": [
       "<div>\n",
       "<style scoped>\n",
       "    .dataframe tbody tr th:only-of-type {\n",
       "        vertical-align: middle;\n",
       "    }\n",
       "\n",
       "    .dataframe tbody tr th {\n",
       "        vertical-align: top;\n",
       "    }\n",
       "\n",
       "    .dataframe thead th {\n",
       "        text-align: right;\n",
       "    }\n",
       "</style>\n",
       "<table border=\"1\" class=\"dataframe\">\n",
       "  <thead>\n",
       "    <tr style=\"text-align: right;\">\n",
       "      <th></th>\n",
       "      <th>Gini-importance</th>\n",
       "    </tr>\n",
       "  </thead>\n",
       "  <tbody>\n",
       "    <tr>\n",
       "      <td>lake</td>\n",
       "      <td>100.000000</td>\n",
       "    </tr>\n",
       "    <tr>\n",
       "      <td>,</td>\n",
       "      <td>49.143970</td>\n",
       "    </tr>\n",
       "    <tr>\n",
       "      <td>mammoth</td>\n",
       "      <td>6.017061</td>\n",
       "    </tr>\n",
       "    <tr>\n",
       "      <td>at</td>\n",
       "      <td>5.742182</td>\n",
       "    </tr>\n",
       "    <tr>\n",
       "      <td>bog</td>\n",
       "      <td>5.106138</td>\n",
       "    </tr>\n",
       "    <tr>\n",
       "      <td>...</td>\n",
       "      <td>...</td>\n",
       "    </tr>\n",
       "    <tr>\n",
       "      <td>site</td>\n",
       "      <td>2.806638</td>\n",
       "    </tr>\n",
       "    <tr>\n",
       "      <td>lago</td>\n",
       "      <td>2.672350</td>\n",
       "    </tr>\n",
       "    <tr>\n",
       "      <td>from</td>\n",
       "      <td>2.539741</td>\n",
       "    </tr>\n",
       "    <tr>\n",
       "      <td>river</td>\n",
       "      <td>2.293370</td>\n",
       "    </tr>\n",
       "    <tr>\n",
       "      <td>monticchio</td>\n",
       "      <td>2.005975</td>\n",
       "    </tr>\n",
       "  </tbody>\n",
       "</table>\n",
       "<p>15 rows × 1 columns</p>\n",
       "</div>"
      ],
      "text/plain": [
       "            Gini-importance\n",
       "lake             100.000000\n",
       ",                 49.143970\n",
       "mammoth            6.017061\n",
       "at                 5.742182\n",
       "bog                5.106138\n",
       "...                     ...\n",
       "site               2.806638\n",
       "lago               2.672350\n",
       "from               2.539741\n",
       "river              2.293370\n",
       "monticchio         2.005975\n",
       "\n",
       "[15 rows x 1 columns]"
      ]
     },
     "execution_count": 59,
     "metadata": {},
     "output_type": "execute_result"
    }
   ],
   "source": [
    "importances.sort_values(by='Gini-importance', ascending = False)[:15]"
   ]
  },
  {
   "cell_type": "code",
   "execution_count": 61,
   "metadata": {},
   "outputs": [
    {
     "data": {
      "text/plain": [
       "array([[2045,  382],\n",
       "       [ 491, 1829]])"
      ]
     },
     "execution_count": 61,
     "metadata": {},
     "output_type": "execute_result"
    }
   ],
   "source": [
    "y_pred = clf.predict(X_test)\n",
    "confusion_matrix(y_test, y_pred)"
   ]
  },
  {
   "cell_type": "code",
   "execution_count": 64,
   "metadata": {},
   "outputs": [],
   "source": [
    "guessed_label = pd.DataFrame(Y_pred)\n",
    "actual_label = pd.DataFrame(y_test)\n",
    "actual_label = actual_label.reset_index()"
   ]
  },
  {
   "cell_type": "code",
   "execution_count": 65,
   "metadata": {},
   "outputs": [],
   "source": [
    "original_sentence = pd.DataFrame(data_test['words_as_string'])\n",
    "original_sentence = original_sentence .reset_index()"
   ]
  },
  {
   "cell_type": "code",
   "execution_count": 66,
   "metadata": {},
   "outputs": [],
   "source": [
    "comparison_df_sm = guessed_label.join(actual_label)\n",
    "comparison_df_sm = comparison_df_sm.drop(columns=['index'])"
   ]
  },
  {
   "cell_type": "code",
   "execution_count": 67,
   "metadata": {},
   "outputs": [
    {
     "data": {
      "text/html": [
       "<div>\n",
       "<style scoped>\n",
       "    .dataframe tbody tr th:only-of-type {\n",
       "        vertical-align: middle;\n",
       "    }\n",
       "\n",
       "    .dataframe tbody tr th {\n",
       "        vertical-align: top;\n",
       "    }\n",
       "\n",
       "    .dataframe thead th {\n",
       "        text-align: right;\n",
       "    }\n",
       "</style>\n",
       "<table border=\"1\" class=\"dataframe\">\n",
       "  <thead>\n",
       "    <tr style=\"text-align: right;\">\n",
       "      <th></th>\n",
       "      <th>0</th>\n",
       "      <th>has_sitename</th>\n",
       "      <th>words_as_string</th>\n",
       "    </tr>\n",
       "  </thead>\n",
       "  <tbody>\n",
       "    <tr>\n",
       "      <td>0</td>\n",
       "      <td>0</td>\n",
       "      <td>0</td>\n",
       "      <td>Geology,26,,,1131,--,1134,.</td>\n",
       "    </tr>\n",
       "    <tr>\n",
       "      <td>1</td>\n",
       "      <td>1</td>\n",
       "      <td>0</td>\n",
       "      <td>to,relatively,high,mountains,to,the,south,east...</td>\n",
       "    </tr>\n",
       "    <tr>\n",
       "      <td>2</td>\n",
       "      <td>0</td>\n",
       "      <td>0</td>\n",
       "      <td>250,11.590,?</td>\n",
       "    </tr>\n",
       "    <tr>\n",
       "      <td>3</td>\n",
       "      <td>0</td>\n",
       "      <td>0</td>\n",
       "      <td>Siedlungsmobilität,im,zweiten,Jahrtausend,v.,C...</td>\n",
       "    </tr>\n",
       "    <tr>\n",
       "      <td>4</td>\n",
       "      <td>1</td>\n",
       "      <td>0</td>\n",
       "      <td>Furthermore,,,pleurocarpe,mosses,,,like,Callie...</td>\n",
       "    </tr>\n",
       "    <tr>\n",
       "      <td>...</td>\n",
       "      <td>...</td>\n",
       "      <td>...</td>\n",
       "      <td>...</td>\n",
       "    </tr>\n",
       "    <tr>\n",
       "      <td>4742</td>\n",
       "      <td>0</td>\n",
       "      <td>0</td>\n",
       "      <td>Herpetologica,32,,,298-304,.</td>\n",
       "    </tr>\n",
       "    <tr>\n",
       "      <td>4743</td>\n",
       "      <td>1</td>\n",
       "      <td>1</td>\n",
       "      <td>Age-depth,models,for,the,Minden,Bog,and,Hole,B...</td>\n",
       "    </tr>\n",
       "    <tr>\n",
       "      <td>4744</td>\n",
       "      <td>0</td>\n",
       "      <td>1</td>\n",
       "      <td>The,cores,from,Roque,Island,and,Schoodic,Penin...</td>\n",
       "    </tr>\n",
       "    <tr>\n",
       "      <td>4745</td>\n",
       "      <td>0</td>\n",
       "      <td>0</td>\n",
       "      <td>An,increase,in,Cheno/Ams,pollen,was,also,consi...</td>\n",
       "    </tr>\n",
       "    <tr>\n",
       "      <td>4746</td>\n",
       "      <td>0</td>\n",
       "      <td>0</td>\n",
       "      <td>,,Patagonia,.</td>\n",
       "    </tr>\n",
       "  </tbody>\n",
       "</table>\n",
       "<p>4747 rows × 3 columns</p>\n",
       "</div>"
      ],
      "text/plain": [
       "      0  has_sitename                                    words_as_string\n",
       "0     0             0                        Geology,26,,,1131,--,1134,.\n",
       "1     1             0  to,relatively,high,mountains,to,the,south,east...\n",
       "2     0             0                                       250,11.590,?\n",
       "3     0             0  Siedlungsmobilität,im,zweiten,Jahrtausend,v.,C...\n",
       "4     1             0  Furthermore,,,pleurocarpe,mosses,,,like,Callie...\n",
       "...  ..           ...                                                ...\n",
       "4742  0             0                       Herpetologica,32,,,298-304,.\n",
       "4743  1             1  Age-depth,models,for,the,Minden,Bog,and,Hole,B...\n",
       "4744  0             1  The,cores,from,Roque,Island,and,Schoodic,Penin...\n",
       "4745  0             0  An,increase,in,Cheno/Ams,pollen,was,also,consi...\n",
       "4746  0             0                                      ,,Patagonia,.\n",
       "\n",
       "[4747 rows x 3 columns]"
      ]
     },
     "execution_count": 67,
     "metadata": {},
     "output_type": "execute_result"
    }
   ],
   "source": [
    "comparison_df_sm = comparison_df_sm.join(original_sentence)\n",
    "comparison_df_sm = comparison_df_sm.drop(columns=['index'])\n",
    "comparison_df_sm"
   ]
  },
  {
   "cell_type": "code",
   "execution_count": 70,
   "metadata": {},
   "outputs": [],
   "source": [
    "import os\n",
    "output_file = os.path.join(path,'small_model_sentences.tsv')\n",
    "comparison_df_sm.to_csv(output_file, sep='\\t', index = False)"
   ]
  },
  {
   "cell_type": "code",
   "execution_count": null,
   "metadata": {},
   "outputs": [],
   "source": []
  }
 ],
 "metadata": {
  "kernelspec": {
   "display_name": "Python 3",
   "language": "python",
   "name": "python3"
  },
  "language_info": {
   "codemirror_mode": {
    "name": "ipython",
    "version": 3
   },
   "file_extension": ".py",
   "mimetype": "text/x-python",
   "name": "python",
   "nbconvert_exporter": "python",
   "pygments_lexer": "ipython3",
   "version": "3.7.4"
  }
 },
 "nbformat": 4,
 "nbformat_minor": 4
}
