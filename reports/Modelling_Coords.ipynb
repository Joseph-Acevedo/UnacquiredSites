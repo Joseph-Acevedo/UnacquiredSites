{
 "cells": [
  {
   "cell_type": "code",
   "execution_count": 2,
   "metadata": {},
   "outputs": [],
   "source": [
    "%%capture\n",
    "\n",
    "%run ML_Record_Mining_JN.ipynb"
   ]
  },
  {
   "cell_type": "code",
   "execution_count": 1,
   "metadata": {},
   "outputs": [
    {
     "ename": "NameError",
     "evalue": "name 'pd' is not defined",
     "output_type": "error",
     "traceback": [
      "\u001b[0;31m---------------------------------------------------------------------------\u001b[0m",
      "\u001b[0;31mNameError\u001b[0m                                 Traceback (most recent call last)",
      "\u001b[0;32m<ipython-input-1-495ad43fae3b>\u001b[0m in \u001b[0;36m<module>\u001b[0;34m\u001b[0m\n\u001b[1;32m     22\u001b[0m \u001b[0;34m\u001b[0m\u001b[0m\n\u001b[1;32m     23\u001b[0m \u001b[0;31m# Options\u001b[0m\u001b[0;34m\u001b[0m\u001b[0;34m\u001b[0m\u001b[0;34m\u001b[0m\u001b[0m\n\u001b[0;32m---> 24\u001b[0;31m \u001b[0mpd\u001b[0m\u001b[0;34m.\u001b[0m\u001b[0moptions\u001b[0m\u001b[0;34m.\u001b[0m\u001b[0mmode\u001b[0m\u001b[0;34m.\u001b[0m\u001b[0mchained_assignment\u001b[0m \u001b[0;34m=\u001b[0m \u001b[0;32mNone\u001b[0m\u001b[0;34m\u001b[0m\u001b[0;34m\u001b[0m\u001b[0m\n\u001b[0m",
      "\u001b[0;31mNameError\u001b[0m: name 'pd' is not defined"
     ]
    }
   ],
   "source": [
    "# Loading libraries for modeling\n",
    "import matplotlib.pyplot as plt\n",
    "\n",
    "from sklearn.linear_model import LinearRegression, LogisticRegression\n",
    "from sklearn.svm import SVC\n",
    "from sklearn.tree import DecisionTreeClassifier\n",
    "from sklearn.model_selection import train_test_split\n",
    "from sklearn.feature_extraction.text import CountVectorizer\n",
    "from sklearn.neighbors import KNeighborsClassifier\n",
    "from sklearn.ensemble import RandomForestClassifier\n",
    "from sklearn.neural_network import MLPClassifier\n",
    "from sklearn.metrics import confusion_matrix\n",
    "\n",
    "import nltk\n",
    "from nltk.tokenize import sent_tokenize, word_tokenize\n",
    "from nltk.corpus import stopwords\n",
    "\n",
    "import time\n",
    "\n",
    "import os\n",
    "path = r'/Users/seiryu8808/Desktop/UWinsc/Github/UnacquiredSites/src/output'\n",
    "\n",
    "# Options\n",
    "pd.options.mode.chained_assignment = None"
   ]
  },
  {
   "cell_type": "markdown",
   "metadata": {},
   "source": [
    "## Simple Modeling for Latitude and Longitude Coordinates"
   ]
  },
  {
   "cell_type": "markdown",
   "metadata": {},
   "source": [
    "First, we need to encode the text data into vectors in order to apply a Classification algorithm."
   ]
  },
  {
   "cell_type": "code",
   "execution_count": 5,
   "metadata": {},
   "outputs": [],
   "source": [
    "data = nlp_bib_neotoma[['_gddid', 'sentid', 'words', 'words_as_string', 'dms_regex', 'dd_regex', 'latnorth', 'longeast', 'intersection_words_lat', 'intersection_words_long']]"
   ]
  },
  {
   "cell_type": "code",
   "execution_count": 6,
   "metadata": {},
   "outputs": [
    {
     "data": {
      "text/plain": [
       "0         Available online at www.sciencedirect.com Quat...\n",
       "1         The Chihuahueños Bog record extends to over 15...\n",
       "2         An Artemisia steppe, then an open Picea woodla...\n",
       "3         C/N ratios, δ13C and δ15N values indicate both...\n",
       "4         Higher percentages of aquatic algae and elevat...\n",
       "                                ...                        \n",
       "106635                                                Ann .\n",
       "106636                                        Sofia Univ. .\n",
       "106637                                                Fac .\n",
       "106638                                               Geol .\n",
       "106639    Geogr85, 181198 (in Bulgarian with English sum...\n",
       "Name: words_as_string, Length: 106640, dtype: object"
      ]
     },
     "execution_count": 6,
     "metadata": {},
     "output_type": "execute_result"
    }
   ],
   "source": [
    "data['words_as_string']"
   ]
  },
  {
   "cell_type": "code",
   "execution_count": 7,
   "metadata": {},
   "outputs": [],
   "source": [
    "data['has_both_lat_long_int'] = ((data['intersection_words_lat'].apply(len) != 0) & (data['intersection_words_long'].apply(len) != 0 ))\n",
    "\n",
    "# Map True to One and False to Zero\n",
    "data['has_both_lat_long_int'] = data['has_both_lat_long_int'].astype(int)\n",
    "\n",
    "# Reduce data to columns of interest for this task.\n",
    "data = data[['words_as_string', 'has_both_lat_long_int']]\n",
    "\n",
    "# Define corpus for CountVectorizer\n",
    "corpus = data['words_as_string'].tolist()\n",
    "\n",
    "# Split data into training and testing sets\n",
    "data_train, data_test = train_test_split(data, test_size = 0.20, random_state = 12)\n",
    "\n",
    "# Translate words to vectors\n",
    "# This model can add stopwords, punctuation, etc.\n",
    "# For now, use all words.\n",
    "vec = CountVectorizer(min_df=2, \n",
    "                      tokenizer=nltk.word_tokenize)\n",
    "\n",
    "# Fit and transform training\n",
    "X_train = vec.fit_transform(data_train['words_as_string']) \n",
    "y_train = data_train['has_both_lat_long_int']\n",
    "\n",
    "# Transform test data without fitting\n",
    "X_test = vec.transform(data_test['words_as_string']) \n",
    "y_test = data_test['has_both_lat_long_int']"
   ]
  },
  {
   "cell_type": "markdown",
   "metadata": {},
   "source": [
    "Let's try to fit into different models to see which one renders the best performance. Take into consideration that this model will eventually be escalated to a bigger amount of data."
   ]
  },
  {
   "cell_type": "code",
   "execution_count": 8,
   "metadata": {},
   "outputs": [],
   "source": [
    "classifiers = {\n",
    "#    'knn'           : KNeighborsClassifier(),\n",
    "    'decision tree' : DecisionTreeClassifier(random_state = 0, max_depth = 15),\n",
    "    'random forest' : RandomForestClassifier(n_estimators = 10)\n",
    "#    'SVM'           : SVC(C = 100, gamma = \"scale\"),\n",
    "#    'logistic reg'  : LogisticRegression(solver=\"lbfgs\", max_iter = 10000)\n",
    "}"
   ]
  },
  {
   "cell_type": "code",
   "execution_count": 9,
   "metadata": {},
   "outputs": [],
   "source": [
    "def create_scores(classifiers = classifiers, X_train = X_train, y_train = y_train, X_test = X_test, y_test = y_test):\n",
    "    train_scores = dict()\n",
    "    test_scores = dict()\n",
    "    training_times = dict()\n",
    "\n",
    "    for classifier_name, classifier_obj in classifiers.items():\n",
    "     #   print(\"Fitting\", classifier_name)\n",
    "        t = time.time()\n",
    "        classifier_obj.fit(X_train, y_train)\n",
    "\n",
    "        training_times[classifier_name] = time.time() - t\n",
    "        train_scores[classifier_name] = classifier_obj.score(X_train, y_train)\n",
    "        test_scores[classifier_name] = classifier_obj.score(X_test, y_test)\n",
    "\n",
    "    data = {\"train acc\": train_scores, \"valid acc\" : test_scores, \"training time (s)\" : training_times}\n",
    "    df = pd.DataFrame(data, columns = data.keys())\n",
    "    df.index = list(classifiers.keys())\n",
    "    return df"
   ]
  },
  {
   "cell_type": "code",
   "execution_count": 10,
   "metadata": {},
   "outputs": [
    {
     "data": {
      "text/html": [
       "<div>\n",
       "<style scoped>\n",
       "    .dataframe tbody tr th:only-of-type {\n",
       "        vertical-align: middle;\n",
       "    }\n",
       "\n",
       "    .dataframe tbody tr th {\n",
       "        vertical-align: top;\n",
       "    }\n",
       "\n",
       "    .dataframe thead th {\n",
       "        text-align: right;\n",
       "    }\n",
       "</style>\n",
       "<table border=\"1\" class=\"dataframe\">\n",
       "  <thead>\n",
       "    <tr style=\"text-align: right;\">\n",
       "      <th></th>\n",
       "      <th>train acc</th>\n",
       "      <th>valid acc</th>\n",
       "      <th>training time (s)</th>\n",
       "    </tr>\n",
       "  </thead>\n",
       "  <tbody>\n",
       "    <tr>\n",
       "      <td>decision tree</td>\n",
       "      <td>0.999285</td>\n",
       "      <td>0.997984</td>\n",
       "      <td>0.702710</td>\n",
       "    </tr>\n",
       "    <tr>\n",
       "      <td>random forest</td>\n",
       "      <td>0.999660</td>\n",
       "      <td>0.997703</td>\n",
       "      <td>0.623006</td>\n",
       "    </tr>\n",
       "  </tbody>\n",
       "</table>\n",
       "</div>"
      ],
      "text/plain": [
       "               train acc  valid acc  training time (s)\n",
       "decision tree   0.999285   0.997984           0.702710\n",
       "random forest   0.999660   0.997703           0.623006"
      ]
     },
     "execution_count": 10,
     "metadata": {},
     "output_type": "execute_result"
    }
   ],
   "source": [
    "scores_df = create_scores()\n",
    "scores_df"
   ]
  },
  {
   "cell_type": "markdown",
   "metadata": {},
   "source": [
    "We can see there is overfitting happening, since all testing scores are too good to be true.   \n",
    "We also have to take into consideration that just 230 sentences have both coordinates out of over 100,000.   \n",
    "With this data unbalance, guessing 0 over all sentences would still be a very high accuracy."
   ]
  },
  {
   "cell_type": "markdown",
   "metadata": {},
   "source": [
    "## Checking different scores such as confusion matrices\n",
    "\n",
    "From the above matrix, we can see that SVM and Logistic Regression are computationally expensive. Taking into consideration that this experiment will eventually be scaled to a larger data set, let's discard these two methods. \n",
    "\n",
    "One way to know if a method is not missclassifying items, would be to check the confusion matrix and see how many false possitives or false negatives it has."
   ]
  },
  {
   "cell_type": "code",
   "execution_count": 11,
   "metadata": {},
   "outputs": [
    {
     "name": "stdout",
     "output_type": "stream",
     "text": [
      "Confusion Matrix decision tree\n",
      "[21266    10    33    19]\n",
      "Confusion Matrix random forest\n",
      "[21276     0    47     5]\n"
     ]
    }
   ],
   "source": [
    "for classifier_name, classifier_obj in classifiers.items():\n",
    "    print(\"Confusion Matrix\", classifier_name)\n",
    "    classifier_obj.fit(X_train, y_train)\n",
    "    y_pred = classifier_obj.predict(X_test)\n",
    "    conf_mat = confusion_matrix(y_test, y_pred).ravel()\n",
    "    print(conf_mat)"
   ]
  },
  {
   "cell_type": "markdown",
   "metadata": {},
   "source": [
    "Although the random forest seems to have no false positives, it has 11 more false negatives. True positives are being completely missed. \n",
    "So, although it is faster to train, it is not a good model.\n",
    "\n",
    "Let's then work with Decission Tree classifier and tune it to find the best parameters."
   ]
  },
  {
   "cell_type": "code",
   "execution_count": 12,
   "metadata": {},
   "outputs": [],
   "source": [
    "pd.options.display.float_format = '{:,.5f}'.format"
   ]
  },
  {
   "cell_type": "code",
   "execution_count": 13,
   "metadata": {},
   "outputs": [
    {
     "data": {
      "text/html": [
       "<div>\n",
       "<style scoped>\n",
       "    .dataframe tbody tr th:only-of-type {\n",
       "        vertical-align: middle;\n",
       "    }\n",
       "\n",
       "    .dataframe tbody tr th {\n",
       "        vertical-align: top;\n",
       "    }\n",
       "\n",
       "    .dataframe thead th {\n",
       "        text-align: right;\n",
       "    }\n",
       "</style>\n",
       "<table border=\"1\" class=\"dataframe\">\n",
       "  <thead>\n",
       "    <tr style=\"text-align: right;\">\n",
       "      <th></th>\n",
       "      <th>sample_size</th>\n",
       "      <th>train_accuracy</th>\n",
       "      <th>test_accuracy</th>\n",
       "    </tr>\n",
       "  </thead>\n",
       "  <tbody>\n",
       "    <tr>\n",
       "      <td>0</td>\n",
       "      <td>2</td>\n",
       "      <td>1.00000</td>\n",
       "      <td>0.99803</td>\n",
       "    </tr>\n",
       "    <tr>\n",
       "      <td>1</td>\n",
       "      <td>22</td>\n",
       "      <td>0.99941</td>\n",
       "      <td>0.99794</td>\n",
       "    </tr>\n",
       "    <tr>\n",
       "      <td>2</td>\n",
       "      <td>42</td>\n",
       "      <td>0.99916</td>\n",
       "      <td>0.99789</td>\n",
       "    </tr>\n",
       "    <tr>\n",
       "      <td>3</td>\n",
       "      <td>62</td>\n",
       "      <td>0.99906</td>\n",
       "      <td>0.99794</td>\n",
       "    </tr>\n",
       "    <tr>\n",
       "      <td>4</td>\n",
       "      <td>82</td>\n",
       "      <td>0.99906</td>\n",
       "      <td>0.99812</td>\n",
       "    </tr>\n",
       "    <tr>\n",
       "      <td>5</td>\n",
       "      <td>102</td>\n",
       "      <td>0.99907</td>\n",
       "      <td>0.99794</td>\n",
       "    </tr>\n",
       "    <tr>\n",
       "      <td>6</td>\n",
       "      <td>122</td>\n",
       "      <td>0.99910</td>\n",
       "      <td>0.99812</td>\n",
       "    </tr>\n",
       "    <tr>\n",
       "      <td>7</td>\n",
       "      <td>142</td>\n",
       "      <td>0.99911</td>\n",
       "      <td>0.99789</td>\n",
       "    </tr>\n",
       "    <tr>\n",
       "      <td>8</td>\n",
       "      <td>162</td>\n",
       "      <td>0.99899</td>\n",
       "      <td>0.99803</td>\n",
       "    </tr>\n",
       "    <tr>\n",
       "      <td>9</td>\n",
       "      <td>182</td>\n",
       "      <td>0.99898</td>\n",
       "      <td>0.99798</td>\n",
       "    </tr>\n",
       "  </tbody>\n",
       "</table>\n",
       "</div>"
      ],
      "text/plain": [
       "   sample_size  train_accuracy  test_accuracy\n",
       "0            2         1.00000        0.99803\n",
       "1           22         0.99941        0.99794\n",
       "2           42         0.99916        0.99789\n",
       "3           62         0.99906        0.99794\n",
       "4           82         0.99906        0.99812\n",
       "5          102         0.99907        0.99794\n",
       "6          122         0.99910        0.99812\n",
       "7          142         0.99911        0.99789\n",
       "8          162         0.99899        0.99803\n",
       "9          182         0.99898        0.99798"
      ]
     },
     "execution_count": 13,
     "metadata": {},
     "output_type": "execute_result"
    }
   ],
   "source": [
    "min_samples_split_dict = {'sample_size':[], 'train_accuracy':[], 'test_accuracy' :[]}\n",
    "\n",
    "for nsamples in range(2,200,20):\n",
    "    model = DecisionTreeClassifier(min_samples_split = nsamples)\n",
    "    model.fit(X_train, y_train)\n",
    "    score = model.score(X_train,y_train)\n",
    "    test_score = model.score(X_test,y_test)\n",
    "    min_samples_split_dict['sample_size'].append(nsamples)    \n",
    "    min_samples_split_dict['train_accuracy'].append(score)\n",
    "    min_samples_split_dict['test_accuracy'].append(test_score)\n",
    "    \n",
    "min_samples_split_df = pd.DataFrame(min_samples_split_dict)\n",
    "min_samples_split_df"
   ]
  },
  {
   "cell_type": "code",
   "execution_count": 14,
   "metadata": {},
   "outputs": [
    {
     "data": {
      "text/html": [
       "<div>\n",
       "<style scoped>\n",
       "    .dataframe tbody tr th:only-of-type {\n",
       "        vertical-align: middle;\n",
       "    }\n",
       "\n",
       "    .dataframe tbody tr th {\n",
       "        vertical-align: top;\n",
       "    }\n",
       "\n",
       "    .dataframe thead th {\n",
       "        text-align: right;\n",
       "    }\n",
       "</style>\n",
       "<table border=\"1\" class=\"dataframe\">\n",
       "  <thead>\n",
       "    <tr style=\"text-align: right;\">\n",
       "      <th></th>\n",
       "      <th>max_depth</th>\n",
       "      <th>train_accuracy</th>\n",
       "      <th>test_accuracy</th>\n",
       "    </tr>\n",
       "  </thead>\n",
       "  <tbody>\n",
       "    <tr>\n",
       "      <td>0</td>\n",
       "      <td>2</td>\n",
       "      <td>0.99807</td>\n",
       "      <td>0.99780</td>\n",
       "    </tr>\n",
       "    <tr>\n",
       "      <td>1</td>\n",
       "      <td>12</td>\n",
       "      <td>0.99916</td>\n",
       "      <td>0.99808</td>\n",
       "    </tr>\n",
       "    <tr>\n",
       "      <td>2</td>\n",
       "      <td>22</td>\n",
       "      <td>0.99939</td>\n",
       "      <td>0.99812</td>\n",
       "    </tr>\n",
       "    <tr>\n",
       "      <td>3</td>\n",
       "      <td>32</td>\n",
       "      <td>0.99951</td>\n",
       "      <td>0.99789</td>\n",
       "    </tr>\n",
       "    <tr>\n",
       "      <td>4</td>\n",
       "      <td>42</td>\n",
       "      <td>0.99972</td>\n",
       "      <td>0.99794</td>\n",
       "    </tr>\n",
       "    <tr>\n",
       "      <td>5</td>\n",
       "      <td>52</td>\n",
       "      <td>0.99988</td>\n",
       "      <td>0.99803</td>\n",
       "    </tr>\n",
       "    <tr>\n",
       "      <td>6</td>\n",
       "      <td>62</td>\n",
       "      <td>0.99998</td>\n",
       "      <td>0.99784</td>\n",
       "    </tr>\n",
       "    <tr>\n",
       "      <td>7</td>\n",
       "      <td>72</td>\n",
       "      <td>1.00000</td>\n",
       "      <td>0.99775</td>\n",
       "    </tr>\n",
       "    <tr>\n",
       "      <td>8</td>\n",
       "      <td>82</td>\n",
       "      <td>1.00000</td>\n",
       "      <td>0.99775</td>\n",
       "    </tr>\n",
       "    <tr>\n",
       "      <td>9</td>\n",
       "      <td>92</td>\n",
       "      <td>1.00000</td>\n",
       "      <td>0.99775</td>\n",
       "    </tr>\n",
       "  </tbody>\n",
       "</table>\n",
       "</div>"
      ],
      "text/plain": [
       "   max_depth  train_accuracy  test_accuracy\n",
       "0          2         0.99807        0.99780\n",
       "1         12         0.99916        0.99808\n",
       "2         22         0.99939        0.99812\n",
       "3         32         0.99951        0.99789\n",
       "4         42         0.99972        0.99794\n",
       "5         52         0.99988        0.99803\n",
       "6         62         0.99998        0.99784\n",
       "7         72         1.00000        0.99775\n",
       "8         82         1.00000        0.99775\n",
       "9         92         1.00000        0.99775"
      ]
     },
     "execution_count": 14,
     "metadata": {},
     "output_type": "execute_result"
    }
   ],
   "source": [
    "max_depth_dict = {'max_depth':[], 'train_accuracy':[], 'test_accuracy':[]}\n",
    "\n",
    "for nsamples in range(2,100,10):\n",
    "    model = DecisionTreeClassifier(max_depth = nsamples)\n",
    "    model.fit(X_train, y_train)\n",
    "    score = model.score(X_train,y_train)\n",
    "    test_sc = model.score(X_test, y_test)\n",
    "    max_depth_dict['max_depth'].append(nsamples)    \n",
    "    max_depth_dict['train_accuracy'].append(score)\n",
    "    max_depth_dict['test_accuracy'].append(test_sc)\n",
    "    \n",
    "max_depth_df = pd.DataFrame(max_depth_dict)\n",
    "max_depth_df"
   ]
  },
  {
   "cell_type": "code",
   "execution_count": 15,
   "metadata": {},
   "outputs": [],
   "source": [
    "clf = DecisionTreeClassifier(min_samples_split = 40, max_depth = 12)"
   ]
  },
  {
   "cell_type": "code",
   "execution_count": 16,
   "metadata": {},
   "outputs": [
    {
     "data": {
      "text/plain": [
       "DecisionTreeClassifier(class_weight=None, criterion='gini', max_depth=12,\n",
       "                       max_features=None, max_leaf_nodes=None,\n",
       "                       min_impurity_decrease=0.0, min_impurity_split=None,\n",
       "                       min_samples_leaf=1, min_samples_split=40,\n",
       "                       min_weight_fraction_leaf=0.0, presort=False,\n",
       "                       random_state=None, splitter='best')"
      ]
     },
     "execution_count": 16,
     "metadata": {},
     "output_type": "execute_result"
    }
   ],
   "source": [
    "clf.fit(X_train, y_train)"
   ]
  },
  {
   "cell_type": "markdown",
   "metadata": {},
   "source": [
    "Having chosen our hyperparameters, let's examine which features are the most important features."
   ]
  },
  {
   "cell_type": "code",
   "execution_count": 17,
   "metadata": {},
   "outputs": [],
   "source": [
    "# See which features are considered important\n",
    "f_imp = clf.feature_importances_\n",
    "\n",
    "feature_importance = 100.0 * (f_imp / f_imp.max())\n",
    "feature_names = vec.get_feature_names()"
   ]
  },
  {
   "cell_type": "code",
   "execution_count": 18,
   "metadata": {},
   "outputs": [],
   "source": [
    "# A holder for feature_name: feature_importance\n",
    "feats = {} \n",
    "for feature, importance in zip(feature_names, feature_importance):\n",
    "    feats[feature] = importance #add the name/value pair"
   ]
  },
  {
   "cell_type": "code",
   "execution_count": 19,
   "metadata": {},
   "outputs": [
    {
     "data": {
      "text/plain": [
       "<matplotlib.axes._subplots.AxesSubplot at 0x7fe0de2b5550>"
      ]
     },
     "execution_count": 19,
     "metadata": {},
     "output_type": "execute_result"
    },
    {
     "data": {
      "image/png": "[encoded data removed]",
      "text/plain": [
       "<Figure size 432x288 with 1 Axes>"
      ]
     },
     "metadata": {
      "needs_background": "light"
     },
     "output_type": "display_data"
    }
   ],
   "source": [
    "importances = pd.DataFrame.from_dict(feats, orient='index').rename(columns={0: 'Gini-importance'})\n",
    "importances.sort_values(by='Gini-importance', ascending=False)[:12].plot(kind='bar', rot=45)"
   ]
  },
  {
   "cell_type": "code",
   "execution_count": 20,
   "metadata": {},
   "outputs": [],
   "source": [
    "y_pred = clf.predict(X_test)"
   ]
  },
  {
   "cell_type": "code",
   "execution_count": 21,
   "metadata": {},
   "outputs": [
    {
     "data": {
      "text/plain": [
       "0.9979838709677419"
      ]
     },
     "execution_count": 21,
     "metadata": {},
     "output_type": "execute_result"
    }
   ],
   "source": [
    "clf.score(X_test, y_test)"
   ]
  },
  {
   "cell_type": "code",
   "execution_count": 22,
   "metadata": {},
   "outputs": [
    {
     "data": {
      "text/plain": [
       "array([21262,    14,    29,    23])"
      ]
     },
     "execution_count": 22,
     "metadata": {},
     "output_type": "execute_result"
    }
   ],
   "source": [
    "confusion_matrix(y_test, y_pred).ravel()"
   ]
  },
  {
   "cell_type": "code",
   "execution_count": 23,
   "metadata": {},
   "outputs": [],
   "source": [
    "# Export csv to compare y_pred and y_test labels\n",
    "guessed_label = pd.DataFrame(y_pred)\n",
    "actual_label = pd.DataFrame(y_test)\n",
    "actual_label = actual_label.reset_index()\n",
    "\n",
    "# Join with sentences\n",
    "original_sentence = pd.DataFrame(data_test['words_as_string'])\n",
    "original_sentence = original_sentence .reset_index()\n",
    "\n",
    "comparison_df = guessed_label.join(actual_label)\n",
    "comparison_df = comparison_df.drop(columns=['index'])\n",
    "\n",
    "comparison_df = comparison_df.join(original_sentence)\n",
    "comparison_df = comparison_df.drop(columns=['index'])"
   ]
  },
  {
   "cell_type": "code",
   "execution_count": 24,
   "metadata": {},
   "outputs": [],
   "source": [
    "output_file = os.path.join(path,'modeled_sentences.tsv')\n",
    "comparison_df.to_csv(output_file, sep='\\t', index = False)"
   ]
  },
  {
   "cell_type": "markdown",
   "metadata": {},
   "source": [
    "One of the reasons for such a poor classification with the False Negatives, it is because data  is too unbalanced. \n",
    "\n",
    "We are going to address that problem now."
   ]
  },
  {
   "cell_type": "markdown",
   "metadata": {},
   "source": [
    "### Balancing DataSet\n",
    "\n",
    "Although usually more data is better, we have a very few number of sentences that satisfy the condition of having \"coordinates\".\n",
    "\n",
    "In order to balance training, I will only take 300 random sentences that have no coordinates. This will be even with sentences that have coordinates and maybe this will create less noise. "
   ]
  },
  {
   "cell_type": "code",
   "execution_count": 25,
   "metadata": {},
   "outputs": [],
   "source": [
    "data = nlp_bib_neotoma[['_gddid', 'sentid', 'words', 'words_as_string', 'dms_regex', 'dd_regex', 'latnorth', 'longeast', 'intersection_words_lat', 'intersection_words_long']]"
   ]
  },
  {
   "cell_type": "code",
   "execution_count": 26,
   "metadata": {},
   "outputs": [],
   "source": [
    "data['has_both_lat_long_int'] = ((data['intersection_words_lat'].apply(len) != 0) & (data['intersection_words_long'].apply(len) != 0 ))\n",
    "\n",
    "# Map True to One and False to Zero\n",
    "data['has_both_lat_long_int'] = data['has_both_lat_long_int'].astype(int)"
   ]
  },
  {
   "cell_type": "code",
   "execution_count": 27,
   "metadata": {},
   "outputs": [],
   "source": [
    "# Reduce data to columns of interest\n",
    "data = data[['words_as_string', 'has_both_lat_long_int']]"
   ]
  },
  {
   "cell_type": "code",
   "execution_count": 28,
   "metadata": {},
   "outputs": [
    {
     "data": {
      "text/html": [
       "<div>\n",
       "<style scoped>\n",
       "    .dataframe tbody tr th:only-of-type {\n",
       "        vertical-align: middle;\n",
       "    }\n",
       "\n",
       "    .dataframe tbody tr th {\n",
       "        vertical-align: top;\n",
       "    }\n",
       "\n",
       "    .dataframe thead th {\n",
       "        text-align: right;\n",
       "    }\n",
       "</style>\n",
       "<table border=\"1\" class=\"dataframe\">\n",
       "  <thead>\n",
       "    <tr style=\"text-align: right;\">\n",
       "      <th></th>\n",
       "      <th>words_as_string</th>\n",
       "      <th>has_both_lat_long_int</th>\n",
       "    </tr>\n",
       "  </thead>\n",
       "  <tbody>\n",
       "    <tr>\n",
       "      <td>51694</td>\n",
       "      <td>DOI : 10.111 / j.1365-2699 .2010.0238 .</td>\n",
       "      <td>0</td>\n",
       "    </tr>\n",
       "    <tr>\n",
       "      <td>83952</td>\n",
       "      <td>On the other hand, laminated sediments (varves...</td>\n",
       "      <td>0</td>\n",
       "    </tr>\n",
       "  </tbody>\n",
       "</table>\n",
       "</div>"
      ],
      "text/plain": [
       "                                         words_as_string  \\\n",
       "51694            DOI : 10.111 / j.1365-2699 .2010.0238 .   \n",
       "83952  On the other hand, laminated sediments (varves...   \n",
       "\n",
       "       has_both_lat_long_int  \n",
       "51694                      0  \n",
       "83952                      0  "
      ]
     },
     "execution_count": 28,
     "metadata": {},
     "output_type": "execute_result"
    }
   ],
   "source": [
    "data0 = data[data['has_both_lat_long_int'] == 0]\n",
    "data0 = data0.sample(n = 300)\n",
    "data1 = data[data['has_both_lat_long_int'] == 1]\n",
    "data = pd.concat([data0, data1])\n",
    "data.head(2)"
   ]
  },
  {
   "cell_type": "code",
   "execution_count": 29,
   "metadata": {},
   "outputs": [],
   "source": [
    "# Define corpus for CountVectorizer\n",
    "corpus = data['words_as_string'].tolist()\n",
    "\n",
    "# Split data into training and testing sets\n",
    "data_train, data_test = train_test_split(data, test_size = 0.20, random_state = 12)"
   ]
  },
  {
   "cell_type": "code",
   "execution_count": 30,
   "metadata": {},
   "outputs": [],
   "source": [
    "# Translate words to vectors\n",
    "# This model can add stopwords, punctuation, etc.\n",
    "# For now, use all words.\n",
    "vec = CountVectorizer(min_df=2, \n",
    "                      tokenizer=nltk.word_tokenize)\n",
    "\n",
    "# Fit and transform training\n",
    "X_train = vec.fit_transform(data_train['words_as_string']) \n",
    "y_train = data_train['has_both_lat_long_int']\n",
    "\n",
    "# Transform test data without fitting\n",
    "X_test = vec.transform(data_test['words_as_string']) \n",
    "y_test = data_test['has_both_lat_long_int']"
   ]
  },
  {
   "cell_type": "markdown",
   "metadata": {},
   "source": [
    "Using same model since we are just comparing 'Data Balancing'"
   ]
  },
  {
   "cell_type": "code",
   "execution_count": 31,
   "metadata": {},
   "outputs": [
    {
     "data": {
      "text/plain": [
       "DecisionTreeClassifier(class_weight=None, criterion='gini', max_depth=12,\n",
       "                       max_features=None, max_leaf_nodes=None,\n",
       "                       min_impurity_decrease=0.0, min_impurity_split=None,\n",
       "                       min_samples_leaf=1, min_samples_split=40,\n",
       "                       min_weight_fraction_leaf=0.0, presort=False,\n",
       "                       random_state=None, splitter='best')"
      ]
     },
     "execution_count": 31,
     "metadata": {},
     "output_type": "execute_result"
    }
   ],
   "source": [
    "clf.fit(X_train, y_train)"
   ]
  },
  {
   "cell_type": "code",
   "execution_count": 32,
   "metadata": {},
   "outputs": [
    {
     "data": {
      "text/plain": [
       "0.8679245283018868"
      ]
     },
     "execution_count": 32,
     "metadata": {},
     "output_type": "execute_result"
    }
   ],
   "source": [
    "clf.score(X_test, y_test)"
   ]
  },
  {
   "cell_type": "code",
   "execution_count": 33,
   "metadata": {},
   "outputs": [
    {
     "data": {
      "text/plain": [
       "0.9457547169811321"
      ]
     },
     "execution_count": 33,
     "metadata": {},
     "output_type": "execute_result"
    }
   ],
   "source": [
    "clf.score(X_train, y_train)"
   ]
  },
  {
   "cell_type": "code",
   "execution_count": 45,
   "metadata": {},
   "outputs": [
    {
     "data": {
      "text/plain": [
       "array([0.00473934, 0.37931034, 1.        , 1.        , 0.00473934,\n",
       "       0.00473934, 0.37931034, 0.00473934, 0.00473934, 0.37931034,\n",
       "       0.00473934, 0.00473934, 0.42857143, 0.00473934, 1.        ,\n",
       "       1.        , 1.        , 1.        , 0.00473934, 0.37931034,\n",
       "       1.        , 1.        , 1.        , 0.00473934, 0.94594595,\n",
       "       0.00473934, 0.42857143, 0.37931034, 1.        , 1.        ,\n",
       "       0.37931034, 1.        , 1.        , 0.00473934, 0.77272727,\n",
       "       0.94594595, 0.00473934, 0.37931034, 1.        , 0.00473934,\n",
       "       1.        , 0.00473934, 0.37931034, 0.00473934, 1.        ,\n",
       "       0.94594595, 0.42857143, 1.        , 0.77272727, 0.94594595,\n",
       "       0.77272727, 0.00473934, 0.77272727, 0.00473934, 0.77272727,\n",
       "       1.        , 1.        , 0.77272727, 0.00473934, 1.        ,\n",
       "       0.00473934, 1.        , 1.        , 0.00473934, 0.77272727,\n",
       "       1.        , 0.00473934, 0.00473934, 0.77272727, 0.00473934,\n",
       "       1.        , 0.94594595, 0.00473934, 0.00473934, 0.77272727,\n",
       "       0.94594595, 0.00473934, 0.00473934, 0.00473934, 0.42857143,\n",
       "       0.94594595, 0.00473934, 0.77272727, 0.00473934, 0.00473934,\n",
       "       0.00473934, 0.00473934, 1.        , 0.37931034, 0.00473934,\n",
       "       0.00473934, 1.        , 0.00473934, 0.94594595, 0.42857143,\n",
       "       0.00473934, 1.        , 0.94594595, 0.00473934, 1.        ,\n",
       "       0.37931034, 0.00473934, 0.94594595, 0.00473934, 1.        ,\n",
       "       0.00473934])"
      ]
     },
     "execution_count": 45,
     "metadata": {},
     "output_type": "execute_result"
    }
   ],
   "source": [
    "clf.predict_proba(X_test)[:,1]"
   ]
  },
  {
   "cell_type": "code",
   "execution_count": 47,
   "metadata": {},
   "outputs": [],
   "source": [
    "import pickle\n",
    "\n",
    "filename = 'finalized_model.sav'\n",
    "pickle.dump(clf, open(filename, 'wb'))\n",
    "\n"
   ]
  },
  {
   "cell_type": "code",
   "execution_count": 52,
   "metadata": {},
   "outputs": [
    {
     "name": "stdout",
     "output_type": "stream",
     "text": [
      "0.8679245283018868\n"
     ]
    }
   ],
   "source": [
    "# load the model from disk\n",
    "loaded_model = pickle.load(open(filename, 'rb'))\n",
    "result = loaded_model.score(X_test, y_test)\n",
    "print(result)"
   ]
  },
  {
   "cell_type": "code",
   "execution_count": 34,
   "metadata": {},
   "outputs": [],
   "source": [
    "# See which features are considered important\n",
    "f_imp = clf.feature_importances_\n",
    "feature_importance = 100.0 * (f_imp / f_imp.max())\n",
    "feature_names = vec.get_feature_names()"
   ]
  },
  {
   "cell_type": "code",
   "execution_count": 35,
   "metadata": {},
   "outputs": [],
   "source": [
    "# A holder for feature_name: feature_importance\n",
    "feats = {} \n",
    "for feature, importance in zip(feature_names, feature_importance):\n",
    "    feats[feature] = importance #add the name/value pair"
   ]
  },
  {
   "cell_type": "code",
   "execution_count": 36,
   "metadata": {},
   "outputs": [
    {
     "data": {
      "text/plain": [
       "<matplotlib.axes._subplots.AxesSubplot at 0x7fe0dbe112d0>"
      ]
     },
     "execution_count": 36,
     "metadata": {},
     "output_type": "execute_result"
    },
    {
     "data": {
      "image/png": "[encoded data removed]",
      "text/plain": [
       "<Figure size 432x288 with 1 Axes>"
      ]
     },
     "metadata": {
      "needs_background": "light"
     },
     "output_type": "display_data"
    }
   ],
   "source": [
    "importances = pd.DataFrame.from_dict(feats, orient='index').rename(columns={0: 'Gini-importance'})\n",
    "importances.sort_values(by='Gini-importance', ascending=False)[:12].plot(kind='bar', rot=45)"
   ]
  },
  {
   "cell_type": "code",
   "execution_count": 37,
   "metadata": {},
   "outputs": [
    {
     "data": {
      "text/html": [
       "<div>\n",
       "<style scoped>\n",
       "    .dataframe tbody tr th:only-of-type {\n",
       "        vertical-align: middle;\n",
       "    }\n",
       "\n",
       "    .dataframe tbody tr th {\n",
       "        vertical-align: top;\n",
       "    }\n",
       "\n",
       "    .dataframe thead th {\n",
       "        text-align: right;\n",
       "    }\n",
       "</style>\n",
       "<table border=\"1\" class=\"dataframe\">\n",
       "  <thead>\n",
       "    <tr style=\"text-align: right;\">\n",
       "      <th></th>\n",
       "      <th>Gini-importance</th>\n",
       "    </tr>\n",
       "  </thead>\n",
       "  <tbody>\n",
       "    <tr>\n",
       "      <td>m</td>\n",
       "      <td>100.00000</td>\n",
       "    </tr>\n",
       "    <tr>\n",
       "      <td>n</td>\n",
       "      <td>52.09199</td>\n",
       "    </tr>\n",
       "    <tr>\n",
       "      <td>)</td>\n",
       "      <td>28.59326</td>\n",
       "    </tr>\n",
       "    <tr>\n",
       "      <td>41</td>\n",
       "      <td>8.94209</td>\n",
       "    </tr>\n",
       "    <tr>\n",
       "      <td>km</td>\n",
       "      <td>6.91247</td>\n",
       "    </tr>\n",
       "    <tr>\n",
       "      <td>...</td>\n",
       "      <td>...</td>\n",
       "    </tr>\n",
       "    <tr>\n",
       "      <td>74</td>\n",
       "      <td>2.61247</td>\n",
       "    </tr>\n",
       "    <tr>\n",
       "      <td>76</td>\n",
       "      <td>2.58794</td>\n",
       "    </tr>\n",
       "    <tr>\n",
       "      <td>polylepis</td>\n",
       "      <td>2.56988</td>\n",
       "    </tr>\n",
       "    <tr>\n",
       "      <td>communities</td>\n",
       "      <td>2.51849</td>\n",
       "    </tr>\n",
       "    <tr>\n",
       "      <td>water</td>\n",
       "      <td>2.46862</td>\n",
       "    </tr>\n",
       "  </tbody>\n",
       "</table>\n",
       "<p>15 rows × 1 columns</p>\n",
       "</div>"
      ],
      "text/plain": [
       "             Gini-importance\n",
       "m                  100.00000\n",
       "n                   52.09199\n",
       ")                   28.59326\n",
       "41                   8.94209\n",
       "km                   6.91247\n",
       "...                      ...\n",
       "74                   2.61247\n",
       "76                   2.58794\n",
       "polylepis            2.56988\n",
       "communities          2.51849\n",
       "water                2.46862\n",
       "\n",
       "[15 rows x 1 columns]"
      ]
     },
     "execution_count": 37,
     "metadata": {},
     "output_type": "execute_result"
    }
   ],
   "source": [
    "importances.sort_values(by='Gini-importance', ascending = False)[0:15]"
   ]
  },
  {
   "cell_type": "code",
   "execution_count": 38,
   "metadata": {},
   "outputs": [
    {
     "data": {
      "text/plain": [
       "array([50,  7,  7, 42])"
      ]
     },
     "execution_count": 38,
     "metadata": {},
     "output_type": "execute_result"
    }
   ],
   "source": [
    "y_pred = clf.predict(X_test)\n",
    "confusion_matrix(y_test, y_pred).ravel()"
   ]
  },
  {
   "cell_type": "markdown",
   "metadata": {},
   "source": [
    "We can see that we have improved significantly the percentage of True Positives and True Negatives."
   ]
  },
  {
   "cell_type": "code",
   "execution_count": 39,
   "metadata": {},
   "outputs": [
    {
     "data": {
      "text/plain": [
       "14"
      ]
     },
     "execution_count": 39,
     "metadata": {},
     "output_type": "execute_result"
    }
   ],
   "source": [
    "Y_pred = clf.predict(X_test)\n",
    "mse = sum((Y_pred - y_test)**2)\n",
    "mse"
   ]
  },
  {
   "cell_type": "code",
   "execution_count": 40,
   "metadata": {},
   "outputs": [],
   "source": [
    "guessed_label = pd.DataFrame(Y_pred)\n",
    "actual_label = pd.DataFrame(y_test)\n",
    "actual_label = actual_label.reset_index()\n",
    "\n",
    "original_sentence = pd.DataFrame(data_test['words_as_string'])\n",
    "original_sentence = original_sentence .reset_index()\n",
    "\n",
    "comp_guessed_test_sm = guessed_label.join(actual_label)\n",
    "comp_guessed_test_sm = comp_guessed_test_sm.drop(columns=['index'])\n",
    "\n",
    "comp_guessed_test_sm = comp_guessed_test_sm.join(original_sentence)\n",
    "comp_guessed_test_sm = comp_guessed_test_sm.drop(columns=['index'])\n",
    "# comp_guessed_test_sm"
   ]
  },
  {
   "cell_type": "code",
   "execution_count": 41,
   "metadata": {},
   "outputs": [],
   "source": [
    "import os\n",
    "output_file = os.path.join(path,'small_model_sentences.tsv')\n",
    "comp_guessed_test_sm.to_csv(output_file, sep='\\t', index = False)"
   ]
  },
  {
   "cell_type": "markdown",
   "metadata": {},
   "source": [
    "Conclusion for now:\n",
    "\n",
    "Use a Tree Classifier with a max depth of 12."
   ]
  },
  {
   "cell_type": "markdown",
   "metadata": {},
   "source": [
    "Notes: What about Word2Vec or GloVe embeddings?"
   ]
  },
  {
   "cell_type": "code",
   "execution_count": 12,
   "metadata": {},
   "outputs": [],
   "source": [
    "path = r'/Users/seiryu8808/Desktop'\n",
    "data_file = r'preprocessed_sentences.tsv'\n",
    "\n",
    "file = r'/Users/seiryu8808/Desktop/preprocessed_sentences.tsv'"
   ]
  },
  {
   "cell_type": "code",
   "execution_count": 13,
   "metadata": {},
   "outputs": [],
   "source": [
    "df = pd.read_csv(file, sep='\\t')"
   ]
  },
  {
   "cell_type": "code",
   "execution_count": 14,
   "metadata": {},
   "outputs": [
    {
     "data": {
      "text/html": [
       "<div>\n",
       "<style scoped>\n",
       "    .dataframe tbody tr th:only-of-type {\n",
       "        vertical-align: middle;\n",
       "    }\n",
       "\n",
       "    .dataframe tbody tr th {\n",
       "        vertical-align: top;\n",
       "    }\n",
       "\n",
       "    .dataframe thead th {\n",
       "        text-align: right;\n",
       "    }\n",
       "</style>\n",
       "<table border=\"1\" class=\"dataframe\">\n",
       "  <thead>\n",
       "    <tr style=\"text-align: right;\">\n",
       "      <th></th>\n",
       "      <th>_gddid</th>\n",
       "      <th>sentid</th>\n",
       "      <th>words</th>\n",
       "      <th>words_as_string</th>\n",
       "      <th>link_url</th>\n",
       "    </tr>\n",
       "  </thead>\n",
       "  <tbody>\n",
       "    <tr>\n",
       "      <td>0</td>\n",
       "      <td>54b43266e138239d8684efed</td>\n",
       "      <td>1</td>\n",
       "      <td>['Available', 'online', 'at', 'www.sciencedire...</td>\n",
       "      <td>Available online at www.sciencedirect.com Quat...</td>\n",
       "      <td>http://www.sciencedirect.com/science/article/p...</td>\n",
       "    </tr>\n",
       "    <tr>\n",
       "      <td>1</td>\n",
       "      <td>54b43266e138239d8684efed</td>\n",
       "      <td>2</td>\n",
       "      <td>['The', 'Chihuahueños', 'Bog', 'record', 'exte...</td>\n",
       "      <td>The Chihuahueños Bog record extends to over 15...</td>\n",
       "      <td>http://www.sciencedirect.com/science/article/p...</td>\n",
       "    </tr>\n",
       "    <tr>\n",
       "      <td>2</td>\n",
       "      <td>54b43266e138239d8684efed</td>\n",
       "      <td>3</td>\n",
       "      <td>['An', 'Artemisia', 'steppe', ',', 'then', 'an...</td>\n",
       "      <td>An Artemisia steppe, then an open Picea woodla...</td>\n",
       "      <td>http://www.sciencedirect.com/science/article/p...</td>\n",
       "    </tr>\n",
       "    <tr>\n",
       "      <td>3</td>\n",
       "      <td>54b43266e138239d8684efed</td>\n",
       "      <td>4</td>\n",
       "      <td>['C/N', 'ratios', ',', 'δ13C', 'and', 'δ15N', ...</td>\n",
       "      <td>C/N ratios, δ13C and δ15N values indicate both...</td>\n",
       "      <td>http://www.sciencedirect.com/science/article/p...</td>\n",
       "    </tr>\n",
       "    <tr>\n",
       "      <td>4</td>\n",
       "      <td>54b43266e138239d8684efed</td>\n",
       "      <td>5</td>\n",
       "      <td>['Higher', 'percentages', 'of', 'aquatic', 'al...</td>\n",
       "      <td>Higher percentages of aquatic algae and elevat...</td>\n",
       "      <td>http://www.sciencedirect.com/science/article/p...</td>\n",
       "    </tr>\n",
       "    <tr>\n",
       "      <td>...</td>\n",
       "      <td>...</td>\n",
       "      <td>...</td>\n",
       "      <td>...</td>\n",
       "      <td>...</td>\n",
       "      <td>...</td>\n",
       "    </tr>\n",
       "    <tr>\n",
       "      <td>111960</td>\n",
       "      <td>58d29193cf58f14928755ba5</td>\n",
       "      <td>80</td>\n",
       "      <td>['Ann', '.']</td>\n",
       "      <td>Ann .</td>\n",
       "      <td>http://www.tandfonline.com/doi/abs/10.1080/001...</td>\n",
       "    </tr>\n",
       "    <tr>\n",
       "      <td>111961</td>\n",
       "      <td>58d29193cf58f14928755ba5</td>\n",
       "      <td>81</td>\n",
       "      <td>['Sofia', 'Univ.', '.']</td>\n",
       "      <td>Sofia Univ. .</td>\n",
       "      <td>http://www.tandfonline.com/doi/abs/10.1080/001...</td>\n",
       "    </tr>\n",
       "    <tr>\n",
       "      <td>111962</td>\n",
       "      <td>58d29193cf58f14928755ba5</td>\n",
       "      <td>82</td>\n",
       "      <td>['Fac', '.']</td>\n",
       "      <td>Fac .</td>\n",
       "      <td>http://www.tandfonline.com/doi/abs/10.1080/001...</td>\n",
       "    </tr>\n",
       "    <tr>\n",
       "      <td>111963</td>\n",
       "      <td>58d29193cf58f14928755ba5</td>\n",
       "      <td>83</td>\n",
       "      <td>['Geol', '.']</td>\n",
       "      <td>Geol .</td>\n",
       "      <td>http://www.tandfonline.com/doi/abs/10.1080/001...</td>\n",
       "    </tr>\n",
       "    <tr>\n",
       "      <td>111964</td>\n",
       "      <td>58d29193cf58f14928755ba5</td>\n",
       "      <td>84</td>\n",
       "      <td>['Geogr.', ',', '85', ',', '181', '--', '198',...</td>\n",
       "      <td>Geogr85, 181198 (in Bulgarian with English sum...</td>\n",
       "      <td>http://www.tandfonline.com/doi/abs/10.1080/001...</td>\n",
       "    </tr>\n",
       "  </tbody>\n",
       "</table>\n",
       "<p>111965 rows × 5 columns</p>\n",
       "</div>"
      ],
      "text/plain": [
       "                          _gddid  sentid  \\\n",
       "0       54b43266e138239d8684efed       1   \n",
       "1       54b43266e138239d8684efed       2   \n",
       "2       54b43266e138239d8684efed       3   \n",
       "3       54b43266e138239d8684efed       4   \n",
       "4       54b43266e138239d8684efed       5   \n",
       "...                          ...     ...   \n",
       "111960  58d29193cf58f14928755ba5      80   \n",
       "111961  58d29193cf58f14928755ba5      81   \n",
       "111962  58d29193cf58f14928755ba5      82   \n",
       "111963  58d29193cf58f14928755ba5      83   \n",
       "111964  58d29193cf58f14928755ba5      84   \n",
       "\n",
       "                                                    words  \\\n",
       "0       ['Available', 'online', 'at', 'www.sciencedire...   \n",
       "1       ['The', 'Chihuahueños', 'Bog', 'record', 'exte...   \n",
       "2       ['An', 'Artemisia', 'steppe', ',', 'then', 'an...   \n",
       "3       ['C/N', 'ratios', ',', 'δ13C', 'and', 'δ15N', ...   \n",
       "4       ['Higher', 'percentages', 'of', 'aquatic', 'al...   \n",
       "...                                                   ...   \n",
       "111960                                       ['Ann', '.']   \n",
       "111961                            ['Sofia', 'Univ.', '.']   \n",
       "111962                                       ['Fac', '.']   \n",
       "111963                                      ['Geol', '.']   \n",
       "111964  ['Geogr.', ',', '85', ',', '181', '--', '198',...   \n",
       "\n",
       "                                          words_as_string  \\\n",
       "0       Available online at www.sciencedirect.com Quat...   \n",
       "1       The Chihuahueños Bog record extends to over 15...   \n",
       "2       An Artemisia steppe, then an open Picea woodla...   \n",
       "3       C/N ratios, δ13C and δ15N values indicate both...   \n",
       "4       Higher percentages of aquatic algae and elevat...   \n",
       "...                                                   ...   \n",
       "111960                                              Ann .   \n",
       "111961                                      Sofia Univ. .   \n",
       "111962                                              Fac .   \n",
       "111963                                             Geol .   \n",
       "111964  Geogr85, 181198 (in Bulgarian with English sum...   \n",
       "\n",
       "                                                 link_url  \n",
       "0       http://www.sciencedirect.com/science/article/p...  \n",
       "1       http://www.sciencedirect.com/science/article/p...  \n",
       "2       http://www.sciencedirect.com/science/article/p...  \n",
       "3       http://www.sciencedirect.com/science/article/p...  \n",
       "4       http://www.sciencedirect.com/science/article/p...  \n",
       "...                                                   ...  \n",
       "111960  http://www.tandfonline.com/doi/abs/10.1080/001...  \n",
       "111961  http://www.tandfonline.com/doi/abs/10.1080/001...  \n",
       "111962  http://www.tandfonline.com/doi/abs/10.1080/001...  \n",
       "111963  http://www.tandfonline.com/doi/abs/10.1080/001...  \n",
       "111964  http://www.tandfonline.com/doi/abs/10.1080/001...  \n",
       "\n",
       "[111965 rows x 5 columns]"
      ]
     },
     "execution_count": 14,
     "metadata": {},
     "output_type": "execute_result"
    }
   ],
   "source": [
    "df"
   ]
  },
  {
   "cell_type": "code",
   "execution_count": null,
   "metadata": {},
   "outputs": [],
   "source": []
  }
 ],
 "metadata": {
  "kernelspec": {
   "display_name": "Python 3",
   "language": "python",
   "name": "python3"
  },
  "language_info": {
   "codemirror_mode": {
    "name": "ipython",
    "version": 3
   },
   "file_extension": ".py",
   "mimetype": "text/x-python",
   "name": "python",
   "nbconvert_exporter": "python",
   "pygments_lexer": "ipython3",
   "version": "3.7.4"
  }
 },
 "nbformat": 4,
 "nbformat_minor": 4
}
